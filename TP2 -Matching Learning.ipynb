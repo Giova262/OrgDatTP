{
 "cells": [
  {
   "cell_type": "markdown",
   "metadata": {},
   "source": [
    "# Trabajo Practico 2 - Machine Learning"
   ]
  },
  {
   "cell_type": "code",
   "execution_count": 91,
   "metadata": {},
   "outputs": [],
   "source": [
    "%matplotlib inline\n",
    "import numpy as np\n",
    "import pandas as pd\n",
    "import seaborn as sns\n",
    "import matplotlib.pyplot as plt\n",
    "pd.set_option('display.max_columns', 100)\n",
    "pd.set_option('display.float_format', '{:.2f}'.format)\n",
    "\n",
    "# Importamos utilidades y modelos de sklearn\n",
    "from sklearn.preprocessing import Imputer\n",
    "from sklearn.model_selection import train_test_split\n",
    "from sklearn.dummy import DummyRegressor\n",
    "from sklearn.linear_model import LinearRegression\n",
    "from sklearn.tree import DecisionTreeRegressor\n",
    "from sklearn import linear_model"
   ]
  },
  {
   "cell_type": "markdown",
   "metadata": {},
   "source": [
    "# Importamos los datos de entrenamiento"
   ]
  },
  {
   "cell_type": "code",
   "execution_count": 92,
   "metadata": {},
   "outputs": [],
   "source": [
    "train = pd.read_csv('../Archivos CSV/TP2 -MachineLearning/train.csv'\n",
    "            ,dtype={\n",
    "             \"id\":np.int32\n",
    "            ,\"titulo\":'category'\n",
    "            ,\"fecha\":str \n",
    "            ,\"ciudad\": 'category'\n",
    "            ,\"provincia\": 'category'\n",
    "            ,\"tipodepropiedad\": 'category' })"
   ]
  },
  {
   "cell_type": "markdown",
   "metadata": {},
   "source": [
    "# Importamos los datos de Test\n",
    "\n",
    "Sobre este set de datos no tengo la columna 'precio' que es justamento lo que quiero predecir"
   ]
  },
  {
   "cell_type": "code",
   "execution_count": 93,
   "metadata": {},
   "outputs": [],
   "source": [
    "test = pd.read_csv('../Archivos CSV/TP2 -MachineLearning/test.csv'\n",
    "            ,dtype={\n",
    "             \"id\":np.int32\n",
    "            ,\"titulo\":'category'\n",
    "            ,\"fecha\":str \n",
    "            ,\"ciudad\": 'category'\n",
    "            ,\"provincia\": 'category'\n",
    "            ,\"tipodepropiedad\": 'category' })"
   ]
  },
  {
   "cell_type": "markdown",
   "metadata": {},
   "source": [
    "El formato del Submit es ( Id , Precio ) los ids son los que estan en el set de Test y el Precio el que predice mi modelo"
   ]
  },
  {
   "cell_type": "markdown",
   "metadata": {},
   "source": [
    " # Métrica: Root Mean Squared Logarithmic Error"
   ]
  },
  {
   "cell_type": "code",
   "execution_count": 94,
   "metadata": {},
   "outputs": [],
   "source": [
    "# Métrica de evaluación\n",
    "def RMSLE(actual, pred):\n",
    "    return (np.mean((np.log(actual + 1) - np.log(pred + 1)) ** 2)) **.5"
   ]
  },
  {
   "cell_type": "markdown",
   "metadata": {},
   "source": [
    "# 1º - Modelo: Constante"
   ]
  },
  {
   "cell_type": "code",
   "execution_count": 95,
   "metadata": {},
   "outputs": [
    {
     "name": "stdout",
     "output_type": "stream",
     "text": [
      "Train shapes: X=(180000, 14) y=(180000,)\n",
      "Test  shapes: X=(60000, 14)  y=(60000,)\n"
     ]
    }
   ],
   "source": [
    "# Tiramos todas las columnas no numéricas para que sklearn nos acepte el dataframe. \n",
    "# Igualmente, el DummyRegressor no va a utilizar ninguna más que el precio \n",
    "drop_cols = ['fecha', 'ciudad', 'idzona', 'tipodepropiedad', 'provincia', 'titulo', 'descripcion', 'direccion']\n",
    "X = train.drop(['precio'] + drop_cols, axis=1)\n",
    "y = train['precio']\n",
    "X_train, X_test, y_train, y_test = train_test_split(X, y, test_size=0.25, random_state=1)\n",
    "print(f\"Train shapes: X={X_train.shape} y={y_train.shape}\")\n",
    "print(f\"Test  shapes: X={X_test.shape}  y={y_test.shape}\")"
   ]
  },
  {
   "cell_type": "code",
   "execution_count": 98,
   "metadata": {},
   "outputs": [
    {
     "data": {
      "text/plain": [
       "DummyRegressor(constant=array(500), quantile=None, strategy='constant')"
      ]
     },
     "execution_count": 98,
     "metadata": {},
     "output_type": "execute_result"
    }
   ],
   "source": [
    "# Create a dummy regressor\n",
    "dummy_constant  = DummyRegressor(strategy='constant', constant=500)\n",
    "\n",
    "# \"Train\" dummy regressor ( Aca ya estoy listo para predecir)\n",
    "dummy_constant.fit(X_train[['id']], y_train)"
   ]
  },
  {
   "cell_type": "code",
   "execution_count": 99,
   "metadata": {},
   "outputs": [
    {
     "data": {
      "text/plain": [
       "array([500])"
      ]
     },
     "execution_count": 99,
     "metadata": {},
     "output_type": "execute_result"
    }
   ],
   "source": [
    "#Predigo valores Puntales modo de ejemplo\n",
    "dummy_constant.predict(np.array([[100]]))"
   ]
  },
  {
   "cell_type": "code",
   "execution_count": 100,
   "metadata": {},
   "outputs": [
    {
     "name": "stdout",
     "output_type": "stream",
     "text": [
      "RMSLE Error (train): 8.23876\n",
      "RMSLE Error (Test): 8.23005\n"
     ]
    }
   ],
   "source": [
    "#Calculo de Errores contra mi set de test\n",
    "pred = dummy_constant.predict(    test[['id']]     )\n",
    "dummy_rmsle = RMSLE(y_test, pred)\n",
    "#Calculo de Errores contra mi set de entrenamiento\n",
    "dummy_rmsle_train = RMSLE(y_train, dummy_constant.predict(X_train) )\n",
    "print(f\"RMSLE Error (train): {dummy_rmsle_train:.5f}\")\n",
    "print(f\"RMSLE Error (Test): {dummy_rmsle:.5f}\")"
   ]
  },
  {
   "cell_type": "code",
   "execution_count": null,
   "metadata": {},
   "outputs": [],
   "source": []
  },
  {
   "cell_type": "markdown",
   "metadata": {},
   "source": [
    "# 2º Modelo Promedio"
   ]
  },
  {
   "cell_type": "code",
   "execution_count": 102,
   "metadata": {},
   "outputs": [
    {
     "data": {
      "text/plain": [
       "DummyRegressor(constant=None, quantile=None, strategy='mean')"
      ]
     },
     "execution_count": 102,
     "metadata": {},
     "output_type": "execute_result"
    }
   ],
   "source": [
    "# Create a dummy regressor\n",
    "dummy_mean = DummyRegressor(strategy='mean')\n",
    "\n",
    "# \"Train\" dummy regressor\n",
    "dummy_mean.fit(X_train, y_train)"
   ]
  },
  {
   "cell_type": "code",
   "execution_count": 103,
   "metadata": {},
   "outputs": [
    {
     "name": "stdout",
     "output_type": "stream",
     "text": [
      "RMSLE Error (train): 0.90228\n",
      "RMSLE Error (Test): 0.90318\n"
     ]
    }
   ],
   "source": [
    "#Calculo de Errores contra mi set de test\n",
    "pred = dummy_mean.predict(    test[['id']]     )\n",
    "dummy_rmsle = RMSLE(y_test, pred)\n",
    "#Calculo de Errores contra mi set de entrenamiento\n",
    "dummy_rmsle_train = RMSLE(y_train, dummy_mean.predict(X_train) )\n",
    "print(f\"RMSLE Error (train): {dummy_rmsle_train:.5f}\")\n",
    "print(f\"RMSLE Error (Test): {dummy_rmsle:.5f}\")"
   ]
  },
  {
   "cell_type": "code",
   "execution_count": 74,
   "metadata": {},
   "outputs": [],
   "source": [
    "#Exporto csv con la prediccion\n",
    "pred = dummy_mean.predict(test) \n",
    "#Creo un dataframe con el formato ( id , precio (El precio predecido ))\n",
    "res = test['id'].to_frame()\n",
    "res.insert(1,'target', pred , True) \n",
    "#Exportamos la prediccion en formato csv sin labels\n",
    "res.to_csv(r'C:\\Users\\Giova\\JupiterLabFolder\\Archivos CSV\\res.csv',index=False , header=True)"
   ]
  },
  {
   "cell_type": "markdown",
   "metadata": {},
   "source": [
    "# 3º Modelo Regresion Lineal "
   ]
  },
  {
   "cell_type": "markdown",
   "metadata": {},
   "source": [
    "### metroscubiertos"
   ]
  },
  {
   "cell_type": "code",
   "execution_count": 104,
   "metadata": {},
   "outputs": [
    {
     "name": "stdout",
     "output_type": "stream",
     "text": [
      "RMSLE Error (train): 0.65673\n",
      "RMSLE Error (Test): 0.65648\n"
     ]
    }
   ],
   "source": [
    "X = train[['metroscubiertos']]\n",
    "y = train['precio']\n",
    "X_train, X_test, y_train, y_test = train_test_split(X, y, test_size=0.25, random_state=1)\n",
    "#print(f\"Train shapes: X={X_train.shape} y={y_train.shape}\")\n",
    "#print(f\"Test  shapes: X={X_test.shape}  y={y_test.shape}\")\n",
    "\n",
    "#Elimino los Nulls en los x de Entrenaniento y cuando voy a testear\n",
    "X_train = X_train.fillna(X_train.mean())\n",
    "X_test = X_test.fillna(X_test.mean())\n",
    "\n",
    "#Creo y Entreno el modelo de regresion Lineal\n",
    "reg = linear_model.LinearRegression()\n",
    "reg.fit(X_train, y_train)\n",
    "\n",
    "#Calculo de Errores contra mi set de test\n",
    "pred = reg.predict(X_test)\n",
    "dummy_rmsle = RMSLE(y_test, pred)\n",
    "#Calculo de Errores contra mi set de entrenamiento\n",
    "dummy_rmsle_train = RMSLE(y_train, reg.predict(X_train) )\n",
    "print(f\"RMSLE Error (train): {dummy_rmsle_train:.5f}\")\n",
    "print(f\"RMSLE Error (Test): {dummy_rmsle:.5f}\")"
   ]
  },
  {
   "cell_type": "code",
   "execution_count": 183,
   "metadata": {},
   "outputs": [],
   "source": [
    "#Exporto csv con la prediccion\n",
    "pred = reg.predict(test['metroscubiertos'].to_frame().fillna(X_test.mean())   ) \n",
    "#Creo un dataframe con el formato ( id , precio (El precio predecido ))\n",
    "res = test['id'].to_frame()\n",
    "res.insert(1,'target', pred , True) \n",
    "#Exportamos la prediccion en formato csv sin labels\n",
    "res.to_csv(r'C:\\Users\\Giova\\JupiterLabFolder\\Archivos CSV\\res.csv',index=False , header=True)"
   ]
  },
  {
   "cell_type": "markdown",
   "metadata": {},
   "source": [
    "### metrostotales"
   ]
  },
  {
   "cell_type": "code",
   "execution_count": 195,
   "metadata": {},
   "outputs": [
    {
     "name": "stdout",
     "output_type": "stream",
     "text": [
      "Train shapes: X=(180000, 1) y=(180000,)\n",
      "Test  shapes: X=(60000, 1)  y=(60000,)\n"
     ]
    }
   ],
   "source": [
    "X = train[['metrostotales']]\n",
    "y = train['precio']\n",
    "X_train, X_test, y_train, y_test = train_test_split(X, y, test_size=0.25, random_state=1)\n",
    "print(f\"Train shapes: X={X_train.shape} y={y_train.shape}\")\n",
    "print(f\"Test  shapes: X={X_test.shape}  y={y_test.shape}\")"
   ]
  },
  {
   "cell_type": "code",
   "execution_count": 196,
   "metadata": {},
   "outputs": [],
   "source": [
    "#Elimino los Nulls en los x de Entrenaniento y cuando voy a testear\n",
    "X_train = X_train.fillna(X_train.mean())\n",
    "X_test = X_test.fillna(X_test.mean())"
   ]
  },
  {
   "cell_type": "code",
   "execution_count": 197,
   "metadata": {},
   "outputs": [
    {
     "data": {
      "text/plain": [
       "LinearRegression(copy_X=True, fit_intercept=True, n_jobs=None, normalize=False)"
      ]
     },
     "execution_count": 197,
     "metadata": {},
     "output_type": "execute_result"
    }
   ],
   "source": [
    "#Creo y Entreno el modelo de regresion Lineal\n",
    "reg = linear_model.LinearRegression()\n",
    "reg.fit(X_train, y_train)"
   ]
  },
  {
   "cell_type": "code",
   "execution_count": 198,
   "metadata": {},
   "outputs": [
    {
     "name": "stdout",
     "output_type": "stream",
     "text": [
      "RMSLE Error (train): 0.77069\n",
      "RMSLE Error (Test): 0.76986\n"
     ]
    }
   ],
   "source": [
    "#Calculo de Errores contra mi set de test\n",
    "pred = reg.predict(X_test)\n",
    "dummy_rmsle = RMSLE(y_test, pred)\n",
    "#Calculo de Errores contra mi set de entrenamiento\n",
    "dummy_rmsle_train = RMSLE(y_train, reg.predict(X_train) )\n",
    "print(f\"RMSLE Error (train): {dummy_rmsle_train:.5f}\")\n",
    "print(f\"RMSLE Error (Test): {dummy_rmsle:.5f}\")"
   ]
  },
  {
   "cell_type": "markdown",
   "metadata": {},
   "source": [
    "### baños "
   ]
  },
  {
   "cell_type": "code",
   "execution_count": 207,
   "metadata": {},
   "outputs": [
    {
     "name": "stdout",
     "output_type": "stream",
     "text": [
      "Train shapes: X=(180000, 1) y=(180000,)\n",
      "Test  shapes: X=(60000, 1)  y=(60000,)\n"
     ]
    }
   ],
   "source": [
    "X = train[['banos']]\n",
    "y = train['precio']\n",
    "X_train, X_test, y_train, y_test = train_test_split(X, y, test_size=0.25, random_state=1)\n",
    "print(f\"Train shapes: X={X_train.shape} y={y_train.shape}\")\n",
    "print(f\"Test  shapes: X={X_test.shape}  y={y_test.shape}\")"
   ]
  },
  {
   "cell_type": "code",
   "execution_count": 208,
   "metadata": {},
   "outputs": [],
   "source": [
    "#Elimino los Nulls en los x de Entrenaniento y cuando voy a testear\n",
    "X_train = X_train.fillna(X_train.mean())\n",
    "X_test = X_test.fillna(X_test.mean())"
   ]
  },
  {
   "cell_type": "code",
   "execution_count": 209,
   "metadata": {},
   "outputs": [
    {
     "data": {
      "text/plain": [
       "LinearRegression(copy_X=True, fit_intercept=True, n_jobs=None, normalize=False)"
      ]
     },
     "execution_count": 209,
     "metadata": {},
     "output_type": "execute_result"
    }
   ],
   "source": [
    "#Creo y Entreno el modelo de regresion Lineal\n",
    "reg = linear_model.LinearRegression()\n",
    "reg.fit(X_train, y_train)"
   ]
  },
  {
   "cell_type": "code",
   "execution_count": 210,
   "metadata": {},
   "outputs": [
    {
     "name": "stdout",
     "output_type": "stream",
     "text": [
      "RMSLE Error (train): 0.71305\n",
      "RMSLE Error (Test): 0.71311\n"
     ]
    }
   ],
   "source": [
    "#Calculo de Errores contra mi set de test\n",
    "pred = reg.predict(X_test)\n",
    "dummy_rmsle = RMSLE(y_test, pred)\n",
    "#Calculo de Errores contra mi set de entrenamiento\n",
    "dummy_rmsle_train = RMSLE(y_train, reg.predict(X_train) )\n",
    "print(f\"RMSLE Error (train): {dummy_rmsle_train:.5f}\")\n",
    "print(f\"RMSLE Error (Test): {dummy_rmsle:.5f}\")"
   ]
  },
  {
   "cell_type": "markdown",
   "metadata": {},
   "source": [
    "### garages"
   ]
  },
  {
   "cell_type": "code",
   "execution_count": 212,
   "metadata": {},
   "outputs": [
    {
     "name": "stdout",
     "output_type": "stream",
     "text": [
      "RMSLE Error (train): 0.84448\n",
      "RMSLE Error (Test): 0.84314\n"
     ]
    }
   ],
   "source": [
    "X = train[['garages']]\n",
    "y = train['precio']\n",
    "X_train, X_test, y_train, y_test = train_test_split(X, y, test_size=0.25, random_state=1)\n",
    "\n",
    "#Elimino los Nulls en los x de Entrenaniento y cuando voy a testear\n",
    "X_train = X_train.fillna(X_train.mean())\n",
    "X_test = X_test.fillna(X_test.mean())\n",
    "\n",
    "#Creo y Entreno el modelo de regresion Lineal\n",
    "reg = linear_model.LinearRegression()\n",
    "reg.fit(X_train, y_train)\n",
    "\n",
    "#Calculo de Errores contra mi set de test\n",
    "pred = reg.predict(X_test)\n",
    "dummy_rmsle = RMSLE(y_test, pred)\n",
    "\n",
    "#Calculo de Errores contra mi set de entrenamiento\n",
    "dummy_rmsle_train = RMSLE(y_train, reg.predict(X_train) )\n",
    "print(f\"RMSLE Error (train): {dummy_rmsle_train:.5f}\")\n",
    "print(f\"RMSLE Error (Test): {dummy_rmsle:.5f}\")"
   ]
  },
  {
   "cell_type": "markdown",
   "metadata": {},
   "source": [
    "### habitaciones"
   ]
  },
  {
   "cell_type": "code",
   "execution_count": 213,
   "metadata": {},
   "outputs": [
    {
     "name": "stdout",
     "output_type": "stream",
     "text": [
      "RMSLE Error (train): 0.85682\n",
      "RMSLE Error (Test): 0.85757\n"
     ]
    }
   ],
   "source": [
    "X = train[['habitaciones']]\n",
    "y = train['precio']\n",
    "X_train, X_test, y_train, y_test = train_test_split(X, y, test_size=0.25, random_state=1)\n",
    "\n",
    "#Elimino los Nulls en los x de Entrenaniento y cuando voy a testear\n",
    "X_train = X_train.fillna(X_train.mean())\n",
    "X_test = X_test.fillna(X_test.mean())\n",
    "\n",
    "#Creo y Entreno el modelo de regresion Lineal\n",
    "reg = linear_model.LinearRegression()\n",
    "reg.fit(X_train, y_train)\n",
    "\n",
    "#Calculo de Errores contra mi set de test\n",
    "pred = reg.predict(X_test)\n",
    "dummy_rmsle = RMSLE(y_test, pred)\n",
    "\n",
    "#Calculo de Errores contra mi set de entrenamiento\n",
    "dummy_rmsle_train = RMSLE(y_train, reg.predict(X_train) )\n",
    "print(f\"RMSLE Error (train): {dummy_rmsle_train:.5f}\")\n",
    "print(f\"RMSLE Error (Test): {dummy_rmsle:.5f}\")"
   ]
  },
  {
   "cell_type": "markdown",
   "metadata": {},
   "source": [
    "### gimnasio"
   ]
  },
  {
   "cell_type": "code",
   "execution_count": 214,
   "metadata": {},
   "outputs": [
    {
     "name": "stdout",
     "output_type": "stream",
     "text": [
      "RMSLE Error (train): 0.89044\n",
      "RMSLE Error (Test): 0.89150\n"
     ]
    }
   ],
   "source": [
    "X = train[['gimnasio']]\n",
    "y = train['precio']\n",
    "X_train, X_test, y_train, y_test = train_test_split(X, y, test_size=0.25, random_state=1)\n",
    "\n",
    "#Elimino los Nulls en los x de Entrenaniento y cuando voy a testear\n",
    "X_train = X_train.fillna(X_train.mean())\n",
    "X_test = X_test.fillna(X_test.mean())\n",
    "\n",
    "#Creo y Entreno el modelo de regresion Lineal\n",
    "reg = linear_model.LinearRegression()\n",
    "reg.fit(X_train, y_train)\n",
    "\n",
    "#Calculo de Errores contra mi set de test\n",
    "pred = reg.predict(X_test)\n",
    "dummy_rmsle = RMSLE(y_test, pred)\n",
    "\n",
    "#Calculo de Errores contra mi set de entrenamiento\n",
    "dummy_rmsle_train = RMSLE(y_train, reg.predict(X_train) )\n",
    "print(f\"RMSLE Error (train): {dummy_rmsle_train:.5f}\")\n",
    "print(f\"RMSLE Error (Test): {dummy_rmsle:.5f}\")"
   ]
  },
  {
   "cell_type": "markdown",
   "metadata": {},
   "source": [
    "### usosmultiples"
   ]
  },
  {
   "cell_type": "code",
   "execution_count": 215,
   "metadata": {},
   "outputs": [
    {
     "name": "stdout",
     "output_type": "stream",
     "text": [
      "RMSLE Error (train): 0.89135\n",
      "RMSLE Error (Test): 0.89216\n"
     ]
    }
   ],
   "source": [
    "X = train[['usosmultiples']]\n",
    "y = train['precio']\n",
    "X_train, X_test, y_train, y_test = train_test_split(X, y, test_size=0.25, random_state=1)\n",
    "\n",
    "#Elimino los Nulls en los x de Entrenaniento y cuando voy a testear\n",
    "X_train = X_train.fillna(X_train.mean())\n",
    "X_test = X_test.fillna(X_test.mean())\n",
    "\n",
    "#Creo y Entreno el modelo de regresion Lineal\n",
    "reg = linear_model.LinearRegression()\n",
    "reg.fit(X_train, y_train)\n",
    "\n",
    "#Calculo de Errores contra mi set de test\n",
    "pred = reg.predict(X_test)\n",
    "dummy_rmsle = RMSLE(y_test, pred)\n",
    "\n",
    "#Calculo de Errores contra mi set de entrenamiento\n",
    "dummy_rmsle_train = RMSLE(y_train, reg.predict(X_train) )\n",
    "print(f\"RMSLE Error (train): {dummy_rmsle_train:.5f}\")\n",
    "print(f\"RMSLE Error (Test): {dummy_rmsle:.5f}\")"
   ]
  },
  {
   "cell_type": "markdown",
   "metadata": {},
   "source": [
    "### piscina"
   ]
  },
  {
   "cell_type": "code",
   "execution_count": 216,
   "metadata": {},
   "outputs": [
    {
     "name": "stdout",
     "output_type": "stream",
     "text": [
      "RMSLE Error (train): 0.89413\n",
      "RMSLE Error (Test): 0.89515\n"
     ]
    }
   ],
   "source": [
    "X = train[['piscina']]\n",
    "y = train['precio']\n",
    "X_train, X_test, y_train, y_test = train_test_split(X, y, test_size=0.25, random_state=1)\n",
    "\n",
    "#Elimino los Nulls en los x de Entrenaniento y cuando voy a testear\n",
    "X_train = X_train.fillna(X_train.mean())\n",
    "X_test = X_test.fillna(X_test.mean())\n",
    "\n",
    "#Creo y Entreno el modelo de regresion Lineal\n",
    "reg = linear_model.LinearRegression()\n",
    "reg.fit(X_train, y_train)\n",
    "\n",
    "#Calculo de Errores contra mi set de test\n",
    "pred = reg.predict(X_test)\n",
    "dummy_rmsle = RMSLE(y_test, pred)\n",
    "\n",
    "#Calculo de Errores contra mi set de entrenamiento\n",
    "dummy_rmsle_train = RMSLE(y_train, reg.predict(X_train) )\n",
    "print(f\"RMSLE Error (train): {dummy_rmsle_train:.5f}\")\n",
    "print(f\"RMSLE Error (Test): {dummy_rmsle:.5f}\")"
   ]
  },
  {
   "cell_type": "markdown",
   "metadata": {},
   "source": [
    "### longitud del titulo"
   ]
  },
  {
   "cell_type": "code",
   "execution_count": 218,
   "metadata": {},
   "outputs": [
    {
     "name": "stdout",
     "output_type": "stream",
     "text": [
      "RMSLE Error (train): 0.90225\n",
      "RMSLE Error (Test): 0.90318\n"
     ]
    }
   ],
   "source": [
    "train['tituloLen'] = train['titulo'].apply(len)\n",
    "X = train[['tituloLen']]\n",
    "y = train['precio']\n",
    "X_train, X_test, y_train, y_test = train_test_split(X, y, test_size=0.25, random_state=1)\n",
    "\n",
    "#Elimino los Nulls en los x de Entrenaniento y cuando voy a testear\n",
    "X_train = X_train.fillna(X_train.mean())\n",
    "X_test = X_test.fillna(X_test.mean())\n",
    "\n",
    "#Creo y Entreno el modelo de regresion Lineal\n",
    "reg = linear_model.LinearRegression()\n",
    "reg.fit(X_train, y_train)\n",
    "\n",
    "#Calculo de Errores contra mi set de test\n",
    "pred = reg.predict(X_test)\n",
    "dummy_rmsle = RMSLE(y_test, pred)\n",
    "\n",
    "#Calculo de Errores contra mi set de entrenamiento\n",
    "dummy_rmsle_train = RMSLE(y_train, reg.predict(X_train) )\n",
    "print(f\"RMSLE Error (train): {dummy_rmsle_train:.5f}\")\n",
    "print(f\"RMSLE Error (Test): {dummy_rmsle:.5f}\")"
   ]
  },
  {
   "cell_type": "markdown",
   "metadata": {},
   "source": [
    "### tipo de propiedad"
   ]
  },
  {
   "cell_type": "code",
   "execution_count": 219,
   "metadata": {},
   "outputs": [
    {
     "name": "stdout",
     "output_type": "stream",
     "text": [
      "RMSLE Error (train): 0.90122\n",
      "RMSLE Error (Test): 0.90258\n"
     ]
    }
   ],
   "source": [
    "\n",
    "a = train\n",
    "\n",
    "cleanup_nums = {\"tipodepropiedad\":     {\n",
    "    \"Casa\": 1,\n",
    "    \"Apartamento\": 2, \n",
    "    \"Casa en condominio\": 3,\n",
    "    \"Terreno\": 4,\n",
    "    \"Local Comercial\": 5,\n",
    "    \"Oficina comercial\": 6,\n",
    "    \"Bodega comercial\": 7,\n",
    "    \"Edificio\": 8,\n",
    "    \"Terreno comercial\": 9,\n",
    "    \"Casa uso de suelo\": 10,\n",
    "    \"Quinta Vacacional\": 11,\n",
    "    \"Duplex\": 12,\n",
    "    \"Villa\": 13,\n",
    "    \"Inmuebles productivos urbanos\": 14,\n",
    "    \"Rancho\": 15,\n",
    "    \"Local en centro comercial\": 16,\n",
    "    \"Departamento Compartido\": 17,\n",
    "    \"Otros\": 18,\n",
    "    \"Nave industrial\": 19,\n",
    "    \"Terreno industrial\": 20,\n",
    "    \"Huerta\": 21,\n",
    "    \"Lote\": 22,\n",
    "    \"Hospedaje\": 23,\n",
    "    \"Garage\": 24\n",
    "                                   \n",
    "}  }\n",
    "\n",
    "a.replace(cleanup_nums, inplace=True)\n",
    "\n",
    "\n",
    "X = a[['tipodepropiedad']]\n",
    "y = train['precio']\n",
    "X_train, X_test, y_train, y_test = train_test_split(X, y, test_size=0.25, random_state=1)\n",
    "\n",
    "#Elimino los Nulls en los x de Entrenaniento y cuando voy a testear\n",
    "X_train = X_train.fillna(X_train.mean())\n",
    "X_test = X_test.fillna(X_test.mean())\n",
    "\n",
    "#Creo y Entreno el modelo de regresion Lineal\n",
    "reg = linear_model.LinearRegression()\n",
    "reg.fit(X_train, y_train)\n",
    "\n",
    "#Calculo de Errores contra mi set de test\n",
    "pred = reg.predict(X_test)\n",
    "dummy_rmsle = RMSLE(y_test, pred)\n",
    "\n",
    "#Calculo de Errores contra mi set de entrenamiento\n",
    "dummy_rmsle_train = RMSLE(y_train, reg.predict(X_train) )\n",
    "print(f\"RMSLE Error (train): {dummy_rmsle_train:.5f}\")\n",
    "print(f\"RMSLE Error (Test): {dummy_rmsle:.5f}\")"
   ]
  },
  {
   "cell_type": "markdown",
   "metadata": {},
   "source": [
    "### fecha : año"
   ]
  },
  {
   "cell_type": "code",
   "execution_count": 229,
   "metadata": {},
   "outputs": [
    {
     "name": "stdout",
     "output_type": "stream",
     "text": [
      "RMSLE Error (train): 0.89211\n",
      "RMSLE Error (Test): 0.89394\n"
     ]
    }
   ],
   "source": [
    "a = train\n",
    "a['fecha'] = pd.to_datetime(a['fecha'])\n",
    "a['anio'] = a['fecha'].dt.year\n",
    "\n",
    "X = a[['anio']]\n",
    "y = train['precio']\n",
    "X_train, X_test, y_train, y_test = train_test_split(X, y, test_size=0.25, random_state=1)\n",
    "\n",
    "#Elimino los Nulls en los x de Entrenaniento y cuando voy a testear\n",
    "X_train = X_train.fillna(X_train.mean())\n",
    "X_test = X_test.fillna(X_test.mean())\n",
    "\n",
    "#Creo y Entreno el modelo de regresion Lineal\n",
    "reg = linear_model.LinearRegression()\n",
    "reg.fit(X_train, y_train)\n",
    "\n",
    "#Calculo de Errores contra mi set de test\n",
    "pred = reg.predict(X_test)\n",
    "dummy_rmsle = RMSLE(y_test, pred)\n",
    "\n",
    "#Calculo de Errores contra mi set de entrenamiento\n",
    "dummy_rmsle_train = RMSLE(y_train, reg.predict(X_train) )\n",
    "print(f\"RMSLE Error (train): {dummy_rmsle_train:.5f}\")\n",
    "print(f\"RMSLE Error (Test): {dummy_rmsle:.5f}\")"
   ]
  },
  {
   "cell_type": "markdown",
   "metadata": {},
   "source": [
    "# 4º Modelo : Regresion Lineal Multiple"
   ]
  },
  {
   "cell_type": "markdown",
   "metadata": {},
   "source": [
    "### 1"
   ]
  },
  {
   "cell_type": "code",
   "execution_count": 233,
   "metadata": {},
   "outputs": [
    {
     "name": "stdout",
     "output_type": "stream",
     "text": [
      "RMSLE Error (train): 0.62025\n",
      "RMSLE Error (Test): 0.61993\n"
     ]
    }
   ],
   "source": [
    "X = train[['metrostotales','metroscubiertos','banos']]\n",
    "y = train['precio']\n",
    "X_train, X_test, y_train, y_test = train_test_split(X, y, test_size=0.25, random_state=1)\n",
    "\n",
    "#Elimino los Nulls en los x de Entrenaniento y cuando voy a testear\n",
    "X_train = X_train.fillna(X_train.mean())\n",
    "X_test = X_test.fillna(X_test.mean())\n",
    "\n",
    "#Creo y Entreno el modelo de regresion Lineal\n",
    "reg = linear_model.LinearRegression()\n",
    "reg.fit(X_train, y_train)\n",
    "\n",
    "#Calculo de Errores contra mi set de test\n",
    "pred = reg.predict(X_test)\n",
    "dummy_rmsle = RMSLE(y_test, pred)\n",
    "\n",
    "#Calculo de Errores contra mi set de entrenamiento\n",
    "dummy_rmsle_train = RMSLE(y_train, reg.predict(X_train) )\n",
    "print(f\"RMSLE Error (train): {dummy_rmsle_train:.5f}\")\n",
    "print(f\"RMSLE Error (Test): {dummy_rmsle:.5f}\")"
   ]
  },
  {
   "cell_type": "markdown",
   "metadata": {},
   "source": [
    "### 2   "
   ]
  },
  {
   "cell_type": "code",
   "execution_count": 27,
   "metadata": {},
   "outputs": [
    {
     "name": "stdout",
     "output_type": "stream",
     "text": [
      "RMSLE Error (train): 0.60806\n",
      "RMSLE Error (Test): 0.60794\n"
     ]
    },
    {
     "name": "stderr",
     "output_type": "stream",
     "text": [
      "C:\\Users\\Giova\\Anaconda3\\lib\\site-packages\\ipykernel_launcher.py:3: RuntimeWarning: invalid value encountered in log\n",
      "  This is separate from the ipykernel package so we can avoid doing imports until\n",
      "C:\\Users\\Giova\\Anaconda3\\lib\\site-packages\\ipykernel_launcher.py:3: RuntimeWarning: invalid value encountered in log\n",
      "  This is separate from the ipykernel package so we can avoid doing imports until\n"
     ]
    }
   ],
   "source": [
    "X = train[['metrostotales','metroscubiertos','banos','habitaciones','gimnasio','usosmultiples','piscina']]\n",
    "y = train['precio']\n",
    "X_train, X_test, y_train, y_test = train_test_split(X, y, test_size=0.25, random_state=1)\n",
    "\n",
    "#Elimino los Nulls en los x de Entrenaniento y cuando voy a testear\n",
    "X_train = X_train.fillna(X_train.mean())\n",
    "X_test = X_test.fillna(X_test.mean())\n",
    "\n",
    "#Creo y Entreno el modelo de regresion Lineal\n",
    "reg = linear_model.LinearRegression()\n",
    "reg.fit(X_train, y_train)\n",
    "\n",
    "#Calculo de Errores contra mi set de test\n",
    "pred = reg.predict(X_test)\n",
    "dummy_rmsle = RMSLE(y_test, pred)\n",
    "\n",
    "#Calculo de Errores contra mi set de entrenamiento\n",
    "dummy_rmsle_train = RMSLE(y_train, reg.predict(X_train) )\n",
    "print(f\"RMSLE Error (train): {dummy_rmsle_train:.5f}\")\n",
    "print(f\"RMSLE Error (Test): {dummy_rmsle:.5f}\")"
   ]
  },
  {
   "cell_type": "code",
   "execution_count": 28,
   "metadata": {},
   "outputs": [],
   "source": [
    "b = test[['metrostotales','metroscubiertos','banos','habitaciones','gimnasio','usosmultiples','piscina']]\n",
    "b = b.fillna(b.mean())\n",
    "\n",
    "#Exporto csv con la prediccion\n",
    "pred = reg.predict(b) \n",
    "#Creo un dataframe con el formato ( id , precio (El precio predecido ))\n",
    "res = test['id'].to_frame()\n",
    "res.insert(1,'target', pred , True) \n",
    "#Exportamos la prediccion en formato csv sin labels\n",
    "res.to_csv(r'C:\\Users\\Giova\\JupiterLabFolder\\Archivos CSV\\res.csv',index=False , header=True)"
   ]
  },
  {
   "cell_type": "markdown",
   "metadata": {},
   "source": [
    "## 3"
   ]
  },
  {
   "cell_type": "code",
   "execution_count": 7,
   "metadata": {},
   "outputs": [
    {
     "name": "stdout",
     "output_type": "stream",
     "text": [
      "RMSLE Error (train): 0.60840\n",
      "RMSLE Error (Test): 0.60735\n"
     ]
    },
    {
     "name": "stderr",
     "output_type": "stream",
     "text": [
      "C:\\Users\\Giova\\Anaconda3\\lib\\site-packages\\ipykernel_launcher.py:3: RuntimeWarning: invalid value encountered in log\n",
      "  This is separate from the ipykernel package so we can avoid doing imports until\n",
      "C:\\Users\\Giova\\Anaconda3\\lib\\site-packages\\ipykernel_launcher.py:3: RuntimeWarning: invalid value encountered in log\n",
      "  This is separate from the ipykernel package so we can avoid doing imports until\n"
     ]
    }
   ],
   "source": [
    "X = train[['metrostotales','metroscubiertos','banos','gimnasio','habitaciones','antiguedad']]\n",
    "y = train['precio']\n",
    "X_train, X_test, y_train, y_test = train_test_split(X, y, test_size=0.25, random_state=1)\n",
    "\n",
    "#Elimino los Nulls en los x de Entrenaniento y cuando voy a testear\n",
    "X_train = X_train.fillna(X_train.mean())\n",
    "X_test = X_test.fillna(X_test.mean())\n",
    "\n",
    "#Creo y Entreno el modelo de regresion Lineal\n",
    "reg = linear_model.LinearRegression()\n",
    "reg.fit(X_train, y_train)\n",
    "\n",
    "#Calculo de Errores contra mi set de test\n",
    "pred = reg.predict(X_test)\n",
    "dummy_rmsle = RMSLE(y_test, pred)\n",
    "\n",
    "#Calculo de Errores contra mi set de entrenamiento\n",
    "dummy_rmsle_train = RMSLE(y_train, reg.predict(X_train) )\n",
    "print(f\"RMSLE Error (train): {dummy_rmsle_train:.5f}\")\n",
    "print(f\"RMSLE Error (Test): {dummy_rmsle:.5f}\")"
   ]
  },
  {
   "cell_type": "markdown",
   "metadata": {},
   "source": [
    "## 4"
   ]
  },
  {
   "cell_type": "code",
   "execution_count": 39,
   "metadata": {},
   "outputs": [
    {
     "name": "stdout",
     "output_type": "stream",
     "text": [
      "RMSLE Error (train): 0.61060\n",
      "RMSLE Error (Test): 0.60723\n"
     ]
    },
    {
     "name": "stderr",
     "output_type": "stream",
     "text": [
      "C:\\Users\\Giova\\Anaconda3\\lib\\site-packages\\ipykernel_launcher.py:3: RuntimeWarning: invalid value encountered in log\n",
      "  This is separate from the ipykernel package so we can avoid doing imports until\n",
      "C:\\Users\\Giova\\Anaconda3\\lib\\site-packages\\ipykernel_launcher.py:3: RuntimeWarning: invalid value encountered in log\n",
      "  This is separate from the ipykernel package so we can avoid doing imports until\n"
     ]
    }
   ],
   "source": [
    "a = train\n",
    "a['fecha'] = pd.to_datetime(a['fecha'])\n",
    "a['anio'] = a['fecha'].dt.year\n",
    "a['mes'] = a['fecha'].dt.month\n",
    "\n",
    "X = a[['anio','mes','metrostotales','centroscomercialescercanos','metroscubiertos','banos','habitaciones','idzona','gimnasio','usosmultiples']]\n",
    "y = a['precio']\n",
    "X_train, X_test, y_train, y_test = train_test_split(X, y, test_size=0.25, random_state=1)\n",
    "\n",
    "#Elimino los Nulls en los x de Entrenaniento y cuando voy a testear\n",
    "X_train = X_train.fillna(X_train.mean())\n",
    "X_test = X_test.fillna(X_test.mean())\n",
    "\n",
    "#Creo y Entreno el modelo de regresion Lineal\n",
    "reg = linear_model.LinearRegression()\n",
    "reg.fit(X_train, y_train)\n",
    "\n",
    "#Calculo de Errores contra mi set de test\n",
    "pred = reg.predict(X_test)\n",
    "dummy_rmsle = RMSLE(y_test, pred)\n",
    "\n",
    "#Calculo de Errores contra mi set de entrenamiento\n",
    "dummy_rmsle_train = RMSLE(y_train, reg.predict(X_train) )\n",
    "print(f\"RMSLE Error (train): {dummy_rmsle_train:.5f}\")\n",
    "print(f\"RMSLE Error (Test): {dummy_rmsle:.5f}\")"
   ]
  },
  {
   "cell_type": "markdown",
   "metadata": {},
   "source": [
    "# 5º Modelo : Random Forest Regresion"
   ]
  },
  {
   "cell_type": "code",
   "execution_count": 105,
   "metadata": {},
   "outputs": [],
   "source": [
    "# Load libraries\n",
    "from sklearn.ensemble import RandomForestRegressor\n",
    "from sklearn import datasets"
   ]
  },
  {
   "cell_type": "markdown",
   "metadata": {},
   "source": [
    "## 1 (Score 716812.39431)"
   ]
  },
  {
   "cell_type": "code",
   "execution_count": 6,
   "metadata": {},
   "outputs": [
    {
     "name": "stdout",
     "output_type": "stream",
     "text": [
      "RMSLE Error (train): 0.33201\n",
      "RMSLE Error (Test): 0.41936\n"
     ]
    }
   ],
   "source": [
    "# Load data with only two features\n",
    "\n",
    "X = train[['metrostotales','centroscomercialescercanos','metroscubiertos','banos','habitaciones','idzona','gimnasio','usosmultiples']]\n",
    "y = train['precio']\n",
    "X_train, X_test, y_train, y_test = train_test_split(X, y, test_size=0.25, random_state=1)\n",
    "\n",
    "#Elimino los Nulls en los x de Entrenaniento y cuando voy a testear\n",
    "X_train = X_train.fillna(X_train.mean())\n",
    "X_test = X_test.fillna(X_test.mean())\n",
    "\n",
    "# Create decision tree classifer object\n",
    "regr = RandomForestRegressor(random_state=0, n_jobs=-1,max_depth = 20,min_samples_split =20 ,n_estimators =50)\n",
    "\n",
    "# Train model\n",
    "model = regr.fit(X_train, y_train)\n",
    "\n",
    "#Calculo de Errores contra mi set de test\n",
    "pred = model.predict(X_test)\n",
    "dummy_rmsle = RMSLE(y_test, pred)\n",
    "\n",
    "#Calculo de Errores contra mi set de entrenamiento\n",
    "dummy_rmsle_train = RMSLE(y_train, model.predict(X_train) )\n",
    "print(f\"RMSLE Error (train): {dummy_rmsle_train:.5f}\")\n",
    "print(f\"RMSLE Error (Test): {dummy_rmsle:.5f}\")\n",
    "\n"
   ]
  },
  {
   "cell_type": "code",
   "execution_count": 94,
   "metadata": {},
   "outputs": [],
   "source": [
    "b = test[['metrostotales','centroscomercialescercanos','metroscubiertos','banos','habitaciones','idzona','gimnasio','usosmultiples']]\n",
    "b = b.fillna(b.mean())\n",
    "\n",
    "#Exporto csv con la prediccion\n",
    "pred = model.predict(b) \n",
    "#Creo un dataframe con el formato ( id , precio (El precio predecido ))\n",
    "res = test['id'].to_frame()\n",
    "res.insert(1,'target', pred , True) \n",
    "#Exportamos la prediccion en formato csv sin labels\n",
    "res.to_csv(r'C:\\Users\\Giova\\JupiterLabFolder\\Archivos CSV\\res.csv',index=False , header=True)"
   ]
  },
  {
   "cell_type": "markdown",
   "metadata": {},
   "source": [
    "## 2   ( score 702024.74347 ) "
   ]
  },
  {
   "cell_type": "code",
   "execution_count": 137,
   "metadata": {},
   "outputs": [
    {
     "name": "stdout",
     "output_type": "stream",
     "text": [
      "RMSLE Error (train): 0.22532\n",
      "RMSLE Error (Test): 0.40942\n"
     ]
    }
   ],
   "source": [
    "# Load data with only two features\n",
    "\n",
    "X = train[['metrostotales','centroscomercialescercanos','metroscubiertos','banos','habitaciones','idzona','gimnasio','usosmultiples']]\n",
    "y = train['precio']\n",
    "X_train, X_test, y_train, y_test = train_test_split(X, y, test_size=0.25, random_state=1)\n",
    "\n",
    "#Elimino los Nulls en los x de Entrenaniento y cuando voy a testear\n",
    "X_train = X_train.fillna(X_train.mean())\n",
    "X_test = X_test.fillna(X_test.mean())\n",
    "\n",
    "# Create decision tree classifer object\n",
    "regr = RandomForestRegressor(random_state=0, n_jobs=-1,max_depth = 100,max_features =6,min_samples_split = 4 ,n_estimators =200)\n",
    "\n",
    "# Train model\n",
    "model = regr.fit(X_train, y_train)\n",
    "\n",
    "#Calculo de Errores contra mi set de test\n",
    "pred = model.predict(X_test)\n",
    "dummy_rmsle = RMSLE(y_test, pred)\n",
    "\n",
    "#Calculo de Errores contra mi set de entrenamiento\n",
    "dummy_rmsle_train = RMSLE(y_train, model.predict(X_train) )\n",
    "print(f\"RMSLE Error (train): {dummy_rmsle_train:.5f}\")\n",
    "print(f\"RMSLE Error (Test): {dummy_rmsle:.5f}\")"
   ]
  },
  {
   "cell_type": "code",
   "execution_count": 138,
   "metadata": {},
   "outputs": [],
   "source": [
    "b = test[['metrostotales','centroscomercialescercanos','metroscubiertos','banos','habitaciones','idzona','gimnasio','usosmultiples']]\n",
    "b = b.fillna(b.mean())\n",
    "\n",
    "#Exporto csv con la prediccion\n",
    "pred = model.predict(b) \n",
    "#Creo un dataframe con el formato ( id , precio (El precio predecido ))\n",
    "res = test['id'].to_frame()\n",
    "res.insert(1,'target', pred , True) \n",
    "#Exportamos la prediccion en formato csv sin labels\n",
    "res.to_csv(r'C:\\Users\\Giova\\JupiterLabFolder\\Archivos CSV\\res.csv',index=False , header=True)"
   ]
  },
  {
   "cell_type": "markdown",
   "metadata": {},
   "source": [
    "## 3 (Score 669492.31492) "
   ]
  },
  {
   "cell_type": "code",
   "execution_count": 217,
   "metadata": {},
   "outputs": [
    {
     "name": "stdout",
     "output_type": "stream",
     "text": [
      "RMSLE Error (train): 0.12171\n",
      "RMSLE Error (Test): 0.39234\n"
     ]
    }
   ],
   "source": [
    "a = train\n",
    "a['fecha'] = pd.to_datetime(a['fecha'])\n",
    "a['anio'] = a['fecha'].dt.year\n",
    "a['mes'] = a['fecha'].dt.month\n",
    "a['dia'] = a['fecha'].dt.dayofweek\n",
    "\n",
    "# Load data with only two features\n",
    "\n",
    "X = a[['anio','mes','metrostotales','centroscomercialescercanos','piscina','escuelascercanas','metroscubiertos','banos','habitaciones','lat','lng','idzona','gimnasio','usosmultiples']]\n",
    "y = a['precio']\n",
    "X_train, X_test, y_train, y_test = train_test_split(X, y, test_size=0.25, random_state=1)\n",
    "\n",
    "#Elimino los Nulls en los x de Entrenaniento y cuando voy a testear\n",
    "X_train = X_train.fillna(X_train.mean())\n",
    "X_test = X_test.fillna(X_test.mean())\n",
    "\n",
    "# Create decision tree classifer object\n",
    "regr = RandomForestRegressor(random_state=0,bootstrap =False,min_samples_leaf=2 ,n_jobs=-1,max_depth = 100,max_features = 8 ,min_samples_split = 2 ,n_estimators =99)\n",
    "\n",
    "# Train model\n",
    "model = regr.fit(X_train, y_train)\n",
    "\n",
    "#Calculo de Errores contra mi set de test\n",
    "pred = model.predict(X_test)\n",
    "dummy_rmsle = RMSLE(y_test, pred)\n",
    "\n",
    "#Calculo de Errores contra mi set de entrenamiento\n",
    "dummy_rmsle_train = RMSLE(y_train, model.predict(X_train) )\n",
    "print(f\"RMSLE Error (train): {dummy_rmsle_train:.5f}\")\n",
    "print(f\"RMSLE Error (Test): {dummy_rmsle:.5f}\")"
   ]
  },
  {
   "cell_type": "code",
   "execution_count": 219,
   "metadata": {},
   "outputs": [],
   "source": [
    "c = test\n",
    "c['fecha'] = pd.to_datetime(c['fecha'])\n",
    "c['anio'] = c['fecha'].dt.year\n",
    "c['mes'] = c['fecha'].dt.month\n",
    "c['dia'] = c['fecha'].dt.dayofweek\n",
    "\n",
    "b = c[['anio','mes','metrostotales','centroscomercialescercanos','piscina','escuelascercanas','metroscubiertos','banos','habitaciones','lat','lng','idzona','gimnasio','usosmultiples']]\n",
    "b = b.fillna(b.mean())\n",
    "\n",
    "#Exporto csv con la prediccion\n",
    "pred = model.predict(b) \n",
    "#Creo un dataframe con el formato ( id , precio (El precio predecido ))\n",
    "res = test['id'].to_frame()\n",
    "res.insert(1,'target', pred , True) \n",
    "#Exportamos la prediccion en formato csv sin labels\n",
    "res.to_csv(r'C:\\Users\\Giova\\JupiterLabFolder\\Archivos CSV\\res.csv',index=False , header=True)"
   ]
  },
  {
   "cell_type": "markdown",
   "metadata": {},
   "source": [
    "## 4  score 583658.64804"
   ]
  },
  {
   "cell_type": "code",
   "execution_count": 13,
   "metadata": {},
   "outputs": [
    {
     "name": "stdout",
     "output_type": "stream",
     "text": [
      "RMSLE Error (train): 0.13892\n",
      "RMSLE Error (Test): 0.35932\n"
     ]
    }
   ],
   "source": [
    "\n",
    "a = train\n",
    "\n",
    "cleanup_nums = {\"tipodepropiedad\":     {\n",
    "    \"Casa\": 1,\n",
    "    \"Apartamento\": 2, \n",
    "    \"Casa en condominio\": 3,\n",
    "    \"Terreno\": 4,\n",
    "    \"Local Comercial\": 5,\n",
    "    \"Oficina comercial\": 6,\n",
    "    \"Bodega comercial\": 7,\n",
    "    \"Edificio\": 8,\n",
    "    \"Terreno comercial\": 9,\n",
    "    \"Casa uso de suelo\": 10,\n",
    "    \"Quinta Vacacional\": 11,\n",
    "    \"Duplex\": 12,\n",
    "    \"Villa\": 13,\n",
    "    \"Inmuebles productivos urbanos\": 14,\n",
    "    \"Rancho\": 15,\n",
    "    \"Local en centro comercial\": 16,\n",
    "    \"Departamento Compartido\": 17,\n",
    "    \"Otros\": 18,\n",
    "    \"Nave industrial\": 19,\n",
    "    \"Terreno industrial\": 20,\n",
    "    \"Huerta\": 21,\n",
    "    \"Lote\": 22,\n",
    "    \"Hospedaje\": 23,\n",
    "    \"Garage\": 24\n",
    "                                   \n",
    "}  }\n",
    "\n",
    "a = a.replace(cleanup_nums)\n",
    "#a['tituloLen'] = a['titulo'].apply(len)\n",
    "\n",
    "a['fecha'] = pd.to_datetime(a['fecha'])\n",
    "a['anio'] = a['fecha'].dt.year\n",
    "a['mes'] = a['fecha'].dt.month\n",
    "a['dia'] = a['fecha'].dt.dayofweek\n",
    "\n",
    "a = a.fillna(X_train.mean())\n",
    "\n",
    "# Load data with only two features\n",
    "\n",
    "X = a[['tipodepropiedad','anio','metrostotales','antiguedad','centroscomercialescercanos','garages','piscina','metroscubiertos','banos','habitaciones','lat','lng','idzona','gimnasio','usosmultiples']]\n",
    "y = a['precio']\n",
    "X_train, X_test, y_train, y_test = train_test_split(X, y, test_size=0.25, random_state=1)\n",
    "\n",
    "#Elimino los Nulls en los x de Entrenaniento y cuando voy a testear\n",
    "X_train = X_train.fillna(X_train.mean())\n",
    "X_test = X_test.fillna(X_test.mean())\n",
    "\n",
    "# Create decision tree classifer object\n",
    "regr = RandomForestRegressor(random_state=0,bootstrap =False,min_samples_leaf=2 ,n_jobs=-1,max_depth = 100,max_features = 5 ,min_samples_split = 2 ,n_estimators = 400)\n",
    "\n",
    "# Train model\n",
    "model = regr.fit(X_train, y_train)\n",
    "\n",
    "#Calculo de Errores contra mi set de test\n",
    "pred = model.predict(X_test)\n",
    "dummy_rmsle = RMSLE(y_test, pred)\n",
    "\n",
    "#Calculo de Errores contra mi set de entrenamiento\n",
    "dummy_rmsle_train = RMSLE(y_train, model.predict(X_train) )\n",
    "print(f\"RMSLE Error (train): {dummy_rmsle_train:.5f}\")\n",
    "print(f\"RMSLE Error (Test): {dummy_rmsle:.5f}\")"
   ]
  },
  {
   "cell_type": "code",
   "execution_count": 10,
   "metadata": {},
   "outputs": [
    {
     "name": "stderr",
     "output_type": "stream",
     "text": [
      "C:\\Users\\Giova\\Anaconda3\\lib\\site-packages\\pandas\\core\\generic.py:6287: SettingWithCopyWarning: \n",
      "A value is trying to be set on a copy of a slice from a DataFrame\n",
      "\n",
      "See the caveats in the documentation: http://pandas.pydata.org/pandas-docs/stable/user_guide/indexing.html#returning-a-view-versus-a-copy\n",
      "  self._update_inplace(new_data)\n",
      "C:\\Users\\Giova\\Anaconda3\\lib\\site-packages\\pandas\\core\\frame.py:4244: SettingWithCopyWarning: \n",
      "A value is trying to be set on a copy of a slice from a DataFrame\n",
      "\n",
      "See the caveats in the documentation: http://pandas.pydata.org/pandas-docs/stable/user_guide/indexing.html#returning-a-view-versus-a-copy\n",
      "  **kwargs\n"
     ]
    }
   ],
   "source": [
    "c = test\n",
    "cleanup_nums = {\"tipodepropiedad\":     {\n",
    "    \"Casa\": 1,\n",
    "    \"Apartamento\": 2, \n",
    "    \"Casa en condominio\": 3,\n",
    "    \"Terreno\": 4,\n",
    "    \"Local Comercial\": 5,\n",
    "    \"Oficina comercial\": 6,\n",
    "    \"Bodega comercial\": 7,\n",
    "    \"Edificio\": 8,\n",
    "    \"Terreno comercial\": 9,\n",
    "    \"Casa uso de suelo\": 10,\n",
    "    \"Quinta Vacacional\": 11,\n",
    "    \"Duplex\": 12,\n",
    "    \"Villa\": 13,\n",
    "    \"Inmuebles productivos urbanos\": 14,\n",
    "    \"Rancho\": 15,\n",
    "    \"Local en centro comercial\": 16,\n",
    "    \"Departamento Compartido\": 17,\n",
    "    \"Otros\": 18,\n",
    "    \"Nave industrial\": 19,\n",
    "    \"Terreno industrial\": 20,\n",
    "    \"Huerta\": 21,\n",
    "    \"Lote\": 22,\n",
    "    \"Hospedaje\": 23,\n",
    "    \"Garage\": 24\n",
    "                                   \n",
    "}  }\n",
    "\n",
    "c = c.replace(cleanup_nums)\n",
    "c['fecha'] = pd.to_datetime(c['fecha'])\n",
    "c['anio'] = c['fecha'].dt.year\n",
    "\n",
    "c = c.fillna(X_train.mean())\n",
    "\n",
    "b = c[['tipodepropiedad','anio','metrostotales','idzona','antiguedad','centroscomercialescercanos','garages','piscina','metroscubiertos','banos','habitaciones','lat','lng','idzona','gimnasio','usosmultiples']]\n",
    "b = b.fillna(b.mean())\n",
    "\n",
    "#Exporto csv con la prediccion\n",
    "pred = model.predict(b) \n",
    "#Creo un dataframe con el formato ( id , precio (El precio predecido ))\n",
    "res = test['id'].to_frame()\n",
    "res.insert(1,'target', pred , True) \n",
    "#Exportamos la prediccion en formato csv sin labels\n",
    "res.to_csv(r'C:\\Users\\Giova\\JupiterLabFolder\\Archivos CSV\\res.csv',index=False , header=True)"
   ]
  },
  {
   "cell_type": "markdown",
   "metadata": {},
   "source": [
    "## 5"
   ]
  },
  {
   "cell_type": "code",
   "execution_count": 88,
   "metadata": {},
   "outputs": [
    {
     "name": "stdout",
     "output_type": "stream",
     "text": [
      "RMSLE Error (train): 0.09347\n",
      "RMSLE Error (Test): 0.35775\n"
     ]
    }
   ],
   "source": [
    "#Preparo los datos\n",
    "\n",
    "cleanup_nums = {\"tipodepropiedad\":     {\n",
    "    \"Casa\": 1,\n",
    "    \"Apartamento\": 2, \n",
    "    \"Casa en condominio\": 3,\n",
    "    \"Terreno\": 4,\n",
    "    \"Local Comercial\": 5,\n",
    "    \"Oficina comercial\": 6,\n",
    "    \"Bodega comercial\": 7,\n",
    "    \"Edificio\": 8,\n",
    "    \"Terreno comercial\": 9,\n",
    "    \"Casa uso de suelo\": 10,\n",
    "    \"Quinta Vacacional\": 11,\n",
    "    \"Duplex\": 12,\n",
    "    \"Villa\": 13,\n",
    "    \"Inmuebles productivos urbanos\": 14,\n",
    "    \"Rancho\": 15,\n",
    "    \"Local en centro comercial\": 16,\n",
    "    \"Departamento Compartido\": 17,\n",
    "    \"Otros\": 18,\n",
    "    \"Nave industrial\": 19,\n",
    "    \"Terreno industrial\": 20,\n",
    "    \"Huerta\": 21,\n",
    "    \"Lote\": 22,\n",
    "    \"Hospedaje\": 23,\n",
    "    \"Garage\": 24\n",
    "                                   \n",
    "}  }\n",
    "\n",
    "a = train\n",
    "a = a.replace(cleanup_nums)\n",
    "\n",
    "a['fecha'] = pd.to_datetime(a['fecha'])\n",
    "a['anio'] = a['fecha'].dt.year\n",
    "a['mes'] = a['fecha'].dt.month\n",
    "\n",
    "\n",
    "drop_cols = [ 'ciudad', 'provincia', 'titulo', 'descripcion', 'direccion']\n",
    "a = a.drop(drop_cols, axis=1)\n",
    "\n",
    "#Relleno los nulls\n",
    "a[['tipodepropiedad']] = a[['tipodepropiedad']].fillna(value=3)\n",
    "a[['metroscubiertos']] = a[['metroscubiertos']].fillna(value= (a['metroscubiertos'].mean())  )\n",
    "a[['antiguedad']] = a[['antiguedad']].fillna(value= (a['antiguedad'].mean()) )\n",
    "a[['habitaciones']] = a[['habitaciones']].fillna(value= (a['habitaciones'].mean()) )\n",
    "a[['banos']] = a[['banos']].fillna(value= (a['habitaciones'].mean()))\n",
    "a[['idzona']] = a[['idzona']].fillna(value=(a['idzona'].mean()))\n",
    "a[['garages']] = a[['garages']].fillna(value=(a['garages'].mean()))\n",
    "a[['metrostotales']] = a[['metrostotales']].fillna(value=(a['metrostotales'].mean()))\n",
    "a[['lng']] = a[['lng']].fillna(value=(a['lng'].mean()))\n",
    "a[['lat']] = a[['lat']].fillna(value=(a['lat'].mean()))\n",
    "\n",
    "\n",
    "# Load data with only two features\n",
    "\n",
    "X = a[['tipodepropiedad','anio','mes','metrostotales','antiguedad','garages','piscina','metroscubiertos','banos','habitaciones','lat','lng','idzona','gimnasio','usosmultiples']]\n",
    "y = a['precio']\n",
    "\n",
    "X_train, X_test, y_train, y_test = train_test_split(X, y, test_size=0.25, random_state=1)\n",
    "\n",
    "#Elimino los Nulls en los x de Entrenaniento y cuando voy a testear\n",
    "X_train = X_train.fillna(X_train.mean())\n",
    "X_test = X_test.fillna(X_test.mean())\n",
    "\n",
    "# Create decision tree classifer object\n",
    "regr = RandomForestRegressor(random_state=0,bootstrap =False,min_samples_leaf=2 ,n_jobs=-1,max_depth = 80,max_features = 10 ,min_samples_split = 2 ,n_estimators = 500)\n",
    "\n",
    "# Train model\n",
    "model = regr.fit(X_train, y_train)\n",
    "\n",
    "#Calculo de Errores contra mi set de test\n",
    "pred = model.predict(X_test)\n",
    "dummy_rmsle = RMSLE(y_test, pred)\n",
    "\n",
    "#Calculo de Errores contra mi set de entrenamiento\n",
    "dummy_rmsle_train = RMSLE(y_train, model.predict(X_train) )\n",
    "print(f\"RMSLE Error (train): {dummy_rmsle_train:.5f}\")\n",
    "print(f\"RMSLE Error (Test): {dummy_rmsle:.5f}\")"
   ]
  },
  {
   "cell_type": "code",
   "execution_count": 89,
   "metadata": {},
   "outputs": [],
   "source": [
    "\n",
    "cleanup_nums = {\"tipodepropiedad\":     {\n",
    "    \"Casa\": 1,\n",
    "    \"Apartamento\": 2, \n",
    "    \"Casa en condominio\": 3,\n",
    "    \"Terreno\": 4,\n",
    "    \"Local Comercial\": 5,\n",
    "    \"Oficina comercial\": 6,\n",
    "    \"Bodega comercial\": 7,\n",
    "    \"Edificio\": 8,\n",
    "    \"Terreno comercial\": 9,\n",
    "    \"Casa uso de suelo\": 10,\n",
    "    \"Quinta Vacacional\": 11,\n",
    "    \"Duplex\": 12,\n",
    "    \"Villa\": 13,\n",
    "    \"Inmuebles productivos urbanos\": 14,\n",
    "    \"Rancho\": 15,\n",
    "    \"Local en centro comercial\": 16,\n",
    "    \"Departamento Compartido\": 17,\n",
    "    \"Otros\": 18,\n",
    "    \"Nave industrial\": 19,\n",
    "    \"Terreno industrial\": 20,\n",
    "    \"Huerta\": 21,\n",
    "    \"Lote\": 22,\n",
    "    \"Hospedaje\": 23,\n",
    "    \"Garage\": 24\n",
    "                                   \n",
    "}  }\n",
    "\n",
    "c = test\n",
    "c = c.replace(cleanup_nums)\n",
    "c['fecha'] = pd.to_datetime(c['fecha'])\n",
    "c['anio'] = c['fecha'].dt.year\n",
    "c['mes'] = c['fecha'].dt.month\n",
    "\n",
    "drop_cols = [ 'ciudad', 'provincia', 'titulo', 'descripcion', 'direccion']\n",
    "c = c.drop(drop_cols, axis=1)\n",
    "\n",
    "#Relleno los nulls\n",
    "c[['tipodepropiedad']] = c[['tipodepropiedad']].fillna(value=3)\n",
    "c[['metroscubiertos']] = c[['metroscubiertos']].fillna(value= (c['metroscubiertos'].mean())  )\n",
    "c[['antiguedad']] = c[['antiguedad']].fillna(value= (c['antiguedad'].mean()) )\n",
    "c[['habitaciones']] = c[['habitaciones']].fillna(value= (c['habitaciones'].mean()) )\n",
    "c[['banos']] = c[['banos']].fillna(value= (c['habitaciones'].mean()))\n",
    "c[['idzona']] = c[['idzona']].fillna(value=(c['idzona'].mean()))\n",
    "c[['garages']] = c[['garages']].fillna(value=(c['garages'].mean()))\n",
    "c[['metrostotales']] = c[['metrostotales']].fillna(value=(c['metrostotales'].mean()))\n",
    "c[['lng']] = c[['lng']].fillna(value=(c['lng'].mean()))\n",
    "c[['lat']] = c[['lat']].fillna(value=(c['lat'].mean()))\n",
    "\n",
    "\n",
    "b = c[['tipodepropiedad','anio','mes','metrostotales','antiguedad','garages','piscina','metroscubiertos','banos','habitaciones','lat','lng','idzona','gimnasio','usosmultiples']]\n",
    "\n",
    "\n",
    "#Exporto csv con la prediccion\n",
    "pred = model.predict(b) \n",
    "#Creo un dataframe con el formato ( id , precio (El precio predecido ))\n",
    "res = test['id'].to_frame()\n",
    "res.insert(1,'target', pred , True) \n",
    "#Exportamos la prediccion en formato csv sin labels\n",
    "res.to_csv(r'C:\\Users\\Giova\\JupiterLabFolder\\Archivos CSV\\res.csv',index=False , header=True)"
   ]
  },
  {
   "cell_type": "markdown",
   "metadata": {},
   "source": [
    "# 6º -Modelo : KNN"
   ]
  },
  {
   "cell_type": "code",
   "execution_count": null,
   "metadata": {},
   "outputs": [],
   "source": []
  }
 ],
 "metadata": {
  "kernelspec": {
   "display_name": "Python 3",
   "language": "python",
   "name": "python3"
  },
  "language_info": {
   "codemirror_mode": {
    "name": "ipython",
    "version": 3
   },
   "file_extension": ".py",
   "mimetype": "text/x-python",
   "name": "python",
   "nbconvert_exporter": "python",
   "pygments_lexer": "ipython3",
   "version": "3.7.3"
  }
 },
 "nbformat": 4,
 "nbformat_minor": 2
}
