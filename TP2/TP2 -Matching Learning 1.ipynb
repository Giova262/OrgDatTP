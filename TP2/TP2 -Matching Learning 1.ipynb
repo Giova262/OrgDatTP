{
 "cells": [
  {
   "cell_type": "markdown",
   "metadata": {},
   "source": [
    "# Trabajo Practico 2 - Machine Learning"
   ]
  },
  {
   "cell_type": "code",
   "execution_count": 1,
   "metadata": {},
   "outputs": [],
   "source": [
    "%matplotlib inline\n",
    "import numpy as np\n",
    "import pandas as pd\n",
    "import seaborn as sns\n",
    "import matplotlib.pyplot as plt\n",
    "pd.set_option('display.max_columns', 100)\n",
    "pd.set_option('display.float_format', '{:.2f}'.format)\n",
    "\n",
    "# Importamos utilidades y modelos de sklearn\n",
    "from sklearn.preprocessing import Imputer\n",
    "from sklearn.model_selection import train_test_split\n",
    "from sklearn.dummy import DummyRegressor\n",
    "from sklearn.linear_model import LinearRegression\n",
    "from sklearn.tree import DecisionTreeRegressor\n",
    "from sklearn import linear_model\n",
    "\n",
    "from sklearn.metrics import mean_absolute_error"
   ]
  },
  {
   "cell_type": "markdown",
   "metadata": {},
   "source": [
    "# Importamos los datos de entrenamiento"
   ]
  },
  {
   "cell_type": "code",
   "execution_count": 2,
   "metadata": {},
   "outputs": [],
   "source": [
    "train = pd.read_csv('./train.csv'\n",
    "            ,dtype={\n",
    "             \"id\":np.int32\n",
    "            ,\"titulo\":'category'\n",
    "            ,\"fecha\":str \n",
    "            ,\"ciudad\": 'category'\n",
    "            ,\"provincia\": 'category'\n",
    "            ,\"tipodepropiedad\": 'category' })"
   ]
  },
  {
   "cell_type": "markdown",
   "metadata": {},
   "source": [
    "# Importamos los datos de Test\n",
    "\n",
    "Sobre este set de datos no tengo la columna 'precio' que es justamento lo que quiero predecir"
   ]
  },
  {
   "cell_type": "code",
   "execution_count": 3,
   "metadata": {},
   "outputs": [],
   "source": [
    "test = pd.read_csv('./test.csv'\n",
    "            ,dtype={\n",
    "             \"id\":np.int32\n",
    "            ,\"titulo\":'category'\n",
    "            ,\"fecha\":str \n",
    "            ,\"ciudad\": 'category'\n",
    "            ,\"provincia\": 'category'\n",
    "            ,\"tipodepropiedad\": 'category' })"
   ]
  },
  {
   "cell_type": "markdown",
   "metadata": {},
   "source": [
    "El formato del Submit es ( Id , Precio ) los ids son los que estan en el set de Test y el Precio el que predice mi modelo"
   ]
  },
  {
   "cell_type": "markdown",
   "metadata": {},
   "source": [
    " # Métrica: Root Mean Squared Logarithmic Error"
   ]
  },
  {
   "cell_type": "code",
   "execution_count": 4,
   "metadata": {},
   "outputs": [],
   "source": [
    "# Métrica de evaluación\n",
    "def RMSLE(actual, pred):\n",
    "    return (np.mean((np.log(actual + 1) - np.log(pred + 1)) ** 2)) **.5"
   ]
  },
  {
   "cell_type": "code",
   "execution_count": 5,
   "metadata": {},
   "outputs": [
    {
     "name": "stdout",
     "output_type": "stream",
     "text": [
      "MAE Error (Test): 5.00000\n"
     ]
    }
   ],
   "source": [
    "#Utilizaremos MAE como métrica para esta competencia.\n",
    "dummy_rmsle = mean_absolute_error([5], [0])\n",
    "print(f\"MAE Error (Test): {dummy_rmsle:.5f}\")"
   ]
  },
  {
   "cell_type": "markdown",
   "metadata": {},
   "source": [
    "# 1º - Modelo: Constante"
   ]
  },
  {
   "cell_type": "code",
   "execution_count": 6,
   "metadata": {},
   "outputs": [
    {
     "name": "stdout",
     "output_type": "stream",
     "text": [
      "Train shapes: X=(180000, 14) y=(180000,)\n",
      "Test  shapes: X=(60000, 14)  y=(60000,)\n"
     ]
    }
   ],
   "source": [
    "# Tiramos todas las columnas no numéricas para que sklearn nos acepte el dataframe. \n",
    "# Igualmente, el DummyRegressor no va a utilizar ninguna más que el precio \n",
    "drop_cols = ['fecha', 'ciudad', 'idzona', 'tipodepropiedad', 'provincia', 'titulo', 'descripcion', 'direccion']\n",
    "X = train.drop(['precio'] + drop_cols, axis=1)\n",
    "y = train['precio']\n",
    "X_train, X_test, y_train, y_test = train_test_split(X, y, test_size=0.25, random_state=1)\n",
    "print(f\"Train shapes: X={X_train.shape} y={y_train.shape}\")\n",
    "print(f\"Test  shapes: X={X_test.shape}  y={y_test.shape}\")"
   ]
  },
  {
   "cell_type": "code",
   "execution_count": 7,
   "metadata": {},
   "outputs": [
    {
     "data": {
      "text/plain": [
       "DummyRegressor(constant=array(500), quantile=None, strategy='constant')"
      ]
     },
     "execution_count": 7,
     "metadata": {},
     "output_type": "execute_result"
    }
   ],
   "source": [
    "# Create a dummy regressor\n",
    "dummy_constant  = DummyRegressor(strategy='constant', constant=500)\n",
    "\n",
    "# \"Train\" dummy regressor ( Aca ya estoy listo para predecir)\n",
    "dummy_constant.fit(X_train[['id']], y_train)"
   ]
  },
  {
   "cell_type": "code",
   "execution_count": 8,
   "metadata": {},
   "outputs": [
    {
     "data": {
      "text/plain": [
       "array([500])"
      ]
     },
     "execution_count": 8,
     "metadata": {},
     "output_type": "execute_result"
    }
   ],
   "source": [
    "#Predigo valores Puntales modo de ejemplo\n",
    "dummy_constant.predict(np.array([[100]]))"
   ]
  },
  {
   "cell_type": "code",
   "execution_count": 9,
   "metadata": {},
   "outputs": [
    {
     "name": "stdout",
     "output_type": "stream",
     "text": [
      "RMSLE Error (train): 8.23876\n",
      "RMSLE Error (Test): 8.23005\n",
      "MAE Error (train): 2536413.14206\n",
      "MAE Error (Test): 2512113.95740\n"
     ]
    }
   ],
   "source": [
    "#Calculo de Errores contra mi set de test\n",
    "pred = dummy_constant.predict(    test[['id']]     )\n",
    "\n",
    "#dummy_rmsle = mean_absolute_error(y_test, pred)\n",
    "#dummy_rmsle_train = mean_absolute_error(y_train, dummy_constant.predict(X_train) )\n",
    "\n",
    "#Calculo de Errores contra mi set de entrenamiento\n",
    "dummy_rmsle_train = RMSLE(y_train, dummy_constant.predict(X_train) )\n",
    "dummy_rmsle = RMSLE(y_test, pred)\n",
    "\n",
    "print(f\"RMSLE Error (train): {dummy_rmsle_train:.5f}\")\n",
    "print(f\"RMSLE Error (Test): {dummy_rmsle:.5f}\")\n",
    "\n",
    "dummy_rmsle = mean_absolute_error(y_test, pred)\n",
    "dummy_rmsle_train = mean_absolute_error(y_train, dummy_constant.predict(X_train) )\n",
    "\n",
    "print(f\"MAE Error (train): {dummy_rmsle_train:.5f}\")\n",
    "print(f\"MAE Error (Test): {dummy_rmsle:.5f}\")"
   ]
  },
  {
   "cell_type": "code",
   "execution_count": null,
   "metadata": {},
   "outputs": [],
   "source": []
  },
  {
   "cell_type": "markdown",
   "metadata": {},
   "source": [
    "# 2º Modelo Promedio"
   ]
  },
  {
   "cell_type": "code",
   "execution_count": 10,
   "metadata": {},
   "outputs": [
    {
     "data": {
      "text/plain": [
       "DummyRegressor(constant=None, quantile=None, strategy='mean')"
      ]
     },
     "execution_count": 10,
     "metadata": {},
     "output_type": "execute_result"
    }
   ],
   "source": [
    "# Create a dummy regressor\n",
    "dummy_mean = DummyRegressor(strategy='mean')\n",
    "\n",
    "# \"Train\" dummy regressor\n",
    "dummy_mean.fit(X_train, y_train)"
   ]
  },
  {
   "cell_type": "code",
   "execution_count": 11,
   "metadata": {},
   "outputs": [
    {
     "name": "stdout",
     "output_type": "stream",
     "text": [
      "RMSLE Error (train): 0.90228\n",
      "RMSLE Error (Test): 0.90318\n",
      "MAE Error (train): 1612604.48000\n",
      "MAE Error (Test): 1602549.96274\n"
     ]
    }
   ],
   "source": [
    "#Calculo de Errores contra mi set de test\n",
    "pred = dummy_mean.predict(    test[['id']]     )\n",
    "\n",
    "#Calculo de Errores contra mi set de entrenamiento\n",
    "dummy_rmsle = RMSLE(y_test, pred)\n",
    "dummy_rmsle_train = RMSLE(y_train, dummy_mean.predict(X_train) )\n",
    "\n",
    "print(f\"RMSLE Error (train): {dummy_rmsle_train:.5f}\")\n",
    "print(f\"RMSLE Error (Test): {dummy_rmsle:.5f}\")\n",
    "\n",
    "dummy_rmsle = mean_absolute_error(y_test, pred)\n",
    "dummy_rmsle_train = mean_absolute_error(y_train, dummy_mean.predict(X_train) )\n",
    "\n",
    "print(f\"MAE Error (train): {dummy_rmsle_train:.5f}\")\n",
    "print(f\"MAE Error (Test): {dummy_rmsle:.5f}\")"
   ]
  },
  {
   "cell_type": "code",
   "execution_count": 12,
   "metadata": {},
   "outputs": [],
   "source": [
    "#Exporto csv con la prediccion\n",
    "pred = dummy_mean.predict(test) \n",
    "#Creo un dataframe con el formato ( id , precio (El precio predecido ))\n",
    "res = test['id'].to_frame()\n",
    "res.insert(1,'target', pred , True) \n",
    "#Exportamos la prediccion en formato csv sin labels\n",
    "res.to_csv(r'C:\\Users\\Giova\\JupiterLabFolder\\Archivos CSV\\res.csv',index=False , header=True)"
   ]
  },
  {
   "cell_type": "markdown",
   "metadata": {},
   "source": [
    "# 3º Modelo Regresion Lineal "
   ]
  },
  {
   "cell_type": "markdown",
   "metadata": {},
   "source": [
    "### metroscubiertos"
   ]
  },
  {
   "cell_type": "code",
   "execution_count": 13,
   "metadata": {},
   "outputs": [
    {
     "name": "stdout",
     "output_type": "stream",
     "text": [
      "RMSLE Error (train): 0.65673\n",
      "RMSLE Error (Test): 0.65648\n",
      "MAE Error (train): 1202603.98514\n",
      "MAE Error (Test): 1191062.51364\n"
     ]
    }
   ],
   "source": [
    "X = train[['metroscubiertos']]\n",
    "y = train['precio']\n",
    "X_train, X_test, y_train, y_test = train_test_split(X, y, test_size=0.25, random_state=1)\n",
    "#print(f\"Train shapes: X={X_train.shape} y={y_train.shape}\")\n",
    "#print(f\"Test  shapes: X={X_test.shape}  y={y_test.shape}\")\n",
    "\n",
    "#Elimino los Nulls en los x de Entrenaniento y cuando voy a testear\n",
    "X_train = X_train.fillna(X_train.mean())\n",
    "X_test = X_test.fillna(X_test.mean())\n",
    "\n",
    "#Creo y Entreno el modelo de regresion Lineal\n",
    "reg = linear_model.LinearRegression()\n",
    "reg.fit(X_train, y_train)\n",
    "\n",
    "#Calculo de Errores contra mi set de test\n",
    "pred = reg.predict(X_test)\n",
    "\n",
    "#Calculo de Errores contra mi set de entrenamiento\n",
    "dummy_rmsle = RMSLE(y_test, pred)\n",
    "dummy_rmsle_train = RMSLE(y_train, reg.predict(X_train) )\n",
    "print(f\"RMSLE Error (train): {dummy_rmsle_train:.5f}\")\n",
    "print(f\"RMSLE Error (Test): {dummy_rmsle:.5f}\")\n",
    "\n",
    "dummy_rmsle = mean_absolute_error(y_test, pred)\n",
    "dummy_rmsle_train = mean_absolute_error(y_train, reg.predict(X_train) )\n",
    "\n",
    "print(f\"MAE Error (train): {dummy_rmsle_train:.5f}\")\n",
    "print(f\"MAE Error (Test): {dummy_rmsle:.5f}\")"
   ]
  },
  {
   "cell_type": "code",
   "execution_count": null,
   "metadata": {},
   "outputs": [],
   "source": [
    "#Exporto csv con la prediccion\n",
    "pred = reg.predict(test['metroscubiertos'].to_frame().fillna(X_test.mean())   ) \n",
    "#Creo un dataframe con el formato ( id , precio (El precio predecido ))\n",
    "res = test['id'].to_frame()\n",
    "res.insert(1,'target', pred , True) \n",
    "#Exportamos la prediccion en formato csv sin labels\n",
    "res.to_csv(r'C:\\Users\\Giova\\JupiterLabFolder\\Archivos CSV\\res.csv',index=False , header=True)"
   ]
  },
  {
   "cell_type": "markdown",
   "metadata": {},
   "source": [
    "### metrostotales"
   ]
  },
  {
   "cell_type": "code",
   "execution_count": 16,
   "metadata": {},
   "outputs": [
    {
     "name": "stdout",
     "output_type": "stream",
     "text": [
      "Train shapes: X=(180000, 1) y=(180000,)\n",
      "Test  shapes: X=(60000, 1)  y=(60000,)\n"
     ]
    }
   ],
   "source": [
    "X = train[['metrostotales']]\n",
    "y = train['precio']\n",
    "X_train, X_test, y_train, y_test = train_test_split(X, y, test_size=0.25, random_state=1)\n",
    "print(f\"Train shapes: X={X_train.shape} y={y_train.shape}\")\n",
    "print(f\"Test  shapes: X={X_test.shape}  y={y_test.shape}\")"
   ]
  },
  {
   "cell_type": "code",
   "execution_count": 17,
   "metadata": {},
   "outputs": [],
   "source": [
    "#Elimino los Nulls en los x de Entrenaniento y cuando voy a testear\n",
    "X_train = X_train.fillna(X_train.mean())\n",
    "X_test = X_test.fillna(X_test.mean())"
   ]
  },
  {
   "cell_type": "code",
   "execution_count": 18,
   "metadata": {},
   "outputs": [
    {
     "data": {
      "text/plain": [
       "LinearRegression(copy_X=True, fit_intercept=True, n_jobs=None, normalize=False)"
      ]
     },
     "execution_count": 18,
     "metadata": {},
     "output_type": "execute_result"
    }
   ],
   "source": [
    "#Creo y Entreno el modelo de regresion Lineal\n",
    "reg = linear_model.LinearRegression()\n",
    "reg.fit(X_train, y_train)"
   ]
  },
  {
   "cell_type": "code",
   "execution_count": 19,
   "metadata": {},
   "outputs": [
    {
     "name": "stdout",
     "output_type": "stream",
     "text": [
      "RMSLE Error (train): 0.77069\n",
      "RMSLE Error (Test): 0.76986\n",
      "MAE Error (train): 1384485.13818\n",
      "MAE Error (Test): 1375006.68201\n"
     ]
    }
   ],
   "source": [
    "#Calculo de Errores contra mi set de test\n",
    "pred = reg.predict(X_test)\n",
    "dummy_rmsle = RMSLE(y_test, pred)\n",
    "#Calculo de Errores contra mi set de entrenamiento\n",
    "dummy_rmsle_train = RMSLE(y_train, reg.predict(X_train) )\n",
    "print(f\"RMSLE Error (train): {dummy_rmsle_train:.5f}\")\n",
    "print(f\"RMSLE Error (Test): {dummy_rmsle:.5f}\")\n",
    "\n",
    "dummy_rmsle = mean_absolute_error(y_test, pred)\n",
    "dummy_rmsle_train = mean_absolute_error(y_train, reg.predict(X_train) )\n",
    "\n",
    "print(f\"MAE Error (train): {dummy_rmsle_train:.5f}\")\n",
    "print(f\"MAE Error (Test): {dummy_rmsle:.5f}\")"
   ]
  },
  {
   "cell_type": "markdown",
   "metadata": {},
   "source": [
    "### baños "
   ]
  },
  {
   "cell_type": "code",
   "execution_count": 20,
   "metadata": {},
   "outputs": [
    {
     "name": "stdout",
     "output_type": "stream",
     "text": [
      "Train shapes: X=(180000, 1) y=(180000,)\n",
      "Test  shapes: X=(60000, 1)  y=(60000,)\n"
     ]
    }
   ],
   "source": [
    "X = train[['banos']]\n",
    "y = train['precio']\n",
    "X_train, X_test, y_train, y_test = train_test_split(X, y, test_size=0.25, random_state=1)\n",
    "print(f\"Train shapes: X={X_train.shape} y={y_train.shape}\")\n",
    "print(f\"Test  shapes: X={X_test.shape}  y={y_test.shape}\")"
   ]
  },
  {
   "cell_type": "code",
   "execution_count": 21,
   "metadata": {},
   "outputs": [],
   "source": [
    "#Elimino los Nulls en los x de Entrenaniento y cuando voy a testear\n",
    "X_train = X_train.fillna(X_train.mean())\n",
    "X_test = X_test.fillna(X_test.mean())"
   ]
  },
  {
   "cell_type": "code",
   "execution_count": 22,
   "metadata": {},
   "outputs": [
    {
     "data": {
      "text/plain": [
       "LinearRegression(copy_X=True, fit_intercept=True, n_jobs=None, normalize=False)"
      ]
     },
     "execution_count": 22,
     "metadata": {},
     "output_type": "execute_result"
    }
   ],
   "source": [
    "#Creo y Entreno el modelo de regresion Lineal\n",
    "reg = linear_model.LinearRegression()\n",
    "reg.fit(X_train, y_train)"
   ]
  },
  {
   "cell_type": "code",
   "execution_count": 23,
   "metadata": {},
   "outputs": [
    {
     "name": "stdout",
     "output_type": "stream",
     "text": [
      "RMSLE Error (train): 0.71305\n",
      "RMSLE Error (Test): 0.71311\n",
      "MAE Error (train): 1326576.26867\n",
      "MAE Error (Test): 1316655.85210\n"
     ]
    }
   ],
   "source": [
    "#Calculo de Errores contra mi set de test\n",
    "pred = reg.predict(X_test)\n",
    "dummy_rmsle = RMSLE(y_test, pred)\n",
    "#Calculo de Errores contra mi set de entrenamiento\n",
    "dummy_rmsle_train = RMSLE(y_train, reg.predict(X_train) )\n",
    "print(f\"RMSLE Error (train): {dummy_rmsle_train:.5f}\")\n",
    "print(f\"RMSLE Error (Test): {dummy_rmsle:.5f}\")\n",
    "\n",
    "dummy_rmsle = mean_absolute_error(y_test, pred)\n",
    "dummy_rmsle_train = mean_absolute_error(y_train, reg.predict(X_train) )\n",
    "\n",
    "print(f\"MAE Error (train): {dummy_rmsle_train:.5f}\")\n",
    "print(f\"MAE Error (Test): {dummy_rmsle:.5f}\")"
   ]
  },
  {
   "cell_type": "markdown",
   "metadata": {},
   "source": [
    "### garages"
   ]
  },
  {
   "cell_type": "code",
   "execution_count": 24,
   "metadata": {},
   "outputs": [
    {
     "name": "stdout",
     "output_type": "stream",
     "text": [
      "RMSLE Error (train): 0.84448\n",
      "RMSLE Error (Test): 0.84314\n",
      "MAE Error (train): 1505488.62183\n",
      "MAE Error (Test): 1492386.44838\n"
     ]
    }
   ],
   "source": [
    "X = train[['garages']]\n",
    "y = train['precio']\n",
    "X_train, X_test, y_train, y_test = train_test_split(X, y, test_size=0.25, random_state=1)\n",
    "\n",
    "#Elimino los Nulls en los x de Entrenaniento y cuando voy a testear\n",
    "X_train = X_train.fillna(X_train.mean())\n",
    "X_test = X_test.fillna(X_test.mean())\n",
    "\n",
    "#Creo y Entreno el modelo de regresion Lineal\n",
    "reg = linear_model.LinearRegression()\n",
    "reg.fit(X_train, y_train)\n",
    "\n",
    "#Calculo de Errores contra mi set de test\n",
    "pred = reg.predict(X_test)\n",
    "dummy_rmsle = RMSLE(y_test, pred)\n",
    "\n",
    "#Calculo de Errores contra mi set de entrenamiento\n",
    "dummy_rmsle_train = RMSLE(y_train, reg.predict(X_train) )\n",
    "print(f\"RMSLE Error (train): {dummy_rmsle_train:.5f}\")\n",
    "print(f\"RMSLE Error (Test): {dummy_rmsle:.5f}\")\n",
    "\n",
    "dummy_rmsle = mean_absolute_error(y_test, pred)\n",
    "dummy_rmsle_train = mean_absolute_error(y_train, reg.predict(X_train) )\n",
    "\n",
    "print(f\"MAE Error (train): {dummy_rmsle_train:.5f}\")\n",
    "print(f\"MAE Error (Test): {dummy_rmsle:.5f}\")"
   ]
  },
  {
   "cell_type": "markdown",
   "metadata": {},
   "source": [
    "### habitaciones"
   ]
  },
  {
   "cell_type": "code",
   "execution_count": 28,
   "metadata": {},
   "outputs": [
    {
     "name": "stdout",
     "output_type": "stream",
     "text": [
      "RMSLE Error (train): 0.85682\n",
      "RMSLE Error (Test): 0.85757\n",
      "MAE Error (train): 1549433.63003\n",
      "MAE Error (Test): 1541163.97837\n"
     ]
    }
   ],
   "source": [
    "X = train[['habitaciones']]\n",
    "y = train['precio']\n",
    "X_train, X_test, y_train, y_test = train_test_split(X, y, test_size=0.25, random_state=1)\n",
    "\n",
    "#Elimino los Nulls en los x de Entrenaniento y cuando voy a testear\n",
    "X_train = X_train.fillna(X_train.mean())\n",
    "X_test = X_test.fillna(X_test.mean())\n",
    "\n",
    "#Creo y Entreno el modelo de regresion Lineal\n",
    "reg = linear_model.LinearRegression()\n",
    "reg.fit(X_train, y_train)\n",
    "\n",
    "#Calculo de Errores contra mi set de test\n",
    "pred = reg.predict(X_test)\n",
    "dummy_rmsle = RMSLE(y_test, pred)\n",
    "\n",
    "#Calculo de Errores contra mi set de entrenamiento\n",
    "dummy_rmsle_train = RMSLE(y_train, reg.predict(X_train) )\n",
    "print(f\"RMSLE Error (train): {dummy_rmsle_train:.5f}\")\n",
    "print(f\"RMSLE Error (Test): {dummy_rmsle:.5f}\")\n",
    "\n",
    "dummy_rmsle = mean_absolute_error(y_test, pred)\n",
    "dummy_rmsle_train = mean_absolute_error(y_train, reg.predict(X_train) )\n",
    "\n",
    "print(f\"MAE Error (train): {dummy_rmsle_train:.5f}\")\n",
    "print(f\"MAE Error (Test): {dummy_rmsle:.5f}\")"
   ]
  },
  {
   "cell_type": "markdown",
   "metadata": {},
   "source": [
    "### gimnasio"
   ]
  },
  {
   "cell_type": "code",
   "execution_count": 29,
   "metadata": {},
   "outputs": [
    {
     "name": "stdout",
     "output_type": "stream",
     "text": [
      "RMSLE Error (train): 0.89044\n",
      "RMSLE Error (Test): 0.89150\n",
      "MAE Error (train): 1587871.29864\n",
      "MAE Error (Test): 1579081.68876\n"
     ]
    }
   ],
   "source": [
    "X = train[['gimnasio']]\n",
    "y = train['precio']\n",
    "X_train, X_test, y_train, y_test = train_test_split(X, y, test_size=0.25, random_state=1)\n",
    "\n",
    "#Elimino los Nulls en los x de Entrenaniento y cuando voy a testear\n",
    "X_train = X_train.fillna(X_train.mean())\n",
    "X_test = X_test.fillna(X_test.mean())\n",
    "\n",
    "#Creo y Entreno el modelo de regresion Lineal\n",
    "reg = linear_model.LinearRegression()\n",
    "reg.fit(X_train, y_train)\n",
    "\n",
    "#Calculo de Errores contra mi set de test\n",
    "pred = reg.predict(X_test)\n",
    "dummy_rmsle = RMSLE(y_test, pred)\n",
    "\n",
    "#Calculo de Errores contra mi set de entrenamiento\n",
    "dummy_rmsle_train = RMSLE(y_train, reg.predict(X_train) )\n",
    "print(f\"RMSLE Error (train): {dummy_rmsle_train:.5f}\")\n",
    "print(f\"RMSLE Error (Test): {dummy_rmsle:.5f}\")\n",
    "\n",
    "dummy_rmsle = mean_absolute_error(y_test, pred)\n",
    "dummy_rmsle_train = mean_absolute_error(y_train, reg.predict(X_train) )\n",
    "\n",
    "print(f\"MAE Error (train): {dummy_rmsle_train:.5f}\")\n",
    "print(f\"MAE Error (Test): {dummy_rmsle:.5f}\")"
   ]
  },
  {
   "cell_type": "markdown",
   "metadata": {},
   "source": [
    "### usosmultiples"
   ]
  },
  {
   "cell_type": "code",
   "execution_count": 30,
   "metadata": {},
   "outputs": [
    {
     "name": "stdout",
     "output_type": "stream",
     "text": [
      "RMSLE Error (train): 0.89135\n",
      "RMSLE Error (Test): 0.89216\n",
      "MAE Error (train): 1590987.90271\n",
      "MAE Error (Test): 1580698.12959\n"
     ]
    }
   ],
   "source": [
    "X = train[['usosmultiples']]\n",
    "y = train['precio']\n",
    "X_train, X_test, y_train, y_test = train_test_split(X, y, test_size=0.25, random_state=1)\n",
    "\n",
    "#Elimino los Nulls en los x de Entrenaniento y cuando voy a testear\n",
    "X_train = X_train.fillna(X_train.mean())\n",
    "X_test = X_test.fillna(X_test.mean())\n",
    "\n",
    "#Creo y Entreno el modelo de regresion Lineal\n",
    "reg = linear_model.LinearRegression()\n",
    "reg.fit(X_train, y_train)\n",
    "\n",
    "#Calculo de Errores contra mi set de test\n",
    "pred = reg.predict(X_test)\n",
    "dummy_rmsle = RMSLE(y_test, pred)\n",
    "\n",
    "#Calculo de Errores contra mi set de entrenamiento\n",
    "dummy_rmsle_train = RMSLE(y_train, reg.predict(X_train) )\n",
    "print(f\"RMSLE Error (train): {dummy_rmsle_train:.5f}\")\n",
    "print(f\"RMSLE Error (Test): {dummy_rmsle:.5f}\")\n",
    "\n",
    "dummy_rmsle = mean_absolute_error(y_test, pred)\n",
    "dummy_rmsle_train = mean_absolute_error(y_train, reg.predict(X_train) )\n",
    "\n",
    "print(f\"MAE Error (train): {dummy_rmsle_train:.5f}\")\n",
    "print(f\"MAE Error (Test): {dummy_rmsle:.5f}\")"
   ]
  },
  {
   "cell_type": "markdown",
   "metadata": {},
   "source": [
    "### piscina"
   ]
  },
  {
   "cell_type": "code",
   "execution_count": 31,
   "metadata": {},
   "outputs": [
    {
     "name": "stdout",
     "output_type": "stream",
     "text": [
      "RMSLE Error (train): 0.89413\n",
      "RMSLE Error (Test): 0.89515\n",
      "MAE Error (train): 1598374.73603\n",
      "MAE Error (Test): 1588343.97441\n"
     ]
    }
   ],
   "source": [
    "X = train[['piscina']]\n",
    "y = train['precio']\n",
    "X_train, X_test, y_train, y_test = train_test_split(X, y, test_size=0.25, random_state=1)\n",
    "\n",
    "#Elimino los Nulls en los x de Entrenaniento y cuando voy a testear\n",
    "X_train = X_train.fillna(X_train.mean())\n",
    "X_test = X_test.fillna(X_test.mean())\n",
    "\n",
    "#Creo y Entreno el modelo de regresion Lineal\n",
    "reg = linear_model.LinearRegression()\n",
    "reg.fit(X_train, y_train)\n",
    "\n",
    "#Calculo de Errores contra mi set de test\n",
    "pred = reg.predict(X_test)\n",
    "dummy_rmsle = RMSLE(y_test, pred)\n",
    "\n",
    "#Calculo de Errores contra mi set de entrenamiento\n",
    "dummy_rmsle_train = RMSLE(y_train, reg.predict(X_train) )\n",
    "print(f\"RMSLE Error (train): {dummy_rmsle_train:.5f}\")\n",
    "print(f\"RMSLE Error (Test): {dummy_rmsle:.5f}\")\n",
    "\n",
    "dummy_rmsle = mean_absolute_error(y_test, pred)\n",
    "dummy_rmsle_train = mean_absolute_error(y_train, reg.predict(X_train) )\n",
    "\n",
    "print(f\"MAE Error (train): {dummy_rmsle_train:.5f}\")\n",
    "print(f\"MAE Error (Test): {dummy_rmsle:.5f}\")"
   ]
  },
  {
   "cell_type": "markdown",
   "metadata": {},
   "source": [
    "### longitud del titulo"
   ]
  },
  {
   "cell_type": "code",
   "execution_count": 32,
   "metadata": {},
   "outputs": [
    {
     "name": "stdout",
     "output_type": "stream",
     "text": [
      "RMSLE Error (train): 0.90225\n",
      "RMSLE Error (Test): 0.90318\n",
      "MAE Error (train): 1612614.37721\n",
      "MAE Error (Test): 1602586.86903\n"
     ]
    }
   ],
   "source": [
    "train['tituloLen'] = train['titulo'].apply(len)\n",
    "X = train[['tituloLen']]\n",
    "y = train['precio']\n",
    "X_train, X_test, y_train, y_test = train_test_split(X, y, test_size=0.25, random_state=1)\n",
    "\n",
    "#Elimino los Nulls en los x de Entrenaniento y cuando voy a testear\n",
    "X_train = X_train.fillna(X_train.mean())\n",
    "X_test = X_test.fillna(X_test.mean())\n",
    "\n",
    "#Creo y Entreno el modelo de regresion Lineal\n",
    "reg = linear_model.LinearRegression()\n",
    "reg.fit(X_train, y_train)\n",
    "\n",
    "#Calculo de Errores contra mi set de test\n",
    "pred = reg.predict(X_test)\n",
    "dummy_rmsle = RMSLE(y_test, pred)\n",
    "\n",
    "#Calculo de Errores contra mi set de entrenamiento\n",
    "dummy_rmsle_train = RMSLE(y_train, reg.predict(X_train) )\n",
    "print(f\"RMSLE Error (train): {dummy_rmsle_train:.5f}\")\n",
    "print(f\"RMSLE Error (Test): {dummy_rmsle:.5f}\")\n",
    "\n",
    "dummy_rmsle = mean_absolute_error(y_test, pred)\n",
    "dummy_rmsle_train = mean_absolute_error(y_train, reg.predict(X_train) )\n",
    "\n",
    "print(f\"MAE Error (train): {dummy_rmsle_train:.5f}\")\n",
    "print(f\"MAE Error (Test): {dummy_rmsle:.5f}\")"
   ]
  },
  {
   "cell_type": "markdown",
   "metadata": {},
   "source": [
    "### tipo de propiedad"
   ]
  },
  {
   "cell_type": "code",
   "execution_count": 33,
   "metadata": {},
   "outputs": [
    {
     "name": "stdout",
     "output_type": "stream",
     "text": [
      "RMSLE Error (train): 0.90122\n",
      "RMSLE Error (Test): 0.90258\n",
      "MAE Error (train): 1611042.38531\n",
      "MAE Error (Test): 1602328.47233\n"
     ]
    }
   ],
   "source": [
    "\n",
    "a = train\n",
    "\n",
    "cleanup_nums = {\"tipodepropiedad\":     {\n",
    "    \"Casa\": 1,\n",
    "    \"Apartamento\": 2, \n",
    "    \"Casa en condominio\": 3,\n",
    "    \"Terreno\": 4,\n",
    "    \"Local Comercial\": 5,\n",
    "    \"Oficina comercial\": 6,\n",
    "    \"Bodega comercial\": 7,\n",
    "    \"Edificio\": 8,\n",
    "    \"Terreno comercial\": 9,\n",
    "    \"Casa uso de suelo\": 10,\n",
    "    \"Quinta Vacacional\": 11,\n",
    "    \"Duplex\": 12,\n",
    "    \"Villa\": 13,\n",
    "    \"Inmuebles productivos urbanos\": 14,\n",
    "    \"Rancho\": 15,\n",
    "    \"Local en centro comercial\": 16,\n",
    "    \"Departamento Compartido\": 17,\n",
    "    \"Otros\": 18,\n",
    "    \"Nave industrial\": 19,\n",
    "    \"Terreno industrial\": 20,\n",
    "    \"Huerta\": 21,\n",
    "    \"Lote\": 22,\n",
    "    \"Hospedaje\": 23,\n",
    "    \"Garage\": 24\n",
    "                                   \n",
    "}  }\n",
    "\n",
    "a.replace(cleanup_nums, inplace=True)\n",
    "\n",
    "\n",
    "X = a[['tipodepropiedad']]\n",
    "y = train['precio']\n",
    "X_train, X_test, y_train, y_test = train_test_split(X, y, test_size=0.25, random_state=1)\n",
    "\n",
    "#Elimino los Nulls en los x de Entrenaniento y cuando voy a testear\n",
    "X_train = X_train.fillna(X_train.mean())\n",
    "X_test = X_test.fillna(X_test.mean())\n",
    "\n",
    "#Creo y Entreno el modelo de regresion Lineal\n",
    "reg = linear_model.LinearRegression()\n",
    "reg.fit(X_train, y_train)\n",
    "\n",
    "#Calculo de Errores contra mi set de test\n",
    "pred = reg.predict(X_test)\n",
    "dummy_rmsle = RMSLE(y_test, pred)\n",
    "\n",
    "#Calculo de Errores contra mi set de entrenamiento\n",
    "dummy_rmsle_train = RMSLE(y_train, reg.predict(X_train) )\n",
    "print(f\"RMSLE Error (train): {dummy_rmsle_train:.5f}\")\n",
    "print(f\"RMSLE Error (Test): {dummy_rmsle:.5f}\")\n",
    "\n",
    "dummy_rmsle = mean_absolute_error(y_test, pred)\n",
    "dummy_rmsle_train = mean_absolute_error(y_train, reg.predict(X_train) )\n",
    "\n",
    "print(f\"MAE Error (train): {dummy_rmsle_train:.5f}\")\n",
    "print(f\"MAE Error (Test): {dummy_rmsle:.5f}\")"
   ]
  },
  {
   "cell_type": "markdown",
   "metadata": {},
   "source": [
    "### fecha : año"
   ]
  },
  {
   "cell_type": "code",
   "execution_count": 34,
   "metadata": {},
   "outputs": [
    {
     "name": "stdout",
     "output_type": "stream",
     "text": [
      "RMSLE Error (train): 0.89211\n",
      "RMSLE Error (Test): 0.89394\n",
      "MAE Error (train): 1597245.39542\n",
      "MAE Error (Test): 1588343.37661\n"
     ]
    }
   ],
   "source": [
    "a = train\n",
    "a['fecha'] = pd.to_datetime(a['fecha'])\n",
    "a['anio'] = a['fecha'].dt.year\n",
    "\n",
    "X = a[['anio']]\n",
    "y = train['precio']\n",
    "X_train, X_test, y_train, y_test = train_test_split(X, y, test_size=0.25, random_state=1)\n",
    "\n",
    "#Elimino los Nulls en los x de Entrenaniento y cuando voy a testear\n",
    "X_train = X_train.fillna(X_train.mean())\n",
    "X_test = X_test.fillna(X_test.mean())\n",
    "\n",
    "#Creo y Entreno el modelo de regresion Lineal\n",
    "reg = linear_model.LinearRegression()\n",
    "reg.fit(X_train, y_train)\n",
    "\n",
    "#Calculo de Errores contra mi set de test\n",
    "pred = reg.predict(X_test)\n",
    "dummy_rmsle = RMSLE(y_test, pred)\n",
    "\n",
    "#Calculo de Errores contra mi set de entrenamiento\n",
    "dummy_rmsle_train = RMSLE(y_train, reg.predict(X_train) )\n",
    "print(f\"RMSLE Error (train): {dummy_rmsle_train:.5f}\")\n",
    "print(f\"RMSLE Error (Test): {dummy_rmsle:.5f}\")\n",
    "\n",
    "dummy_rmsle = mean_absolute_error(y_test, pred)\n",
    "dummy_rmsle_train = mean_absolute_error(y_train, reg.predict(X_train) )\n",
    "\n",
    "print(f\"MAE Error (train): {dummy_rmsle_train:.5f}\")\n",
    "print(f\"MAE Error (Test): {dummy_rmsle:.5f}\")"
   ]
  },
  {
   "cell_type": "markdown",
   "metadata": {},
   "source": [
    "# 4º Modelo : Regresion Lineal Multiple"
   ]
  },
  {
   "cell_type": "markdown",
   "metadata": {},
   "source": [
    "### 1"
   ]
  },
  {
   "cell_type": "code",
   "execution_count": 36,
   "metadata": {},
   "outputs": [
    {
     "name": "stdout",
     "output_type": "stream",
     "text": [
      "RMSLE Error (train): 0.62025\n",
      "RMSLE Error (Test): 0.61993\n",
      "MAE Error (train): 1161884.23342\n",
      "MAE Error (Test): 1152018.48875\n"
     ]
    }
   ],
   "source": [
    "X = train[['metrostotales','metroscubiertos','banos']]\n",
    "y = train['precio']\n",
    "X_train, X_test, y_train, y_test = train_test_split(X, y, test_size=0.25, random_state=1)\n",
    "\n",
    "#Elimino los Nulls en los x de Entrenaniento y cuando voy a testear\n",
    "X_train = X_train.fillna(X_train.mean())\n",
    "X_test = X_test.fillna(X_test.mean())\n",
    "\n",
    "#Creo y Entreno el modelo de regresion Lineal\n",
    "reg = linear_model.LinearRegression()\n",
    "reg.fit(X_train, y_train)\n",
    "\n",
    "#Calculo de Errores contra mi set de test\n",
    "pred = reg.predict(X_test)\n",
    "dummy_rmsle = RMSLE(y_test, pred)\n",
    "\n",
    "#Calculo de Errores contra mi set de entrenamiento\n",
    "dummy_rmsle_train = RMSLE(y_train, reg.predict(X_train) )\n",
    "print(f\"RMSLE Error (train): {dummy_rmsle_train:.5f}\")\n",
    "print(f\"RMSLE Error (Test): {dummy_rmsle:.5f}\")\n",
    "\n",
    "dummy_rmsle = mean_absolute_error(y_test, pred)\n",
    "dummy_rmsle_train = mean_absolute_error(y_train, reg.predict(X_train) )\n",
    "\n",
    "print(f\"MAE Error (train): {dummy_rmsle_train:.5f}\")\n",
    "print(f\"MAE Error (Test): {dummy_rmsle:.5f}\")"
   ]
  },
  {
   "cell_type": "markdown",
   "metadata": {},
   "source": [
    "### 2   "
   ]
  },
  {
   "cell_type": "code",
   "execution_count": 37,
   "metadata": {},
   "outputs": [
    {
     "name": "stdout",
     "output_type": "stream",
     "text": [
      "RMSLE Error (train): 0.60806\n",
      "RMSLE Error (Test): 0.60794\n",
      "MAE Error (train): 1129269.61449\n",
      "MAE Error (Test): 1119327.35026\n"
     ]
    },
    {
     "name": "stderr",
     "output_type": "stream",
     "text": [
      "C:\\Users\\Giova\\Anaconda3\\lib\\site-packages\\ipykernel_launcher.py:3: RuntimeWarning: invalid value encountered in log\n",
      "  This is separate from the ipykernel package so we can avoid doing imports until\n",
      "C:\\Users\\Giova\\Anaconda3\\lib\\site-packages\\ipykernel_launcher.py:3: RuntimeWarning: invalid value encountered in log\n",
      "  This is separate from the ipykernel package so we can avoid doing imports until\n"
     ]
    }
   ],
   "source": [
    "X = train[['metrostotales','metroscubiertos','banos','habitaciones','gimnasio','usosmultiples','piscina']]\n",
    "y = train['precio']\n",
    "X_train, X_test, y_train, y_test = train_test_split(X, y, test_size=0.25, random_state=1)\n",
    "\n",
    "#Elimino los Nulls en los x de Entrenaniento y cuando voy a testear\n",
    "X_train = X_train.fillna(X_train.mean())\n",
    "X_test = X_test.fillna(X_test.mean())\n",
    "\n",
    "#Creo y Entreno el modelo de regresion Lineal\n",
    "reg = linear_model.LinearRegression()\n",
    "reg.fit(X_train, y_train)\n",
    "\n",
    "#Calculo de Errores contra mi set de test\n",
    "pred = reg.predict(X_test)\n",
    "dummy_rmsle = RMSLE(y_test, pred)\n",
    "\n",
    "#Calculo de Errores contra mi set de entrenamiento\n",
    "dummy_rmsle_train = RMSLE(y_train, reg.predict(X_train) )\n",
    "print(f\"RMSLE Error (train): {dummy_rmsle_train:.5f}\")\n",
    "print(f\"RMSLE Error (Test): {dummy_rmsle:.5f}\")\n",
    "\n",
    "dummy_rmsle = mean_absolute_error(y_test, pred)\n",
    "dummy_rmsle_train = mean_absolute_error(y_train, reg.predict(X_train) )\n",
    "\n",
    "print(f\"MAE Error (train): {dummy_rmsle_train:.5f}\")\n",
    "print(f\"MAE Error (Test): {dummy_rmsle:.5f}\")"
   ]
  },
  {
   "cell_type": "code",
   "execution_count": null,
   "metadata": {},
   "outputs": [],
   "source": [
    "b = test[['metrostotales','metroscubiertos','banos','habitaciones','gimnasio','usosmultiples','piscina']]\n",
    "b = b.fillna(b.mean())\n",
    "\n",
    "#Exporto csv con la prediccion\n",
    "pred = reg.predict(b) \n",
    "#Creo un dataframe con el formato ( id , precio (El precio predecido ))\n",
    "res = test['id'].to_frame()\n",
    "res.insert(1,'target', pred , True) \n",
    "#Exportamos la prediccion en formato csv sin labels\n",
    "res.to_csv(r'C:\\Users\\Giova\\JupiterLabFolder\\Archivos CSV\\res.csv',index=False , header=True)"
   ]
  },
  {
   "cell_type": "markdown",
   "metadata": {},
   "source": [
    "## 3"
   ]
  },
  {
   "cell_type": "code",
   "execution_count": 38,
   "metadata": {},
   "outputs": [
    {
     "name": "stdout",
     "output_type": "stream",
     "text": [
      "RMSLE Error (train): 0.60840\n",
      "RMSLE Error (Test): 0.60735\n",
      "MAE Error (train): 1124385.30383\n",
      "MAE Error (Test): 1114935.52215\n"
     ]
    },
    {
     "name": "stderr",
     "output_type": "stream",
     "text": [
      "C:\\Users\\Giova\\Anaconda3\\lib\\site-packages\\ipykernel_launcher.py:3: RuntimeWarning: invalid value encountered in log\n",
      "  This is separate from the ipykernel package so we can avoid doing imports until\n",
      "C:\\Users\\Giova\\Anaconda3\\lib\\site-packages\\ipykernel_launcher.py:3: RuntimeWarning: invalid value encountered in log\n",
      "  This is separate from the ipykernel package so we can avoid doing imports until\n"
     ]
    }
   ],
   "source": [
    "X = train[['metrostotales','metroscubiertos','banos','gimnasio','habitaciones','antiguedad']]\n",
    "y = train['precio']\n",
    "X_train, X_test, y_train, y_test = train_test_split(X, y, test_size=0.25, random_state=1)\n",
    "\n",
    "#Elimino los Nulls en los x de Entrenaniento y cuando voy a testear\n",
    "X_train = X_train.fillna(X_train.mean())\n",
    "X_test = X_test.fillna(X_test.mean())\n",
    "\n",
    "#Creo y Entreno el modelo de regresion Lineal\n",
    "reg = linear_model.LinearRegression()\n",
    "reg.fit(X_train, y_train)\n",
    "\n",
    "#Calculo de Errores contra mi set de test\n",
    "pred = reg.predict(X_test)\n",
    "dummy_rmsle = RMSLE(y_test, pred)\n",
    "\n",
    "#Calculo de Errores contra mi set de entrenamiento\n",
    "dummy_rmsle_train = RMSLE(y_train, reg.predict(X_train) )\n",
    "print(f\"RMSLE Error (train): {dummy_rmsle_train:.5f}\")\n",
    "print(f\"RMSLE Error (Test): {dummy_rmsle:.5f}\")\n",
    "\n",
    "dummy_rmsle = mean_absolute_error(y_test, pred)\n",
    "dummy_rmsle_train = mean_absolute_error(y_train, reg.predict(X_train) )\n",
    "\n",
    "print(f\"MAE Error (train): {dummy_rmsle_train:.5f}\")\n",
    "print(f\"MAE Error (Test): {dummy_rmsle:.5f}\")"
   ]
  },
  {
   "cell_type": "markdown",
   "metadata": {},
   "source": [
    "## 4"
   ]
  },
  {
   "cell_type": "code",
   "execution_count": 39,
   "metadata": {},
   "outputs": [
    {
     "name": "stdout",
     "output_type": "stream",
     "text": [
      "RMSLE Error (train): 0.61060\n",
      "RMSLE Error (Test): 0.60723\n",
      "MAE Error (train): 1105706.21188\n",
      "MAE Error (Test): 1097307.19302\n"
     ]
    },
    {
     "name": "stderr",
     "output_type": "stream",
     "text": [
      "C:\\Users\\Giova\\Anaconda3\\lib\\site-packages\\ipykernel_launcher.py:3: RuntimeWarning: invalid value encountered in log\n",
      "  This is separate from the ipykernel package so we can avoid doing imports until\n",
      "C:\\Users\\Giova\\Anaconda3\\lib\\site-packages\\ipykernel_launcher.py:3: RuntimeWarning: invalid value encountered in log\n",
      "  This is separate from the ipykernel package so we can avoid doing imports until\n"
     ]
    }
   ],
   "source": [
    "a = train\n",
    "a['fecha'] = pd.to_datetime(a['fecha'])\n",
    "a['anio'] = a['fecha'].dt.year\n",
    "a['mes'] = a['fecha'].dt.month\n",
    "\n",
    "X = a[['anio','mes','metrostotales','centroscomercialescercanos','metroscubiertos','banos','habitaciones','idzona','gimnasio','usosmultiples']]\n",
    "y = a['precio']\n",
    "X_train, X_test, y_train, y_test = train_test_split(X, y, test_size=0.25, random_state=1)\n",
    "\n",
    "#Elimino los Nulls en los x de Entrenaniento y cuando voy a testear\n",
    "X_train = X_train.fillna(X_train.mean())\n",
    "X_test = X_test.fillna(X_test.mean())\n",
    "\n",
    "#Creo y Entreno el modelo de regresion Lineal\n",
    "reg = linear_model.LinearRegression()\n",
    "reg.fit(X_train, y_train)\n",
    "\n",
    "#Calculo de Errores contra mi set de test\n",
    "pred = reg.predict(X_test)\n",
    "dummy_rmsle = RMSLE(y_test, pred)\n",
    "\n",
    "#Calculo de Errores contra mi set de entrenamiento\n",
    "dummy_rmsle_train = RMSLE(y_train, reg.predict(X_train) )\n",
    "print(f\"RMSLE Error (train): {dummy_rmsle_train:.5f}\")\n",
    "print(f\"RMSLE Error (Test): {dummy_rmsle:.5f}\")\n",
    "\n",
    "dummy_rmsle = mean_absolute_error(y_test, pred)\n",
    "dummy_rmsle_train = mean_absolute_error(y_train, reg.predict(X_train) )\n",
    "\n",
    "print(f\"MAE Error (train): {dummy_rmsle_train:.5f}\")\n",
    "print(f\"MAE Error (Test): {dummy_rmsle:.5f}\")"
   ]
  },
  {
   "cell_type": "markdown",
   "metadata": {},
   "source": [
    "# 5º Modelo : Random Forest Regresion"
   ]
  },
  {
   "cell_type": "code",
   "execution_count": 57,
   "metadata": {},
   "outputs": [],
   "source": [
    "# Load libraries\n",
    "from sklearn.ensemble import RandomForestRegressor\n",
    "from sklearn import datasets"
   ]
  },
  {
   "cell_type": "markdown",
   "metadata": {},
   "source": [
    "## 1 (Score 716812.39431)"
   ]
  },
  {
   "cell_type": "code",
   "execution_count": 47,
   "metadata": {},
   "outputs": [
    {
     "name": "stdout",
     "output_type": "stream",
     "text": [
      "RMSLE Error (train): 0.33201\n",
      "RMSLE Error (Test): 0.41936\n",
      "MAE Error (train): 559334.94425\n",
      "MAE Error (Test): 718305.31512\n"
     ]
    }
   ],
   "source": [
    "# Load data with only two features\n",
    "\n",
    "X = train[['metrostotales','centroscomercialescercanos','metroscubiertos','banos','habitaciones','idzona','gimnasio','usosmultiples']]\n",
    "y = train['precio']\n",
    "X_train, X_test, y_train, y_test = train_test_split(X, y, test_size=0.25, random_state=1)\n",
    "\n",
    "#Elimino los Nulls en los x de Entrenaniento y cuando voy a testear\n",
    "X_train = X_train.fillna(X_train.mean())\n",
    "X_test = X_test.fillna(X_test.mean())\n",
    "\n",
    "# Create decision tree classifer object\n",
    "regr = RandomForestRegressor(random_state=0, n_jobs=-1,max_depth = 20,min_samples_split =20 ,n_estimators =50)\n",
    "\n",
    "# Train model\n",
    "model = regr.fit(X_train, y_train)\n",
    "\n",
    "#Calculo de Errores contra mi set de test\n",
    "pred = model.predict(X_test)\n",
    "\n",
    "\n",
    "#Calculo de Errores contra mi set de entrenamiento\n",
    "dummy_rmsle = RMSLE(y_test, pred)\n",
    "dummy_rmsle_train = RMSLE(y_train, model.predict(X_train) )\n",
    "\n",
    "print(f\"RMSLE Error (train): {dummy_rmsle_train:.5f}\")\n",
    "print(f\"RMSLE Error (Test): {dummy_rmsle:.5f}\")\n",
    "\n",
    "dummy_rmsle = mean_absolute_error(y_test, pred)\n",
    "dummy_rmsle_train = mean_absolute_error(y_train, model.predict(X_train) )\n",
    "\n",
    "print(f\"MAE Error (train): {dummy_rmsle_train:.5f}\")\n",
    "print(f\"MAE Error (Test): {dummy_rmsle:.5f}\")\n",
    "\n"
   ]
  },
  {
   "cell_type": "code",
   "execution_count": null,
   "metadata": {},
   "outputs": [],
   "source": [
    "b = test[['metrostotales','centroscomercialescercanos','metroscubiertos','banos','habitaciones','idzona','gimnasio','usosmultiples']]\n",
    "b = b.fillna(b.mean())\n",
    "\n",
    "#Exporto csv con la prediccion\n",
    "pred = model.predict(b) \n",
    "#Creo un dataframe con el formato ( id , precio (El precio predecido ))\n",
    "res = test['id'].to_frame()\n",
    "res.insert(1,'target', pred , True) \n",
    "#Exportamos la prediccion en formato csv sin labels\n",
    "res.to_csv(r'C:\\Users\\Giova\\JupiterLabFolder\\Archivos CSV\\res.csv',index=False , header=True)"
   ]
  },
  {
   "cell_type": "markdown",
   "metadata": {},
   "source": [
    "## 2   ( score 702024.74347 ) "
   ]
  },
  {
   "cell_type": "code",
   "execution_count": 48,
   "metadata": {},
   "outputs": [
    {
     "name": "stdout",
     "output_type": "stream",
     "text": [
      "RMSLE Error (train): 0.22532\n",
      "RMSLE Error (Test): 0.40942\n",
      "MAE Error (train): 337653.34109\n",
      "MAE Error (Test): 704304.79830\n"
     ]
    }
   ],
   "source": [
    "# Load data with only two features\n",
    "\n",
    "X = train[['metrostotales','centroscomercialescercanos','metroscubiertos','banos','habitaciones','idzona','gimnasio','usosmultiples']]\n",
    "y = train['precio']\n",
    "X_train, X_test, y_train, y_test = train_test_split(X, y, test_size=0.25, random_state=1)\n",
    "\n",
    "#Elimino los Nulls en los x de Entrenaniento y cuando voy a testear\n",
    "X_train = X_train.fillna(X_train.mean())\n",
    "X_test = X_test.fillna(X_test.mean())\n",
    "\n",
    "# Create decision tree classifer object\n",
    "regr = RandomForestRegressor(random_state=0, n_jobs=-1,max_depth = 100,max_features =6,min_samples_split = 4 ,n_estimators =200)\n",
    "\n",
    "# Train model\n",
    "model = regr.fit(X_train, y_train)\n",
    "\n",
    "#Calculo de Errores contra mi set de test\n",
    "pred = model.predict(X_test)\n",
    "dummy_rmsle = RMSLE(y_test, pred)\n",
    "\n",
    "#Calculo de Errores contra mi set de entrenamiento\n",
    "dummy_rmsle_train = RMSLE(y_train, model.predict(X_train) )\n",
    "print(f\"RMSLE Error (train): {dummy_rmsle_train:.5f}\")\n",
    "print(f\"RMSLE Error (Test): {dummy_rmsle:.5f}\")\n",
    "\n",
    "dummy_rmsle = mean_absolute_error(y_test, pred)\n",
    "dummy_rmsle_train = mean_absolute_error(y_train, model.predict(X_train) )\n",
    "\n",
    "print(f\"MAE Error (train): {dummy_rmsle_train:.5f}\")\n",
    "print(f\"MAE Error (Test): {dummy_rmsle:.5f}\")"
   ]
  },
  {
   "cell_type": "code",
   "execution_count": null,
   "metadata": {},
   "outputs": [],
   "source": [
    "b = test[['metrostotales','centroscomercialescercanos','metroscubiertos','banos','habitaciones','idzona','gimnasio','usosmultiples']]\n",
    "b = b.fillna(b.mean())\n",
    "\n",
    "#Exporto csv con la prediccion\n",
    "pred = model.predict(b) \n",
    "#Creo un dataframe con el formato ( id , precio (El precio predecido ))\n",
    "res = test['id'].to_frame()\n",
    "res.insert(1,'target', pred , True) \n",
    "#Exportamos la prediccion en formato csv sin labels\n",
    "res.to_csv(r'C:\\Users\\Giova\\JupiterLabFolder\\Archivos CSV\\res.csv',index=False , header=True)"
   ]
  },
  {
   "cell_type": "markdown",
   "metadata": {},
   "source": [
    "## 3 (Score 669492.31492) "
   ]
  },
  {
   "cell_type": "code",
   "execution_count": 58,
   "metadata": {},
   "outputs": [
    {
     "name": "stdout",
     "output_type": "stream",
     "text": [
      "RMSLE Error (train): 0.12171\n",
      "RMSLE Error (Test): 0.39234\n",
      "MAE Error (train): 150703.83197\n",
      "MAE Error (Test): 659485.92929\n"
     ]
    }
   ],
   "source": [
    "a = train\n",
    "a['fecha'] = pd.to_datetime(a['fecha'])\n",
    "a['anio'] = a['fecha'].dt.year\n",
    "a['mes'] = a['fecha'].dt.month\n",
    "a['dia'] = a['fecha'].dt.dayofweek\n",
    "\n",
    "# Load data with only two features\n",
    "\n",
    "X = a[['anio','mes','metrostotales','centroscomercialescercanos','piscina','escuelascercanas','metroscubiertos','banos','habitaciones','lat','lng','idzona','gimnasio','usosmultiples']]\n",
    "y = a['precio']\n",
    "X_train, X_test, y_train, y_test = train_test_split(X, y, test_size=0.25, random_state=1)\n",
    "\n",
    "#Elimino los Nulls en los x de Entrenaniento y cuando voy a testear\n",
    "X_train = X_train.fillna(X_train.mean())\n",
    "X_test = X_test.fillna(X_test.mean())\n",
    "\n",
    "# Create decision tree classifer object\n",
    "regr = RandomForestRegressor(random_state=0,bootstrap =False,min_samples_leaf=2 ,n_jobs=-1,max_depth = 100,max_features = 8 ,min_samples_split = 2 ,n_estimators =99)\n",
    "\n",
    "# Train model\n",
    "model = regr.fit(X_train, y_train)\n",
    "\n",
    "#Calculo de Errores contra mi set de test\n",
    "pred = model.predict(X_test)\n",
    "dummy_rmsle = RMSLE(y_test, pred)\n",
    "\n",
    "#Calculo de Errores contra mi set de entrenamiento\n",
    "dummy_rmsle_train = RMSLE(y_train, model.predict(X_train) )\n",
    "print(f\"RMSLE Error (train): {dummy_rmsle_train:.5f}\")\n",
    "print(f\"RMSLE Error (Test): {dummy_rmsle:.5f}\")\n",
    "\n",
    "dummy_rmsle = mean_absolute_error(y_test, pred)\n",
    "dummy_rmsle_train = mean_absolute_error(y_train, model.predict(X_train) )\n",
    "\n",
    "print(f\"MAE Error (train): {dummy_rmsle_train:.5f}\")\n",
    "print(f\"MAE Error (Test): {dummy_rmsle:.5f}\")"
   ]
  },
  {
   "cell_type": "code",
   "execution_count": null,
   "metadata": {},
   "outputs": [],
   "source": [
    "c = test\n",
    "c['fecha'] = pd.to_datetime(c['fecha'])\n",
    "c['anio'] = c['fecha'].dt.year\n",
    "c['mes'] = c['fecha'].dt.month\n",
    "c['dia'] = c['fecha'].dt.dayofweek\n",
    "\n",
    "b = c[['anio','mes','metrostotales','centroscomercialescercanos','piscina','escuelascercanas','metroscubiertos','banos','habitaciones','lat','lng','idzona','gimnasio','usosmultiples']]\n",
    "b = b.fillna(b.mean())\n",
    "\n",
    "#Exporto csv con la prediccion\n",
    "pred = model.predict(b) \n",
    "#Creo un dataframe con el formato ( id , precio (El precio predecido ))\n",
    "res = test['id'].to_frame()\n",
    "res.insert(1,'target', pred , True) \n",
    "#Exportamos la prediccion en formato csv sin labels\n",
    "res.to_csv(r'C:\\Users\\Giova\\JupiterLabFolder\\Archivos CSV\\res.csv',index=False , header=True)"
   ]
  },
  {
   "cell_type": "markdown",
   "metadata": {},
   "source": [
    "## 4  score 583658.64804"
   ]
  },
  {
   "cell_type": "code",
   "execution_count": 59,
   "metadata": {},
   "outputs": [
    {
     "name": "stdout",
     "output_type": "stream",
     "text": [
      "RMSLE Error (train): 0.13892\n",
      "RMSLE Error (Test): 0.35932\n",
      "MAE Error (train): 183518.00384\n",
      "MAE Error (Test): 599651.31538\n"
     ]
    }
   ],
   "source": [
    "\n",
    "a = train\n",
    "\n",
    "cleanup_nums = {\"tipodepropiedad\":     {\n",
    "    \"Casa\": 1,\n",
    "    \"Apartamento\": 2, \n",
    "    \"Casa en condominio\": 3,\n",
    "    \"Terreno\": 4,\n",
    "    \"Local Comercial\": 5,\n",
    "    \"Oficina comercial\": 6,\n",
    "    \"Bodega comercial\": 7,\n",
    "    \"Edificio\": 8,\n",
    "    \"Terreno comercial\": 9,\n",
    "    \"Casa uso de suelo\": 10,\n",
    "    \"Quinta Vacacional\": 11,\n",
    "    \"Duplex\": 12,\n",
    "    \"Villa\": 13,\n",
    "    \"Inmuebles productivos urbanos\": 14,\n",
    "    \"Rancho\": 15,\n",
    "    \"Local en centro comercial\": 16,\n",
    "    \"Departamento Compartido\": 17,\n",
    "    \"Otros\": 18,\n",
    "    \"Nave industrial\": 19,\n",
    "    \"Terreno industrial\": 20,\n",
    "    \"Huerta\": 21,\n",
    "    \"Lote\": 22,\n",
    "    \"Hospedaje\": 23,\n",
    "    \"Garage\": 24\n",
    "                                   \n",
    "}  }\n",
    "\n",
    "a = a.replace(cleanup_nums)\n",
    "#a['tituloLen'] = a['titulo'].apply(len)\n",
    "\n",
    "a['fecha'] = pd.to_datetime(a['fecha'])\n",
    "a['anio'] = a['fecha'].dt.year\n",
    "a['mes'] = a['fecha'].dt.month\n",
    "a['dia'] = a['fecha'].dt.dayofweek\n",
    "\n",
    "a = a.fillna(X_train.mean())\n",
    "\n",
    "# Load data with only two features\n",
    "\n",
    "X = a[['tipodepropiedad','anio','metrostotales','antiguedad','centroscomercialescercanos','garages','piscina','metroscubiertos','banos','habitaciones','lat','lng','idzona','gimnasio','usosmultiples']]\n",
    "y = a['precio']\n",
    "X_train, X_test, y_train, y_test = train_test_split(X, y, test_size=0.25, random_state=1)\n",
    "\n",
    "#Elimino los Nulls en los x de Entrenaniento y cuando voy a testear\n",
    "X_train = X_train.fillna(X_train.mean())\n",
    "X_test = X_test.fillna(X_test.mean())\n",
    "\n",
    "# Create decision tree classifer object\n",
    "regr = RandomForestRegressor(random_state=0,bootstrap =False,min_samples_leaf=2 ,n_jobs=-1,\n",
    "                             max_depth = 100,max_features = 5 ,min_samples_split = 2 ,\n",
    "                             n_estimators = 400)\n",
    "\n",
    "# Train model\n",
    "model = regr.fit(X_train, y_train)\n",
    "\n",
    "#Calculo de Errores contra mi set de test\n",
    "pred = model.predict(X_test)\n",
    "dummy_rmsle = RMSLE(y_test, pred)\n",
    "\n",
    "#Calculo de Errores contra mi set de entrenamiento\n",
    "dummy_rmsle_train = RMSLE(y_train, model.predict(X_train) )\n",
    "print(f\"RMSLE Error (train): {dummy_rmsle_train:.5f}\")\n",
    "print(f\"RMSLE Error (Test): {dummy_rmsle:.5f}\")\n",
    "\n",
    "\n",
    "dummy_rmsle = mean_absolute_error(y_test, pred)\n",
    "dummy_rmsle_train = mean_absolute_error(y_train, model.predict(X_train) )\n",
    "\n",
    "print(f\"MAE Error (train): {dummy_rmsle_train:.5f}\")\n",
    "print(f\"MAE Error (Test): {dummy_rmsle:.5f}\")\n"
   ]
  },
  {
   "cell_type": "code",
   "execution_count": 60,
   "metadata": {},
   "outputs": [
    {
     "data": {
      "text/plain": [
       "tipodepropiedad                    1.87\n",
       "anio                            2014.67\n",
       "metrostotales                    176.92\n",
       "antiguedad                         8.09\n",
       "centroscomercialescercanos         0.40\n",
       "garages                            1.55\n",
       "piscina                            0.09\n",
       "metroscubiertos                  174.16\n",
       "banos                              2.13\n",
       "habitaciones                       2.90\n",
       "lat                               20.70\n",
       "lng                              -99.53\n",
       "idzona                       2438952.04\n",
       "gimnasio                           0.06\n",
       "usosmultiples                      0.06\n",
       "dtype: float64"
      ]
     },
     "execution_count": 60,
     "metadata": {},
     "output_type": "execute_result"
    }
   ],
   "source": [
    "X_train.mean() # Valores en los Nulls"
   ]
  },
  {
   "cell_type": "code",
   "execution_count": 63,
   "metadata": {},
   "outputs": [
    {
     "name": "stdout",
     "output_type": "stream",
     "text": [
      "MAE Error (train): 183518.00384\n",
      "MAE Error (Test): 2068041.14192\n"
     ]
    }
   ],
   "source": [
    "c = test\n",
    "cleanup_nums = {\"tipodepropiedad\":     {\n",
    "    \"Casa\": 1,\n",
    "    \"Apartamento\": 2, \n",
    "    \"Casa en condominio\": 3,\n",
    "    \"Terreno\": 4,\n",
    "    \"Local Comercial\": 5,\n",
    "    \"Oficina comercial\": 6,\n",
    "    \"Bodega comercial\": 7,\n",
    "    \"Edificio\": 8,\n",
    "    \"Terreno comercial\": 9,\n",
    "    \"Casa uso de suelo\": 10,\n",
    "    \"Quinta Vacacional\": 11,\n",
    "    \"Duplex\": 12,\n",
    "    \"Villa\": 13,\n",
    "    \"Inmuebles productivos urbanos\": 14,\n",
    "    \"Rancho\": 15,\n",
    "    \"Local en centro comercial\": 16,\n",
    "    \"Departamento Compartido\": 17,\n",
    "    \"Otros\": 18,\n",
    "    \"Nave industrial\": 19,\n",
    "    \"Terreno industrial\": 20,\n",
    "    \"Huerta\": 21,\n",
    "    \"Lote\": 22,\n",
    "    \"Hospedaje\": 23,\n",
    "    \"Garage\": 24\n",
    "                                   \n",
    "}  }\n",
    "\n",
    "c = c.replace(cleanup_nums)\n",
    "c['fecha'] = pd.to_datetime(c['fecha'])\n",
    "c['anio'] = c['fecha'].dt.year\n",
    "\n",
    "c = c.fillna(X_train.mean())\n",
    "\n",
    "b = c[['tipodepropiedad','anio','metrostotales','antiguedad','centroscomercialescercanos','garages','piscina','metroscubiertos','banos','habitaciones','lat','lng','idzona','gimnasio','usosmultiples']]\n",
    "b = b.fillna(b.mean())\n",
    "\n",
    "#Exporto csv con la prediccion\n",
    "pred = model.predict(b) \n",
    "#Creo un dataframe con el formato ( id , precio (El precio predecido ))\n",
    "res = test['id'].to_frame()\n",
    "res.insert(1,'target', pred , True) \n",
    "#Exportamos la prediccion en formato csv sin labels\n",
    "res.to_csv(r'C:\\Users\\Giova\\JupiterLabFolder\\Archivos CSV\\res.csv',index=False , header=True)\n"
   ]
  },
  {
   "cell_type": "markdown",
   "metadata": {},
   "source": [
    "## 5"
   ]
  },
  {
   "cell_type": "code",
   "execution_count": 64,
   "metadata": {},
   "outputs": [
    {
     "name": "stdout",
     "output_type": "stream",
     "text": [
      "RMSLE Error (train): 0.09347\n",
      "RMSLE Error (Test): 0.35775\n",
      "MAE Error (train): 112026.05990\n",
      "MAE Error (Test): 591196.32856\n"
     ]
    }
   ],
   "source": [
    "#Preparo los datos\n",
    "\n",
    "cleanup_nums = {\"tipodepropiedad\":     {\n",
    "    \"Casa\": 1,\n",
    "    \"Apartamento\": 2, \n",
    "    \"Casa en condominio\": 3,\n",
    "    \"Terreno\": 4,\n",
    "    \"Local Comercial\": 5,\n",
    "    \"Oficina comercial\": 6,\n",
    "    \"Bodega comercial\": 7,\n",
    "    \"Edificio\": 8,\n",
    "    \"Terreno comercial\": 9,\n",
    "    \"Casa uso de suelo\": 10,\n",
    "    \"Quinta Vacacional\": 11,\n",
    "    \"Duplex\": 12,\n",
    "    \"Villa\": 13,\n",
    "    \"Inmuebles productivos urbanos\": 14,\n",
    "    \"Rancho\": 15,\n",
    "    \"Local en centro comercial\": 16,\n",
    "    \"Departamento Compartido\": 17,\n",
    "    \"Otros\": 18,\n",
    "    \"Nave industrial\": 19,\n",
    "    \"Terreno industrial\": 20,\n",
    "    \"Huerta\": 21,\n",
    "    \"Lote\": 22,\n",
    "    \"Hospedaje\": 23,\n",
    "    \"Garage\": 24\n",
    "                                   \n",
    "}  }\n",
    "\n",
    "a = train\n",
    "a = a.replace(cleanup_nums)\n",
    "\n",
    "a['fecha'] = pd.to_datetime(a['fecha'])\n",
    "a['anio'] = a['fecha'].dt.year\n",
    "a['mes'] = a['fecha'].dt.month\n",
    "\n",
    "\n",
    "drop_cols = [ 'ciudad', 'provincia', 'titulo', 'descripcion', 'direccion']\n",
    "a = a.drop(drop_cols, axis=1)\n",
    "\n",
    "#Relleno los nulls\n",
    "a[['tipodepropiedad']] = a[['tipodepropiedad']].fillna(value=3)\n",
    "a[['metroscubiertos']] = a[['metroscubiertos']].fillna(value= (a['metroscubiertos'].mean())  )\n",
    "a[['antiguedad']] = a[['antiguedad']].fillna(value= (a['antiguedad'].mean()) )\n",
    "a[['habitaciones']] = a[['habitaciones']].fillna(value= (a['habitaciones'].mean()) )\n",
    "a[['banos']] = a[['banos']].fillna(value= (a['habitaciones'].mean()))\n",
    "a[['idzona']] = a[['idzona']].fillna(value=(a['idzona'].mean()))\n",
    "a[['garages']] = a[['garages']].fillna(value=(a['garages'].mean()))\n",
    "a[['metrostotales']] = a[['metrostotales']].fillna(value=(a['metrostotales'].mean()))\n",
    "a[['lng']] = a[['lng']].fillna(value=(a['lng'].mean()))\n",
    "a[['lat']] = a[['lat']].fillna(value=(a['lat'].mean()))\n",
    "\n",
    "\n",
    "# Load data with only two features\n",
    "\n",
    "X = a[['tipodepropiedad','anio','mes','metrostotales','antiguedad','garages','piscina','metroscubiertos','banos','habitaciones','lat','lng','idzona','gimnasio','usosmultiples']]\n",
    "y = a['precio']\n",
    "\n",
    "X_train, X_test, y_train, y_test = train_test_split(X, y, test_size=0.25, random_state=1)\n",
    "\n",
    "#Elimino los Nulls en los x de Entrenaniento y cuando voy a testear\n",
    "X_train = X_train.fillna(X_train.mean())\n",
    "X_test = X_test.fillna(X_test.mean())\n",
    "\n",
    "# Create decision tree classifer object\n",
    "regr = RandomForestRegressor(random_state=0,bootstrap =False,min_samples_leaf=2 ,n_jobs=-1,max_depth = 80,max_features = 10 ,min_samples_split = 2 ,n_estimators = 500)\n",
    "\n",
    "# Train model\n",
    "model = regr.fit(X_train, y_train)\n",
    "\n",
    "#Calculo de Errores contra mi set de test\n",
    "pred = model.predict(X_test)\n",
    "dummy_rmsle = RMSLE(y_test, pred)\n",
    "\n",
    "#Calculo de Errores contra mi set de entrenamiento\n",
    "dummy_rmsle_train = RMSLE(y_train, model.predict(X_train) )\n",
    "print(f\"RMSLE Error (train): {dummy_rmsle_train:.5f}\")\n",
    "print(f\"RMSLE Error (Test): {dummy_rmsle:.5f}\")\n",
    "\n",
    "dummy_rmsle = mean_absolute_error(y_test, pred)\n",
    "dummy_rmsle_train = mean_absolute_error(y_train, model.predict(X_train) )\n",
    "\n",
    "print(f\"MAE Error (train): {dummy_rmsle_train:.5f}\")\n",
    "print(f\"MAE Error (Test): {dummy_rmsle:.5f}\")"
   ]
  },
  {
   "cell_type": "code",
   "execution_count": null,
   "metadata": {},
   "outputs": [],
   "source": [
    "\n",
    "cleanup_nums = {\"tipodepropiedad\":     {\n",
    "    \"Casa\": 1,\n",
    "    \"Apartamento\": 2, \n",
    "    \"Casa en condominio\": 3,\n",
    "    \"Terreno\": 4,\n",
    "    \"Local Comercial\": 5,\n",
    "    \"Oficina comercial\": 6,\n",
    "    \"Bodega comercial\": 7,\n",
    "    \"Edificio\": 8,\n",
    "    \"Terreno comercial\": 9,\n",
    "    \"Casa uso de suelo\": 10,\n",
    "    \"Quinta Vacacional\": 11,\n",
    "    \"Duplex\": 12,\n",
    "    \"Villa\": 13,\n",
    "    \"Inmuebles productivos urbanos\": 14,\n",
    "    \"Rancho\": 15,\n",
    "    \"Local en centro comercial\": 16,\n",
    "    \"Departamento Compartido\": 17,\n",
    "    \"Otros\": 18,\n",
    "    \"Nave industrial\": 19,\n",
    "    \"Terreno industrial\": 20,\n",
    "    \"Huerta\": 21,\n",
    "    \"Lote\": 22,\n",
    "    \"Hospedaje\": 23,\n",
    "    \"Garage\": 24\n",
    "                                   \n",
    "}  }\n",
    "\n",
    "c = test\n",
    "c = c.replace(cleanup_nums)\n",
    "c['fecha'] = pd.to_datetime(c['fecha'])\n",
    "c['anio'] = c['fecha'].dt.year\n",
    "c['mes'] = c['fecha'].dt.month\n",
    "\n",
    "drop_cols = [ 'ciudad', 'provincia', 'titulo', 'descripcion', 'direccion']\n",
    "c = c.drop(drop_cols, axis=1)\n",
    "\n",
    "#Relleno los nulls\n",
    "c[['tipodepropiedad']] = c[['tipodepropiedad']].fillna(value=3)\n",
    "c[['metroscubiertos']] = c[['metroscubiertos']].fillna(value= (c['metroscubiertos'].mean())  )\n",
    "c[['antiguedad']] = c[['antiguedad']].fillna(value= (c['antiguedad'].mean()) )\n",
    "c[['habitaciones']] = c[['habitaciones']].fillna(value= (c['habitaciones'].mean()) )\n",
    "c[['banos']] = c[['banos']].fillna(value= (c['habitaciones'].mean()))\n",
    "c[['idzona']] = c[['idzona']].fillna(value=(c['idzona'].mean()))\n",
    "c[['garages']] = c[['garages']].fillna(value=(c['garages'].mean()))\n",
    "c[['metrostotales']] = c[['metrostotales']].fillna(value=(c['metrostotales'].mean()))\n",
    "c[['lng']] = c[['lng']].fillna(value=(c['lng'].mean()))\n",
    "c[['lat']] = c[['lat']].fillna(value=(c['lat'].mean()))\n",
    "\n",
    "\n",
    "b = c[['tipodepropiedad','anio','mes','metrostotales','antiguedad','garages','piscina','metroscubiertos','banos','habitaciones','lat','lng','idzona','gimnasio','usosmultiples']]\n",
    "\n",
    "\n",
    "#Exporto csv con la prediccion\n",
    "pred = model.predict(b) \n",
    "#Creo un dataframe con el formato ( id , precio (El precio predecido ))\n",
    "res = test['id'].to_frame()\n",
    "res.insert(1,'target', pred , True) \n",
    "#Exportamos la prediccion en formato csv sin labels\n",
    "res.to_csv(r'C:\\Users\\Giova\\JupiterLabFolder\\Archivos CSV\\res.csv',index=False , header=True)"
   ]
  },
  {
   "cell_type": "markdown",
   "metadata": {},
   "source": [
    "# 6º -Modelo : KNN"
   ]
  },
  {
   "cell_type": "code",
   "execution_count": 66,
   "metadata": {},
   "outputs": [],
   "source": [
    "from sklearn.neighbors import KNeighborsRegressor"
   ]
  },
  {
   "cell_type": "markdown",
   "metadata": {},
   "source": [
    "## 1  Score:  745536.27245"
   ]
  },
  {
   "cell_type": "code",
   "execution_count": 67,
   "metadata": {},
   "outputs": [
    {
     "name": "stdout",
     "output_type": "stream",
     "text": [
      "RMSLE Error (train): 0.42322\n",
      "RMSLE Error (Test): 0.44397\n",
      "MAE Error (train): 729996.35736\n",
      "MAE Error (Test): 762946.37406\n"
     ]
    }
   ],
   "source": [
    "#Preparo los datos\n",
    "\n",
    "cleanup_nums = {\"tipodepropiedad\":     {\n",
    "    \"Casa\": 1,\n",
    "    \"Apartamento\": 2, \n",
    "    \"Casa en condominio\": 3,\n",
    "    \"Terreno\": 4,\n",
    "    \"Local Comercial\": 5,\n",
    "    \"Oficina comercial\": 6,\n",
    "    \"Bodega comercial\": 7,\n",
    "    \"Edificio\": 8,\n",
    "    \"Terreno comercial\": 9,\n",
    "    \"Casa uso de suelo\": 10,\n",
    "    \"Quinta Vacacional\": 11,\n",
    "    \"Duplex\": 12,\n",
    "    \"Villa\": 13,\n",
    "    \"Inmuebles productivos urbanos\": 14,\n",
    "    \"Rancho\": 15,\n",
    "    \"Local en centro comercial\": 16,\n",
    "    \"Departamento Compartido\": 17,\n",
    "    \"Otros\": 18,\n",
    "    \"Nave industrial\": 19,\n",
    "    \"Terreno industrial\": 20,\n",
    "    \"Huerta\": 21,\n",
    "    \"Lote\": 22,\n",
    "    \"Hospedaje\": 23,\n",
    "    \"Garage\": 24\n",
    "                                   \n",
    "}  }\n",
    "\n",
    "a = train\n",
    "a = a.replace(cleanup_nums)\n",
    "\n",
    "a['fecha'] = pd.to_datetime(a['fecha'])\n",
    "a['anio'] = a['fecha'].dt.year\n",
    "a['mes'] = a['fecha'].dt.month\n",
    "\n",
    "\n",
    "drop_cols = [ 'ciudad', 'provincia', 'titulo', 'descripcion', 'direccion']\n",
    "a = a.drop(drop_cols, axis=1)\n",
    "\n",
    "#Relleno los nulls\n",
    "a[['tipodepropiedad']] = a[['tipodepropiedad']].fillna(value=1)\n",
    "a[['metroscubiertos']] = a[['metroscubiertos']].fillna(value= (a['metroscubiertos'].mean())  )\n",
    "a[['antiguedad']] = a[['antiguedad']].fillna(value= (a['antiguedad'].mean()) )\n",
    "a[['habitaciones']] = a[['habitaciones']].fillna(value= (a['habitaciones'].mean()) )\n",
    "a[['banos']] = a[['banos']].fillna(value= (a['habitaciones'].mean()))\n",
    "a[['idzona']] = a[['idzona']].fillna(value=(a['idzona'].mean()))\n",
    "a[['garages']] = a[['garages']].fillna(value=(a['garages'].mean()))\n",
    "a[['metrostotales']] = a[['metrostotales']].fillna(value=(a['metrostotales'].mean()))\n",
    "a[['lng']] = a[['lng']].fillna(value=(a['lng'].mean()))\n",
    "a[['lat']] = a[['lat']].fillna(value=(a['lat'].mean()))\n",
    "\n",
    "\n",
    "# Load data with only two features\n",
    "\n",
    "X = a[['tipodepropiedad','anio','mes','metrostotales','antiguedad','garages','piscina','metroscubiertos','banos','habitaciones','lat','lng','idzona','gimnasio','usosmultiples']]\n",
    "y = a['precio']\n",
    "\n",
    "X_train, X_test, y_train, y_test = train_test_split(X, y, test_size=0.25, random_state=1)\n",
    "\n",
    "#Elimino los Nulls en los x de Entrenaniento y cuando voy a testear\n",
    "X_train = X_train.fillna(X_train.mean())\n",
    "X_test = X_test.fillna(X_test.mean())\n",
    "\n",
    "# Create KNN Regressor\n",
    "regressor = KNeighborsRegressor(20)\n",
    "#cross_val_score(regressor, boston.data, boston.target, cv=10)\n",
    "\n",
    "# Train model\n",
    "model = regressor.fit(X_train, y_train)\n",
    "\n",
    "#Calculo de Errores contra mi set de test\n",
    "pred = model.predict(X_test)\n",
    "dummy_rmsle = RMSLE(y_test, pred)\n",
    "\n",
    "#Calculo de Errores contra mi set de entrenamiento\n",
    "dummy_rmsle_train = RMSLE(y_train, model.predict(X_train) )\n",
    "print(f\"RMSLE Error (train): {dummy_rmsle_train:.5f}\")\n",
    "print(f\"RMSLE Error (Test): {dummy_rmsle:.5f}\")\n",
    "\n",
    "dummy_rmsle = mean_absolute_error(y_test, pred)\n",
    "dummy_rmsle_train = mean_absolute_error(y_train, model.predict(X_train) )\n",
    "\n",
    "print(f\"MAE Error (train): {dummy_rmsle_train:.5f}\")\n",
    "print(f\"MAE Error (Test): {dummy_rmsle:.5f}\")"
   ]
  },
  {
   "cell_type": "code",
   "execution_count": null,
   "metadata": {},
   "outputs": [],
   "source": [
    "cleanup_nums = {\"tipodepropiedad\":     {\n",
    "    \"Casa\": 1,\n",
    "    \"Apartamento\": 2, \n",
    "    \"Casa en condominio\": 3,\n",
    "    \"Terreno\": 4,\n",
    "    \"Local Comercial\": 5,\n",
    "    \"Oficina comercial\": 6,\n",
    "    \"Bodega comercial\": 7,\n",
    "    \"Edificio\": 8,\n",
    "    \"Terreno comercial\": 9,\n",
    "    \"Casa uso de suelo\": 10,\n",
    "    \"Quinta Vacacional\": 11,\n",
    "    \"Duplex\": 12,\n",
    "    \"Villa\": 13,\n",
    "    \"Inmuebles productivos urbanos\": 14,\n",
    "    \"Rancho\": 15,\n",
    "    \"Local en centro comercial\": 16,\n",
    "    \"Departamento Compartido\": 17,\n",
    "    \"Otros\": 18,\n",
    "    \"Nave industrial\": 19,\n",
    "    \"Terreno industrial\": 20,\n",
    "    \"Huerta\": 21,\n",
    "    \"Lote\": 22,\n",
    "    \"Hospedaje\": 23,\n",
    "    \"Garage\": 24\n",
    "                                   \n",
    "}  }\n",
    "\n",
    "c = test\n",
    "c = c.replace(cleanup_nums)\n",
    "c['fecha'] = pd.to_datetime(c['fecha'])\n",
    "c['anio'] = c['fecha'].dt.year\n",
    "c['mes'] = c['fecha'].dt.month\n",
    "\n",
    "drop_cols = [ 'ciudad', 'provincia', 'titulo', 'descripcion', 'direccion']\n",
    "c = c.drop(drop_cols, axis=1)\n",
    "\n",
    "#Relleno los nulls\n",
    "c[['tipodepropiedad']] = c[['tipodepropiedad']].fillna(value=3)\n",
    "c[['metroscubiertos']] = c[['metroscubiertos']].fillna(value= (c['metroscubiertos'].mean())  )\n",
    "c[['antiguedad']] = c[['antiguedad']].fillna(value= (c['antiguedad'].mean()) )\n",
    "c[['habitaciones']] = c[['habitaciones']].fillna(value= (c['habitaciones'].mean()) )\n",
    "c[['banos']] = c[['banos']].fillna(value= (c['habitaciones'].mean()))\n",
    "c[['idzona']] = c[['idzona']].fillna(value=(c['idzona'].mean()))\n",
    "c[['garages']] = c[['garages']].fillna(value=(c['garages'].mean()))\n",
    "c[['metrostotales']] = c[['metrostotales']].fillna(value=(c['metrostotales'].mean()))\n",
    "c[['lng']] = c[['lng']].fillna(value=(c['lng'].mean()))\n",
    "c[['lat']] = c[['lat']].fillna(value=(c['lat'].mean()))\n",
    "\n",
    "\n",
    "b = c[['tipodepropiedad','anio','mes','metrostotales','antiguedad','garages','piscina','metroscubiertos','banos','habitaciones','lat','lng','idzona','gimnasio','usosmultiples']]\n",
    "\n",
    "\n",
    "#Exporto csv con la prediccion\n",
    "pred = model.predict(b) \n",
    "#Creo un dataframe con el formato ( id , precio (El precio predecido ))\n",
    "res = test['id'].to_frame()\n",
    "res.insert(1,'target', pred , True) \n",
    "#Exportamos la prediccion en formato csv sin labels\n",
    "res.to_csv(r'C:\\Users\\Giova\\JupiterLabFolder\\Archivos CSV\\res.csv',index=False , header=True)"
   ]
  },
  {
   "cell_type": "markdown",
   "metadata": {},
   "source": [
    "# 7º Modelo : Ridge Regression"
   ]
  },
  {
   "cell_type": "code",
   "execution_count": 68,
   "metadata": {},
   "outputs": [],
   "source": [
    "from sklearn.linear_model import Ridge"
   ]
  },
  {
   "cell_type": "code",
   "execution_count": 70,
   "metadata": {},
   "outputs": [
    {
     "name": "stdout",
     "output_type": "stream",
     "text": [
      "RMSLE Error (train): 0.61568\n",
      "RMSLE Error (Test): 0.61833\n",
      "MAE Error (train): 1084562.35267\n",
      "MAE Error (Test): 1075626.77831\n"
     ]
    },
    {
     "name": "stderr",
     "output_type": "stream",
     "text": [
      "C:\\Users\\Giova\\Anaconda3\\lib\\site-packages\\ipykernel_launcher.py:3: RuntimeWarning: invalid value encountered in log\n",
      "  This is separate from the ipykernel package so we can avoid doing imports until\n",
      "C:\\Users\\Giova\\Anaconda3\\lib\\site-packages\\ipykernel_launcher.py:3: RuntimeWarning: invalid value encountered in log\n",
      "  This is separate from the ipykernel package so we can avoid doing imports until\n"
     ]
    }
   ],
   "source": [
    "\n",
    "\n",
    "\n",
    "#Preparo los datos\n",
    "\n",
    "cleanup_nums = {\"tipodepropiedad\":     {\n",
    "    \"Casa\": 1,\n",
    "    \"Apartamento\": 2, \n",
    "    \"Casa en condominio\": 3,\n",
    "    \"Terreno\": 4,\n",
    "    \"Local Comercial\": 5,\n",
    "    \"Oficina comercial\": 6,\n",
    "    \"Bodega comercial\": 7,\n",
    "    \"Edificio\": 8,\n",
    "    \"Terreno comercial\": 9,\n",
    "    \"Casa uso de suelo\": 10,\n",
    "    \"Quinta Vacacional\": 11,\n",
    "    \"Duplex\": 12,\n",
    "    \"Villa\": 13,\n",
    "    \"Inmuebles productivos urbanos\": 14,\n",
    "    \"Rancho\": 15,\n",
    "    \"Local en centro comercial\": 16,\n",
    "    \"Departamento Compartido\": 17,\n",
    "    \"Otros\": 18,\n",
    "    \"Nave industrial\": 19,\n",
    "    \"Terreno industrial\": 20,\n",
    "    \"Huerta\": 21,\n",
    "    \"Lote\": 22,\n",
    "    \"Hospedaje\": 23,\n",
    "    \"Garage\": 24\n",
    "                                   \n",
    "}  }\n",
    "\n",
    "a = train\n",
    "a = a.replace(cleanup_nums)\n",
    "\n",
    "a['fecha'] = pd.to_datetime(a['fecha'])\n",
    "a['anio'] = a['fecha'].dt.year\n",
    "a['mes'] = a['fecha'].dt.month\n",
    "\n",
    "\n",
    "drop_cols = [ 'ciudad', 'provincia', 'titulo', 'descripcion', 'direccion']\n",
    "a = a.drop(drop_cols, axis=1)\n",
    "\n",
    "#Relleno los nulls\n",
    "a[['tipodepropiedad']] = a[['tipodepropiedad']].fillna(value=1)\n",
    "a[['metroscubiertos']] = a[['metroscubiertos']].fillna(value= (a['metroscubiertos'].mean())  )\n",
    "a[['antiguedad']] = a[['antiguedad']].fillna(value= (a['antiguedad'].mean()) )\n",
    "a[['habitaciones']] = a[['habitaciones']].fillna(value= (a['habitaciones'].mean()) )\n",
    "a[['banos']] = a[['banos']].fillna(value= (a['habitaciones'].mean()))\n",
    "a[['idzona']] = a[['idzona']].fillna(value=(a['idzona'].mean()))\n",
    "a[['garages']] = a[['garages']].fillna(value=(a['garages'].mean()))\n",
    "a[['metrostotales']] = a[['metrostotales']].fillna(value=(a['metrostotales'].mean()))\n",
    "a[['lng']] = a[['lng']].fillna(value=(a['lng'].mean()))\n",
    "a[['lat']] = a[['lat']].fillna(value=(a['lat'].mean()))\n",
    "\n",
    "\n",
    "# Load data with only two features\n",
    "\n",
    "X = a[['tipodepropiedad','anio','mes','metrostotales','antiguedad','garages','piscina','metroscubiertos','banos','habitaciones','lat','lng','idzona','gimnasio','usosmultiples']]\n",
    "y = a['precio']\n",
    "\n",
    "X_train, X_test, y_train, y_test = train_test_split(X, y, test_size=0.25, random_state=1)\n",
    "\n",
    "#Elimino los Nulls en los x de Entrenaniento y cuando voy a testear\n",
    "X_train = X_train.fillna(X_train.mean())\n",
    "X_test = X_test.fillna(X_test.mean())\n",
    "\n",
    "# Creo Rigge\n",
    "clf = Ridge(alpha=1.0 , fit_intercept = False , max_iter =1000)\n",
    "\n",
    "# Train model\n",
    "model = clf.fit(X_train, y_train)\n",
    "\n",
    "#Calculo de Errores contra mi set de test\n",
    "pred = model.predict(X_test)\n",
    "dummy_rmsle = RMSLE(y_test, pred)\n",
    "\n",
    "#Calculo de Errores contra mi set de entrenamiento\n",
    "dummy_rmsle_train = RMSLE(y_train, model.predict(X_train) )\n",
    "print(f\"RMSLE Error (train): {dummy_rmsle_train:.5f}\")\n",
    "print(f\"RMSLE Error (Test): {dummy_rmsle:.5f}\")\n",
    "\n",
    "dummy_rmsle = mean_absolute_error(y_test, pred)\n",
    "dummy_rmsle_train = mean_absolute_error(y_train, model.predict(X_train) )\n",
    "\n",
    "print(f\"MAE Error (train): {dummy_rmsle_train:.5f}\")\n",
    "print(f\"MAE Error (Test): {dummy_rmsle:.5f}\")"
   ]
  },
  {
   "cell_type": "markdown",
   "metadata": {},
   "source": [
    "# 8º Modelo: Support Vector Machines"
   ]
  },
  {
   "cell_type": "code",
   "execution_count": 72,
   "metadata": {},
   "outputs": [],
   "source": [
    "from sklearn import svm"
   ]
  },
  {
   "cell_type": "code",
   "execution_count": null,
   "metadata": {},
   "outputs": [
    {
     "name": "stderr",
     "output_type": "stream",
     "text": [
      "C:\\Users\\Giova\\Anaconda3\\lib\\site-packages\\sklearn\\svm\\base.py:193: FutureWarning: The default value of gamma will change from 'auto' to 'scale' in version 0.22 to account better for unscaled features. Set gamma explicitly to 'auto' or 'scale' to avoid this warning.\n",
      "  \"avoid this warning.\", FutureWarning)\n"
     ]
    }
   ],
   "source": [
    "#Preparo los datos\n",
    "\n",
    "cleanup_nums = {\"tipodepropiedad\":     {\n",
    "    \"Casa\": 1,\n",
    "    \"Apartamento\": 2, \n",
    "    \"Casa en condominio\": 3,\n",
    "    \"Terreno\": 4,\n",
    "    \"Local Comercial\": 5,\n",
    "    \"Oficina comercial\": 6,\n",
    "    \"Bodega comercial\": 7,\n",
    "    \"Edificio\": 8,\n",
    "    \"Terreno comercial\": 9,\n",
    "    \"Casa uso de suelo\": 10,\n",
    "    \"Quinta Vacacional\": 11,\n",
    "    \"Duplex\": 12,\n",
    "    \"Villa\": 13,\n",
    "    \"Inmuebles productivos urbanos\": 14,\n",
    "    \"Rancho\": 15,\n",
    "    \"Local en centro comercial\": 16,\n",
    "    \"Departamento Compartido\": 17,\n",
    "    \"Otros\": 18,\n",
    "    \"Nave industrial\": 19,\n",
    "    \"Terreno industrial\": 20,\n",
    "    \"Huerta\": 21,\n",
    "    \"Lote\": 22,\n",
    "    \"Hospedaje\": 23,\n",
    "    \"Garage\": 24\n",
    "                                   \n",
    "}  }\n",
    "\n",
    "a = train\n",
    "a = a.replace(cleanup_nums)\n",
    "\n",
    "a['fecha'] = pd.to_datetime(a['fecha'])\n",
    "a['anio'] = a['fecha'].dt.year\n",
    "a['mes'] = a['fecha'].dt.month\n",
    "\n",
    "\n",
    "drop_cols = [ 'ciudad', 'provincia', 'titulo', 'descripcion', 'direccion']\n",
    "a = a.drop(drop_cols, axis=1)\n",
    "\n",
    "#Relleno los nulls\n",
    "a[['tipodepropiedad']] = a[['tipodepropiedad']].fillna(value=1)\n",
    "a[['metroscubiertos']] = a[['metroscubiertos']].fillna(value= (a['metroscubiertos'].mean())  )\n",
    "a[['antiguedad']] = a[['antiguedad']].fillna(value= (a['antiguedad'].mean()) )\n",
    "a[['habitaciones']] = a[['habitaciones']].fillna(value= (a['habitaciones'].mean()) )\n",
    "a[['banos']] = a[['banos']].fillna(value= (a['habitaciones'].mean()))\n",
    "a[['idzona']] = a[['idzona']].fillna(value=(a['idzona'].mean()))\n",
    "a[['garages']] = a[['garages']].fillna(value=(a['garages'].mean()))\n",
    "a[['metrostotales']] = a[['metrostotales']].fillna(value=(a['metrostotales'].mean()))\n",
    "a[['lng']] = a[['lng']].fillna(value=(a['lng'].mean()))\n",
    "a[['lat']] = a[['lat']].fillna(value=(a['lat'].mean()))\n",
    "\n",
    "\n",
    "# Load data with only two features\n",
    "\n",
    "X = a[['tipodepropiedad','anio','mes','metrostotales','antiguedad','garages','piscina','metroscubiertos','banos','habitaciones','lat','lng','idzona','gimnasio','usosmultiples']]\n",
    "y = a['precio']\n",
    "\n",
    "X_train, X_test, y_train, y_test = train_test_split(X, y, test_size=0.25, random_state=1)\n",
    "\n",
    "#Elimino los Nulls en los x de Entrenaniento y cuando voy a testear\n",
    "X_train = X_train.fillna(X_train.mean())\n",
    "X_test = X_test.fillna(X_test.mean())\n",
    "\n",
    "# Creo \n",
    "clf = svm.SVR()\n",
    "\n",
    "# Train model\n",
    "model = clf.fit(X_train, y_train)\n",
    "\n",
    "#Calculo de Errores contra mi set de test\n",
    "pred = model.predict(X_test)\n",
    "dummy_rmsle = RMSLE(y_test, pred)\n",
    "\n",
    "#Calculo de Errores contra mi set de entrenamiento\n",
    "dummy_rmsle_train = RMSLE(y_train, model.predict(X_train) )\n",
    "print(f\"RMSLE Error (train): {dummy_rmsle_train:.5f}\")\n",
    "print(f\"RMSLE Error (Test): {dummy_rmsle:.5f}\")\n",
    "\n",
    "dummy_rmsle = mean_absolute_error(y_test, pred)\n",
    "dummy_rmsle_train = mean_absolute_error(y_train, model.predict(X_train) )\n",
    "\n",
    "print(f\"MAE Error (train): {dummy_rmsle_train:.5f}\")\n",
    "print(f\"MAE Error (Test): {dummy_rmsle:.5f}\")"
   ]
  },
  {
   "cell_type": "markdown",
   "metadata": {},
   "source": [
    "# 9º Modelo : PLSRegression ( Memory Error)"
   ]
  },
  {
   "cell_type": "code",
   "execution_count": null,
   "metadata": {},
   "outputs": [],
   "source": [
    "from sklearn.cross_decomposition import PLSRegression"
   ]
  },
  {
   "cell_type": "code",
   "execution_count": null,
   "metadata": {},
   "outputs": [],
   "source": [
    "#Preparo los datos\n",
    "\n",
    "cleanup_nums = {\"tipodepropiedad\":     {\n",
    "    \"Casa\": 1,\n",
    "    \"Apartamento\": 2, \n",
    "    \"Casa en condominio\": 3,\n",
    "    \"Terreno\": 4,\n",
    "    \"Local Comercial\": 5,\n",
    "    \"Oficina comercial\": 6,\n",
    "    \"Bodega comercial\": 7,\n",
    "    \"Edificio\": 8,\n",
    "    \"Terreno comercial\": 9,\n",
    "    \"Casa uso de suelo\": 10,\n",
    "    \"Quinta Vacacional\": 11,\n",
    "    \"Duplex\": 12,\n",
    "    \"Villa\": 13,\n",
    "    \"Inmuebles productivos urbanos\": 14,\n",
    "    \"Rancho\": 15,\n",
    "    \"Local en centro comercial\": 16,\n",
    "    \"Departamento Compartido\": 17,\n",
    "    \"Otros\": 18,\n",
    "    \"Nave industrial\": 19,\n",
    "    \"Terreno industrial\": 20,\n",
    "    \"Huerta\": 21,\n",
    "    \"Lote\": 22,\n",
    "    \"Hospedaje\": 23,\n",
    "    \"Garage\": 24\n",
    "                                   \n",
    "}  }\n",
    "\n",
    "a = train\n",
    "a = a.replace(cleanup_nums)\n",
    "\n",
    "a['fecha'] = pd.to_datetime(a['fecha'])\n",
    "a['anio'] = a['fecha'].dt.year\n",
    "a['mes'] = a['fecha'].dt.month\n",
    "\n",
    "\n",
    "drop_cols = [ 'ciudad', 'provincia', 'titulo', 'descripcion', 'direccion']\n",
    "a = a.drop(drop_cols, axis=1)\n",
    "\n",
    "#Relleno los nulls\n",
    "a[['tipodepropiedad']] = a[['tipodepropiedad']].fillna(value=1)\n",
    "a[['metroscubiertos']] = a[['metroscubiertos']].fillna(value= (a['metroscubiertos'].mean())  )\n",
    "a[['antiguedad']] = a[['antiguedad']].fillna(value= (a['antiguedad'].mean()) )\n",
    "a[['habitaciones']] = a[['habitaciones']].fillna(value= (a['habitaciones'].mean()) )\n",
    "a[['banos']] = a[['banos']].fillna(value= (a['habitaciones'].mean()))\n",
    "a[['idzona']] = a[['idzona']].fillna(value=(a['idzona'].mean()))\n",
    "a[['garages']] = a[['garages']].fillna(value=(a['garages'].mean()))\n",
    "a[['metrostotales']] = a[['metrostotales']].fillna(value=(a['metrostotales'].mean()))\n",
    "a[['lng']] = a[['lng']].fillna(value=(a['lng'].mean()))\n",
    "a[['lat']] = a[['lat']].fillna(value=(a['lat'].mean()))\n",
    "\n",
    "\n",
    "# Load data with only two features\n",
    "\n",
    "X = a[['metroscubiertos']]\n",
    "y = a['precio']\n",
    "\n",
    "X_train, X_test, y_train, y_test = train_test_split(X, y, test_size=0.25, random_state=1)\n",
    "\n",
    "#Elimino los Nulls en los x de Entrenaniento y cuando voy a testear\n",
    "X_train = X_train.fillna(X_train.mean())\n",
    "X_test = X_test.fillna(X_test.mean())\n",
    "\n",
    "# Creo \n",
    "pls2 = PLSRegression(n_components=1)\n",
    "\n",
    "# Train model\n",
    "model = pls2.fit(X_train, y_train)\n",
    "\n",
    "#Calculo de Errores contra mi set de test\n",
    "pred = model.predict(X_test)\n",
    "dummy_rmsle = RMSLE(y_test, pred)\n",
    "\n",
    "#Calculo de Errores contra mi set de entrenamiento\n",
    "dummy_rmsle_train = RMSLE(y_train, model.predict(X_train) )\n",
    "print(f\"RMSLE Error (train): {dummy_rmsle_train:.5f}\")\n",
    "print(f\"RMSLE Error (Test): {dummy_rmsle:.5f}\")"
   ]
  },
  {
   "cell_type": "markdown",
   "metadata": {},
   "source": [
    "# 10 º Modelo : NaiveBayes"
   ]
  },
  {
   "cell_type": "code",
   "execution_count": 7,
   "metadata": {},
   "outputs": [],
   "source": [
    "from sklearn.naive_bayes import GaussianNB"
   ]
  },
  {
   "cell_type": "code",
   "execution_count": null,
   "metadata": {},
   "outputs": [],
   "source": [
    "#Preparo los datos\n",
    "\n",
    "cleanup_nums = {\"tipodepropiedad\":     {\n",
    "    \"Casa\": 1,\n",
    "    \"Apartamento\": 2, \n",
    "    \"Casa en condominio\": 3,\n",
    "    \"Terreno\": 4,\n",
    "    \"Local Comercial\": 5,\n",
    "    \"Oficina comercial\": 6,\n",
    "    \"Bodega comercial\": 7,\n",
    "    \"Edificio\": 8,\n",
    "    \"Terreno comercial\": 9,\n",
    "    \"Casa uso de suelo\": 10,\n",
    "    \"Quinta Vacacional\": 11,\n",
    "    \"Duplex\": 12,\n",
    "    \"Villa\": 13,\n",
    "    \"Inmuebles productivos urbanos\": 14,\n",
    "    \"Rancho\": 15,\n",
    "    \"Local en centro comercial\": 16,\n",
    "    \"Departamento Compartido\": 17,\n",
    "    \"Otros\": 18,\n",
    "    \"Nave industrial\": 19,\n",
    "    \"Terreno industrial\": 20,\n",
    "    \"Huerta\": 21,\n",
    "    \"Lote\": 22,\n",
    "    \"Hospedaje\": 23,\n",
    "    \"Garage\": 24\n",
    "                                   \n",
    "}  }\n",
    "\n",
    "a = train\n",
    "a = a.replace(cleanup_nums)\n",
    "\n",
    "a['fecha'] = pd.to_datetime(a['fecha'])\n",
    "a['anio'] = a['fecha'].dt.year\n",
    "a['mes'] = a['fecha'].dt.month\n",
    "\n",
    "\n",
    "drop_cols = [ 'ciudad', 'provincia', 'titulo', 'descripcion', 'direccion']\n",
    "a = a.drop(drop_cols, axis=1)\n",
    "\n",
    "#Relleno los nulls\n",
    "a[['tipodepropiedad']] = a[['tipodepropiedad']].fillna(value=1)\n",
    "a[['metroscubiertos']] = a[['metroscubiertos']].fillna(value= (a['metroscubiertos'].mean())  )\n",
    "a[['antiguedad']] = a[['antiguedad']].fillna(value= (a['antiguedad'].mean()) )\n",
    "a[['habitaciones']] = a[['habitaciones']].fillna(value= (a['habitaciones'].mean()) )\n",
    "a[['banos']] = a[['banos']].fillna(value= (a['habitaciones'].mean()))\n",
    "a[['idzona']] = a[['idzona']].fillna(value=(a['idzona'].mean()))\n",
    "a[['garages']] = a[['garages']].fillna(value=(a['garages'].mean()))\n",
    "a[['metrostotales']] = a[['metrostotales']].fillna(value=(a['metrostotales'].mean()))\n",
    "a[['lng']] = a[['lng']].fillna(value=(a['lng'].mean()))\n",
    "a[['lat']] = a[['lat']].fillna(value=(a['lat'].mean()))\n",
    "\n",
    "\n",
    "# Load data with only two features\n",
    "\n",
    "X = a[['metroscubiertos']]\n",
    "y = a['precio']\n",
    "\n",
    "X_train, X_test, y_train, y_test = train_test_split(X, y, test_size=0.25, random_state=1)\n",
    "\n",
    "#Elimino los Nulls en los x de Entrenaniento y cuando voy a testear\n",
    "X_train = X_train.fillna(X_train.mean())\n",
    "X_test = X_test.fillna(X_test.mean())\n",
    "\n",
    "# Creo \n",
    "clf = GaussianNB()\n",
    "\n",
    "# Train model\n",
    "model = clf.fit(X_train, y_train)\n",
    "\n",
    "#Calculo de Errores contra mi set de test\n",
    "pred = model.predict(X_test)\n",
    "dummy_rmsle = RMSLE(y_test, pred)\n",
    "\n",
    "#Calculo de Errores contra mi set de entrenamiento\n",
    "dummy_rmsle_train = RMSLE(y_train, model.predict(X_train) )\n",
    "print(f\"RMSLE Error (train): {dummy_rmsle_train:.5f}\")\n",
    "print(f\"RMSLE Error (Test): {dummy_rmsle:.5f}\")\n",
    "\n",
    "dummy_rmsle = mean_absolute_error(y_test, pred)\n",
    "dummy_rmsle_train = mean_absolute_error(y_train, model.predict(X_train) )\n",
    "\n",
    "print(f\"MAE Error (train): {dummy_rmsle_train:.5f}\")\n",
    "print(f\"MAE Error (Test): {dummy_rmsle:.5f}\")"
   ]
  },
  {
   "cell_type": "code",
   "execution_count": null,
   "metadata": {},
   "outputs": [],
   "source": []
  }
 ],
 "metadata": {
  "kernelspec": {
   "display_name": "Python 3",
   "language": "python",
   "name": "python3"
  },
  "language_info": {
   "codemirror_mode": {
    "name": "ipython",
    "version": 3
   },
   "file_extension": ".py",
   "mimetype": "text/x-python",
   "name": "python",
   "nbconvert_exporter": "python",
   "pygments_lexer": "ipython3",
   "version": "3.7.3"
  }
 },
 "nbformat": 4,
 "nbformat_minor": 2
}
