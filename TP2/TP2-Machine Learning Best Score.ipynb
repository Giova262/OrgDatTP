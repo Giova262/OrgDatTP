{
 "cells": [
  {
   "cell_type": "code",
   "execution_count": 17,
   "metadata": {},
   "outputs": [],
   "source": [
    "%matplotlib inline\n",
    "import numpy as np\n",
    "import pandas as pd\n",
    "import seaborn as sns\n",
    "import matplotlib.pyplot as plt\n",
    "pd.set_option('display.max_columns', 100)\n",
    "pd.set_option('display.float_format', '{:.2f}'.format)\n",
    "\n",
    "# Importamos utilidades y modelos de sklearn\n",
    "from sklearn.preprocessing import Imputer\n",
    "from sklearn.model_selection import train_test_split\n",
    "from sklearn.dummy import DummyRegressor\n",
    "from sklearn.linear_model import LinearRegression\n",
    "from sklearn.tree import DecisionTreeRegressor\n",
    "from sklearn import linear_model\n",
    "from sklearn.ensemble import RandomForestRegressor\n",
    "from sklearn.model_selection import RandomizedSearchCV\n",
    "\n",
    "import category_encoders as ce\n",
    "from sklearn.metrics import mean_absolute_error"
   ]
  },
  {
   "cell_type": "markdown",
   "metadata": {},
   "source": [
    "# Cargo los datos"
   ]
  },
  {
   "cell_type": "code",
   "execution_count": 18,
   "metadata": {},
   "outputs": [],
   "source": [
    "train = pd.read_csv('./train.csv'\n",
    "            ,dtype={\n",
    "             \"id\":np.int32\n",
    "            ,\"titulo\":str\n",
    "            ,\"fecha\":str \n",
    "            ,\"ciudad\": str\n",
    "            ,\"provincia\": str\n",
    "            ,\"descripcion\": str  \n",
    "            ,\"direccion\": str  \n",
    "            ,\"tipodepropiedad\": 'category' })\n",
    "\n",
    "test = pd.read_csv('./test.csv'\n",
    "            ,dtype={\n",
    "             \"id\":np.int32\n",
    "            ,\"titulo\":str\n",
    "            ,\"fecha\":str \n",
    "            ,\"ciudad\": str\n",
    "            ,\"provincia\": str\n",
    "            ,\"descripcion\": str  \n",
    "            ,\"direccion\": str \n",
    "            ,\"tipodepropiedad\": 'category' })\n",
    "\n",
    "cleanup_nums = {\"tipodepropiedad\":     {\n",
    "    \"Casa\": 1,\n",
    "    \"Apartamento\": 2, \n",
    "    \"Casa en condominio\": 3,\n",
    "    \"Terreno\": 4,\n",
    "    \"Local Comercial\": 5,\n",
    "    \"Oficina comercial\": 6,\n",
    "    \"Bodega comercial\": 7,\n",
    "    \"Edificio\": 8,\n",
    "    \"Terreno comercial\": 9,\n",
    "    \"Casa uso de suelo\": 10,\n",
    "    \"Quinta Vacacional\": 11,\n",
    "    \"Duplex\": 12,\n",
    "    \"Villa\": 13,\n",
    "    \"Inmuebles productivos urbanos\": 14,\n",
    "    \"Rancho\": 15,\n",
    "    \"Local en centro comercial\": 16,\n",
    "    \"Departamento Compartido\": 17,\n",
    "    \"Otros\": 18,\n",
    "    \"Nave industrial\": 19,\n",
    "    \"Terreno industrial\": 20,\n",
    "    \"Huerta\": 21,\n",
    "    \"Lote\": 22,\n",
    "    \"Hospedaje\": 23,\n",
    "    \"Garage\": 24\n",
    "                                   \n",
    "}  }\n",
    "\n",
    "# Métrica de evaluación\n",
    "def RMSLE(actual, pred):\n",
    "    return (np.mean((np.log(actual + 1) - np.log(pred + 1)) ** 2)) **.5"
   ]
  },
  {
   "cell_type": "code",
   "execution_count": 19,
   "metadata": {},
   "outputs": [],
   "source": [
    "def fill_nulls( a ):\n",
    "\n",
    "    a[['metroscubiertos']] = a[['metroscubiertos']].fillna(value= 174.16  )\n",
    "    a[['antiguedad']] = a[['antiguedad']].fillna(value= 8.09 )\n",
    "    a[['habitaciones']] = a[['habitaciones']].fillna(value= 2.90 )\n",
    "    a[['banos']] = a[['banos']].fillna(value= 2.13)\n",
    "    a[['idzona']] = a[['idzona']].fillna(value=2438952.04)\n",
    "    a[['garages']] = a[['garages']].fillna(value=1.55)\n",
    "    a[['metrostotales']] = a[['metrostotales']].fillna(value=176.92)\n",
    "    a[['lng']] = a[['lng']].fillna(value=20.70)\n",
    "    a[['lat']] = a[['lat']].fillna(value=-99.53)\n",
    "    a[['centroscomercialescercanos']] = a[['centroscomercialescercanos']].fillna(value=0.40 )\n",
    "    a[['escuelascercanas']] = a[['escuelascercanas']].fillna(value=0.44 )\n",
    "    a[['piscina']] = a[['piscina']].fillna(value= 0.09 )\n",
    "    a[['gimnasio']] = a[['gimnasio']].fillna(value= 0.06 )\n",
    "    a[['usosmultiples']] = a[['usosmultiples']].fillna(value= 0.06 )\n",
    "    a[['tipodepropiedad']] = a[['tipodepropiedad']].fillna(value= 1.87 )\n",
    "    \n",
    "    a[['provincia']] = a[['provincia']].fillna(value= str(a['provincia'].mode()) )\n",
    "    a[['ciudad']] = a[['ciudad']].fillna(value= str(a['ciudad'].mode()) )\n",
    "    a[['descripcion']] = a[['descripcion']].fillna(value= str(a['descripcion'].mode()) )\n",
    "    a[['titulo']] = a[['titulo']].fillna(value= str(a['titulo'].mode()) )\n",
    "    a[['direccion']] = a[['direccion']].fillna(value= str(a['direccion'].mode()) )\n",
    "    a[['fecha']] = a[['fecha']].fillna(value= '2014-07-31 00:00:00' )\n",
    "    \n",
    "    return a"
   ]
  },
  {
   "cell_type": "markdown",
   "metadata": {},
   "source": [
    "# Utilizo random forest "
   ]
  },
  {
   "cell_type": "code",
   "execution_count": 10,
   "metadata": {},
   "outputs": [
    {
     "name": "stdout",
     "output_type": "stream",
     "text": [
      "RMSLE Error (train): 0.13883\n",
      "RMSLE Error (Test): 0.35895\n",
      "MAE Error (train): 183151.29511\n",
      "MAE Error (Test): 599490.25474\n"
     ]
    }
   ],
   "source": [
    "\n",
    "a = train\n",
    "a = a.replace(cleanup_nums)\n",
    "a = fill_nulls(a)\n",
    "\n",
    "a['fecha'] = pd.to_datetime(a['fecha'])\n",
    "a['anio'] = a['fecha'].dt.year\n",
    "a['mes'] = a['fecha'].dt.month\n",
    "a['dia'] = a['fecha'].dt.dayofweek\n",
    "\n",
    "\n",
    "X = a[['tipodepropiedad','anio','metrostotales','antiguedad','centroscomercialescercanos','garages','piscina','metroscubiertos','banos','habitaciones','lat','lng','idzona','gimnasio','usosmultiples']]\n",
    "y = a['precio']\n",
    "X_train, X_test, y_train, y_test = train_test_split(X, y, test_size=0.25, random_state=1)\n",
    "\n",
    "# Modelo\n",
    "regr = RandomForestRegressor(random_state=0,bootstrap =False,min_samples_leaf=2 ,n_jobs=-1,max_depth = 100,max_features = 5 ,min_samples_split = 2 ,n_estimators = 400)\n",
    "\n",
    "# Entreno modelo\n",
    "model = regr.fit(X_train, y_train)\n",
    "\n",
    "#Calculo de Errores contra mi set de test\n",
    "pred = model.predict(X_test)\n",
    "\n",
    "#Calculo de Errores contra mi set de entrenamiento\n",
    "dummy_rmsle = RMSLE(y_test, pred)\n",
    "dummy_rmsle_train = RMSLE(y_train, model.predict(X_train) )\n",
    "print(f\"RMSLE Error (train): {dummy_rmsle_train:.5f}\")\n",
    "print(f\"RMSLE Error (Test): {dummy_rmsle:.5f}\")\n",
    "\n",
    "dummy_rmsle = mean_absolute_error(y_test, pred)\n",
    "dummy_rmsle_train = mean_absolute_error(y_train, model.predict(X_train) )\n",
    "\n",
    "print(f\"MAE Error (train): {dummy_rmsle_train:.5f}\")\n",
    "print(f\"MAE Error (Test): {dummy_rmsle:.5f}\")\n"
   ]
  },
  {
   "cell_type": "markdown",
   "metadata": {},
   "source": [
    "# Utilizo Random Forest + Random Search + Cross Validation\n",
    "\n",
    "###"
   ]
  },
  {
   "cell_type": "code",
   "execution_count": 20,
   "metadata": {},
   "outputs": [
    {
     "name": "stdout",
     "output_type": "stream",
     "text": [
      "{'n_estimators': 175, 'min_samples_split': 2, 'min_samples_leaf': 2, 'max_features': 8, 'max_depth': 50, 'bootstrap': False}\n",
      "RMSLE Error (train): 0.11120\n",
      "RMSLE Error (Test): 0.35721\n",
      "MAE Error (train): 139121.64663\n",
      "MAE Error (Test): 592872.64586\n"
     ]
    }
   ],
   "source": [
    "\n",
    "a = train\n",
    "a = a.replace(cleanup_nums)\n",
    "a = fill_nulls(a)\n",
    "\n",
    "a['fecha'] = pd.to_datetime(a['fecha'])\n",
    "a['anio'] = a['fecha'].dt.year\n",
    "a['mes'] = a['fecha'].dt.month\n",
    "a['dia'] = a['fecha'].dt.dayofweek\n",
    "\n",
    "\n",
    "X = a[['tipodepropiedad','anio','metrostotales','antiguedad','centroscomercialescercanos','garages','piscina',\n",
    "       'metroscubiertos','banos','habitaciones','lat','lng','idzona','gimnasio','usosmultiples']]\n",
    "y = a['precio']\n",
    "X_train, X_test, y_train, y_test = train_test_split(X, y, test_size=0.25, random_state=1)\n",
    "\n",
    "\n",
    "n_estimators = [int(x) for x in np.linspace(start = 50, stop = 400, num = 15)]\n",
    "max_features = [int(x) for x in np.linspace(start = 4, stop = 15, num = 15)]\n",
    "max_depth = [int(x) for x in np.linspace(50, 100, num = 10)]\n",
    "min_samples_split = [2, 5, 10]\n",
    "min_samples_leaf = [1, 2, 4]\n",
    "bootstrap = [ False]\n",
    "\n",
    "\n",
    "# Create the random grid\n",
    "random_grid = {'n_estimators': n_estimators,\n",
    "               'max_features': max_features,\n",
    "               'max_depth': max_depth,\n",
    "               'min_samples_split': min_samples_split,\n",
    "               'min_samples_leaf': min_samples_leaf,\n",
    "               'bootstrap': bootstrap}\n",
    "\n",
    "\n",
    "rf = RandomForestRegressor()\n",
    "rf_random = RandomizedSearchCV(estimator = rf, param_distributions = random_grid, n_iter = 10, cv = 5, random_state=42, n_jobs = -1)\n",
    "\n",
    "\n",
    "# Fit the random search model\n",
    "model = rf_random.fit(X_train, y_train)\n",
    "\n",
    "\n",
    "print(rf_random.best_params_)\n",
    "\n",
    "\n",
    "#Calculo de Errores contra mi set de test\n",
    "pred = model.predict(X_test)\n",
    "\n",
    "#Calculo de Errores contra mi set de entrenamiento\n",
    "dummy_rmsle = RMSLE(y_test, pred)\n",
    "dummy_rmsle_train = RMSLE(y_train, model.predict(X_train) )\n",
    "print(f\"RMSLE Error (train): {dummy_rmsle_train:.5f}\")\n",
    "print(f\"RMSLE Error (Test): {dummy_rmsle:.5f}\")\n",
    "\n",
    "dummy_rmsle = mean_absolute_error(y_test, pred)\n",
    "dummy_rmsle_train = mean_absolute_error(y_train, model.predict(X_train) )\n",
    "\n",
    "print(f\"MAE Error (train): {dummy_rmsle_train:.5f}\")\n",
    "print(f\"MAE Error (Test): {dummy_rmsle:.5f}\")\n"
   ]
  },
  {
   "cell_type": "code",
   "execution_count": 15,
   "metadata": {},
   "outputs": [
    {
     "name": "stdout",
     "output_type": "stream",
     "text": [
      "csv generado\n"
     ]
    }
   ],
   "source": [
    "#Genero el csv \n",
    "\n",
    "c = test\n",
    "c = c.replace(cleanup_nums)\n",
    "c = fill_nulls(c)\n",
    "\n",
    "c['fecha'] = pd.to_datetime(c['fecha'])\n",
    "c['anio'] = c['fecha'].dt.year\n",
    "\n",
    "b = c[['tipodepropiedad','anio','metrostotales','antiguedad','centroscomercialescercanos','garages','piscina','metroscubiertos','banos','habitaciones','lat','lng','idzona','gimnasio','usosmultiples']]\n",
    "b = b.fillna(b.mean())\n",
    "\n",
    "#Exporto csv con la prediccion\n",
    "pred = model.predict(b) \n",
    "#Creo un dataframe con el formato ( id , precio (El precio predecido ))\n",
    "res = test['id'].to_frame()\n",
    "res.insert(1,'target', pred , True) \n",
    "#Exportamos la prediccion en formato csv sin labels\n",
    "res.to_csv(r'C:\\Users\\Giova\\JupiterLabFolder\\Archivos CSV\\resMejorScore.csv',index=False , header=True)\n",
    "\n",
    "print('csv generado')\n"
   ]
  },
  {
   "cell_type": "markdown",
   "metadata": {},
   "source": [
    "# Score en kaggle fue de 599011.57620"
   ]
  },
  {
   "cell_type": "code",
   "execution_count": null,
   "metadata": {},
   "outputs": [],
   "source": []
  }
 ],
 "metadata": {
  "kernelspec": {
   "display_name": "Python 3",
   "language": "python",
   "name": "python3"
  },
  "language_info": {
   "codemirror_mode": {
    "name": "ipython",
    "version": 3
   },
   "file_extension": ".py",
   "mimetype": "text/x-python",
   "name": "python",
   "nbconvert_exporter": "python",
   "pygments_lexer": "ipython3",
   "version": "3.7.3"
  }
 },
 "nbformat": 4,
 "nbformat_minor": 2
}
