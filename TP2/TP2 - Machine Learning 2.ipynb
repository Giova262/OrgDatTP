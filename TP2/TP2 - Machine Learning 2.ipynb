{
 "cells": [
  {
   "cell_type": "markdown",
   "metadata": {},
   "source": [
    "# Trabajo Practico 2 - Parte 2"
   ]
  },
  {
   "cell_type": "code",
   "execution_count": 2,
   "metadata": {},
   "outputs": [],
   "source": [
    "%matplotlib inline\n",
    "import numpy as np\n",
    "import pandas as pd\n",
    "import seaborn as sns\n",
    "import matplotlib.pyplot as plt\n",
    "pd.set_option('display.max_columns', 100)\n",
    "pd.set_option('display.float_format', '{:.2f}'.format)\n",
    "\n",
    "# Importamos utilidades y modelos de sklearn\n",
    "from sklearn.preprocessing import Imputer\n",
    "from sklearn.model_selection import train_test_split\n",
    "from sklearn.dummy import DummyRegressor\n",
    "from sklearn.linear_model import LinearRegression\n",
    "from sklearn.tree import DecisionTreeRegressor\n",
    "from sklearn import linear_model\n",
    "\n",
    "import category_encoders as ce\n",
    "from sklearn.metrics import mean_absolute_error"
   ]
  },
  {
   "cell_type": "markdown",
   "metadata": {},
   "source": [
    "# Carga de Datos y Definicion de la Metrica"
   ]
  },
  {
   "cell_type": "code",
   "execution_count": 3,
   "metadata": {},
   "outputs": [],
   "source": [
    "train = pd.read_csv('./train.csv'\n",
    "            ,dtype={\n",
    "             \"id\":np.int32\n",
    "            ,\"titulo\":'category'\n",
    "            ,\"fecha\":str \n",
    "            ,\"ciudad\": 'category'\n",
    "            ,\"provincia\": 'category'\n",
    "            ,\"tipodepropiedad\": 'category' })\n",
    "\n",
    "test = pd.read_csv('./test.csv'\n",
    "            ,dtype={\n",
    "             \"id\":np.int32\n",
    "            ,\"titulo\":'category'\n",
    "            ,\"fecha\":str \n",
    "            ,\"ciudad\": 'category'\n",
    "            ,\"provincia\": 'category'\n",
    "            ,\"tipodepropiedad\": 'category' })\n",
    "\n",
    "cleanup_nums = {\"tipodepropiedad\":     {\n",
    "    \"Casa\": 1,\n",
    "    \"Apartamento\": 2, \n",
    "    \"Casa en condominio\": 3,\n",
    "    \"Terreno\": 4,\n",
    "    \"Local Comercial\": 5,\n",
    "    \"Oficina comercial\": 6,\n",
    "    \"Bodega comercial\": 7,\n",
    "    \"Edificio\": 8,\n",
    "    \"Terreno comercial\": 9,\n",
    "    \"Casa uso de suelo\": 10,\n",
    "    \"Quinta Vacacional\": 11,\n",
    "    \"Duplex\": 12,\n",
    "    \"Villa\": 13,\n",
    "    \"Inmuebles productivos urbanos\": 14,\n",
    "    \"Rancho\": 15,\n",
    "    \"Local en centro comercial\": 16,\n",
    "    \"Departamento Compartido\": 17,\n",
    "    \"Otros\": 18,\n",
    "    \"Nave industrial\": 19,\n",
    "    \"Terreno industrial\": 20,\n",
    "    \"Huerta\": 21,\n",
    "    \"Lote\": 22,\n",
    "    \"Hospedaje\": 23,\n",
    "    \"Garage\": 24\n",
    "                                   \n",
    "}  }\n",
    "\n",
    "# Métrica de evaluación\n",
    "def RMSLE(actual, pred):\n",
    "    return (np.mean((np.log(actual + 1) - np.log(pred + 1)) ** 2)) **.5"
   ]
  },
  {
   "cell_type": "markdown",
   "metadata": {},
   "source": [
    "# PREPROCESAMIENTO DE DATOS"
   ]
  },
  {
   "cell_type": "code",
   "execution_count": 3,
   "metadata": {},
   "outputs": [],
   "source": [
    "drop_cols = [ 'ciudad', 'provincia', 'titulo', 'descripcion', 'direccion']\n",
    "\n",
    "a = train\n",
    "a = a.drop(drop_cols, axis=1)\n"
   ]
  },
  {
   "cell_type": "markdown",
   "metadata": {},
   "source": [
    "# FEATURE ENGINEERING"
   ]
  },
  {
   "cell_type": "code",
   "execution_count": 4,
   "metadata": {},
   "outputs": [],
   "source": [
    "#Nuevos Features"
   ]
  },
  {
   "cell_type": "code",
   "execution_count": 5,
   "metadata": {},
   "outputs": [],
   "source": [
    "#Encoding variables categoricas\n",
    "    \n",
    "a[['tipodepropiedad']] = a[['tipodepropiedad']].fillna(value='Casa')\n",
    "    \n",
    "one_hot_enc = ce.OneHotEncoder()\n",
    "one_hot_encoded = one_hot_enc.fit_transform(a['tipodepropiedad'])\n",
    "a= a.join(one_hot_encoded.add_suffix(\"_oh\"))\n",
    "        \n",
    "        #Simple encoding :  a = a.replace(cleanup_nums)"
   ]
  },
  {
   "cell_type": "code",
   "execution_count": 6,
   "metadata": {},
   "outputs": [],
   "source": [
    "#Interaccion entre features"
   ]
  },
  {
   "cell_type": "code",
   "execution_count": 7,
   "metadata": {},
   "outputs": [],
   "source": [
    "#Transformaciones de Features\n",
    "a['fecha'] = pd.to_datetime(a['fecha'])\n",
    "a['anio'] = a['fecha'].dt.year\n",
    "a['mes'] = a['fecha'].dt.month"
   ]
  },
  {
   "cell_type": "code",
   "execution_count": 8,
   "metadata": {},
   "outputs": [],
   "source": [
    "#Manejo de Nulls\n",
    "\n",
    "a[['metroscubiertos']] = a[['metroscubiertos']].fillna(value= (a['metroscubiertos'].mean())  )\n",
    "a[['antiguedad']] = a[['antiguedad']].fillna(value= (a['antiguedad'].mean()) )\n",
    "a[['habitaciones']] = a[['habitaciones']].fillna(value= (a['habitaciones'].mean()) )\n",
    "a[['banos']] = a[['banos']].fillna(value= (a['habitaciones'].mean()))\n",
    "a[['idzona']] = a[['idzona']].fillna(value=(a['idzona'].mean()))\n",
    "a[['garages']] = a[['garages']].fillna(value=(a['garages'].mean()))\n",
    "a[['metrostotales']] = a[['metrostotales']].fillna(value=(a['metrostotales'].mean()))\n",
    "a[['lng']] = a[['lng']].fillna(value=(a['lng'].mean()))\n",
    "a[['lat']] = a[['lat']].fillna(value=(a['lat'].mean()))"
   ]
  },
  {
   "cell_type": "markdown",
   "metadata": {},
   "source": [
    "# Generar csv"
   ]
  },
  {
   "cell_type": "code",
   "execution_count": 12,
   "metadata": {},
   "outputs": [
    {
     "ename": "NameError",
     "evalue": "name 'model' is not defined",
     "output_type": "error",
     "traceback": [
      "\u001b[1;31m---------------------------------------------------------------------------\u001b[0m",
      "\u001b[1;31mNameError\u001b[0m                                 Traceback (most recent call last)",
      "\u001b[1;32m<ipython-input-12-e9a511f42f7c>\u001b[0m in \u001b[0;36m<module>\u001b[1;34m\u001b[0m\n\u001b[0;32m     43\u001b[0m \u001b[1;33m\u001b[0m\u001b[0m\n\u001b[0;32m     44\u001b[0m \u001b[1;31m#Exporto csv con la prediccion\u001b[0m\u001b[1;33m\u001b[0m\u001b[1;33m\u001b[0m\u001b[1;33m\u001b[0m\u001b[0m\n\u001b[1;32m---> 45\u001b[1;33m \u001b[0mpred\u001b[0m \u001b[1;33m=\u001b[0m \u001b[0mmodel\u001b[0m\u001b[1;33m.\u001b[0m\u001b[0mpredict\u001b[0m\u001b[1;33m(\u001b[0m\u001b[0mb\u001b[0m\u001b[1;33m)\u001b[0m\u001b[1;33m\u001b[0m\u001b[1;33m\u001b[0m\u001b[0m\n\u001b[0m\u001b[0;32m     46\u001b[0m \u001b[1;31m#Creo un dataframe con el formato ( id , precio (El precio predecido ))\u001b[0m\u001b[1;33m\u001b[0m\u001b[1;33m\u001b[0m\u001b[1;33m\u001b[0m\u001b[0m\n\u001b[0;32m     47\u001b[0m \u001b[0mres\u001b[0m \u001b[1;33m=\u001b[0m \u001b[0mtest\u001b[0m\u001b[1;33m[\u001b[0m\u001b[1;34m'id'\u001b[0m\u001b[1;33m]\u001b[0m\u001b[1;33m.\u001b[0m\u001b[0mto_frame\u001b[0m\u001b[1;33m(\u001b[0m\u001b[1;33m)\u001b[0m\u001b[1;33m\u001b[0m\u001b[1;33m\u001b[0m\u001b[0m\n",
      "\u001b[1;31mNameError\u001b[0m: name 'model' is not defined"
     ]
    }
   ],
   "source": [
    "\n",
    "c = test\n",
    "\n",
    "drop_cols = [ 'ciudad', 'provincia', 'titulo', 'descripcion', 'direccion']\n",
    "c = c.drop(drop_cols, axis=1)\n",
    "\n",
    "c[['tipodepropiedad']] = c[['tipodepropiedad']].fillna(value='Casa')\n",
    "    \n",
    "one_hot_enc = ce.OneHotEncoder()\n",
    "one_hot_encoded = one_hot_enc.fit_transform(c['tipodepropiedad'])\n",
    "c= c.join(one_hot_encoded.add_suffix(\"_oh\"))\n",
    "\n",
    "c['tipodepropiedad_23_oh']=1\n",
    "c['tipodepropiedad_24_oh']=1\n",
    "\n",
    "c['fecha'] = pd.to_datetime(c['fecha'])\n",
    "c['anio'] = c['fecha'].dt.year\n",
    "c['mes'] = c['fecha'].dt.month\n",
    "\n",
    "#Relleno los nulls3\n",
    "\n",
    "c[['metroscubiertos']] = c[['metroscubiertos']].fillna(value= (c['metroscubiertos'].mean())  )\n",
    "c[['antiguedad']] = c[['antiguedad']].fillna(value= (c['antiguedad'].mean()) )\n",
    "c[['habitaciones']] = c[['habitaciones']].fillna(value= (c['habitaciones'].mean()) )\n",
    "c[['banos']] = c[['banos']].fillna(value= (c['habitaciones'].mean()))\n",
    "c[['idzona']] = c[['idzona']].fillna(value=(c['idzona'].mean()))\n",
    "c[['garages']] = c[['garages']].fillna(value=(c['garages'].mean()))\n",
    "c[['metrostotales']] = c[['metrostotales']].fillna(value=(c['metrostotales'].mean()))\n",
    "c[['lng']] = c[['lng']].fillna(value=(c['lng'].mean()))\n",
    "c[['lat']] = c[['lat']].fillna(value=(c['lat'].mean()))\n",
    "\n",
    "\n",
    "b = c[['anio','metrostotales','antiguedad','centroscomercialescercanos',\n",
    "       'garages','piscina','metroscubiertos','banos','habitaciones','lat','lng','idzona',\n",
    "       'gimnasio','usosmultiples','tipodepropiedad_1_oh','tipodepropiedad_2_oh',\n",
    "       'tipodepropiedad_3_oh',\n",
    "      'tipodepropiedad_4_oh','tipodepropiedad_5_oh','tipodepropiedad_6_oh','tipodepropiedad_7_oh',\n",
    "      'tipodepropiedad_8_oh','tipodepropiedad_9_oh','tipodepropiedad_10_oh','tipodepropiedad_11_oh',\n",
    "      'tipodepropiedad_12_oh','tipodepropiedad_13_oh','tipodepropiedad_14_oh','tipodepropiedad_15_oh',\n",
    "      'tipodepropiedad_16_oh','tipodepropiedad_17_oh','tipodepropiedad_18_oh','tipodepropiedad_19_oh',\n",
    "      'tipodepropiedad_20_oh','tipodepropiedad_21_oh','tipodepropiedad_22_oh','tipodepropiedad_23_oh',\n",
    "      'tipodepropiedad_24_oh']]\n",
    "\n",
    "\n",
    "#Exporto csv con la prediccion\n",
    "pred = model.predict(b) \n",
    "#Creo un dataframe con el formato ( id , precio (El precio predecido ))\n",
    "res = test['id'].to_frame()\n",
    "res.insert(1,'target', pred , True) \n",
    "#Exportamos la prediccion en formato csv sin labels\n",
    "res.to_csv(r'C:\\Users\\Giova\\JupiterLabFolder\\Archivos CSV\\res.csv',index=False , header=True)"
   ]
  },
  {
   "cell_type": "markdown",
   "metadata": {},
   "source": [
    "# 1º Modelo : Arbol de decision"
   ]
  },
  {
   "cell_type": "code",
   "execution_count": 13,
   "metadata": {},
   "outputs": [],
   "source": [
    "from sklearn.model_selection import cross_val_score\n",
    "from sklearn.tree import DecisionTreeRegressor"
   ]
  },
  {
   "cell_type": "code",
   "execution_count": 15,
   "metadata": {},
   "outputs": [
    {
     "name": "stdout",
     "output_type": "stream",
     "text": [
      "RMSLE Error (train): 0.33982\n",
      "RMSLE Error (Test): 0.41956\n",
      "MAE Error (train): 586238.23402\n",
      "MAE Error (Test): 733616.94800\n"
     ]
    }
   ],
   "source": [
    "#Preparo los datos\n",
    "\n",
    "cleanup_nums = {\"tipodepropiedad\":     {\n",
    "    \"Casa\": 1,\n",
    "    \"Apartamento\": 2, \n",
    "    \"Casa en condominio\": 3,\n",
    "    \"Terreno\": 4,\n",
    "    \"Local Comercial\": 5,\n",
    "    \"Oficina comercial\": 6,\n",
    "    \"Bodega comercial\": 7,\n",
    "    \"Edificio\": 8,\n",
    "    \"Terreno comercial\": 9,\n",
    "    \"Casa uso de suelo\": 10,\n",
    "    \"Quinta Vacacional\": 11,\n",
    "    \"Duplex\": 12,\n",
    "    \"Villa\": 13,\n",
    "    \"Inmuebles productivos urbanos\": 14,\n",
    "    \"Rancho\": 15,\n",
    "    \"Local en centro comercial\": 16,\n",
    "    \"Departamento Compartido\": 17,\n",
    "    \"Otros\": 18,\n",
    "    \"Nave industrial\": 19,\n",
    "    \"Terreno industrial\": 20,\n",
    "    \"Huerta\": 21,\n",
    "    \"Lote\": 22,\n",
    "    \"Hospedaje\": 23,\n",
    "    \"Garage\": 24\n",
    "                                   \n",
    "}  }\n",
    "\n",
    "a = train\n",
    "a = a.replace(cleanup_nums)\n",
    "\n",
    "a['fecha'] = pd.to_datetime(a['fecha'])\n",
    "a['anio'] = a['fecha'].dt.year\n",
    "a['mes'] = a['fecha'].dt.month\n",
    "\n",
    "\n",
    "drop_cols = [ 'ciudad', 'provincia', 'titulo', 'descripcion', 'direccion']\n",
    "a = a.drop(drop_cols, axis=1)\n",
    "\n",
    "#Relleno los nulls\n",
    "a[['tipodepropiedad']] = a[['tipodepropiedad']].fillna(value=6)\n",
    "a[['metroscubiertos']] = a[['metroscubiertos']].fillna(value= (a['metroscubiertos'].max())  )\n",
    "a[['antiguedad']] = a[['antiguedad']].fillna(value= (a['antiguedad'].min()) )\n",
    "a[['habitaciones']] = a[['habitaciones']].fillna(value= (a['habitaciones'].mode()) )\n",
    "a[['banos']] = a[['banos']].fillna(value= (a['habitaciones'].max()))\n",
    "a[['idzona']] = a[['idzona']].fillna(value=(a['idzona'].mode()))\n",
    "a[['garages']] = a[['garages']].fillna(value=(a['garages'].min()))\n",
    "a[['metrostotales']] = a[['metrostotales']].fillna(value=(a['metrostotales'].mean()))\n",
    "a[['lng']] = a[['lng']].fillna(value=(a['lng'].mode()))\n",
    "a[['lat']] = a[['lat']].fillna(value=(a['lat'].mode()))\n",
    "\n",
    "\n",
    "# Load data with only two features\n",
    "\n",
    "X = a[['anio','metrostotales','antiguedad','centroscomercialescercanos',\n",
    "       'garages','piscina','metroscubiertos','banos','habitaciones','lat','lng','idzona',\n",
    "       'gimnasio','usosmultiples','tipodepropiedad_1_oh','tipodepropiedad_2_oh',\n",
    "       'tipodepropiedad_3_oh',\n",
    "      'tipodepropiedad_4_oh','tipodepropiedad_5_oh','tipodepropiedad_6_oh','tipodepropiedad_7_oh',\n",
    "      'tipodepropiedad_8_oh','tipodepropiedad_9_oh','tipodepropiedad_10_oh','tipodepropiedad_11_oh',\n",
    "      'tipodepropiedad_12_oh','tipodepropiedad_13_oh','tipodepropiedad_14_oh','tipodepropiedad_15_oh',\n",
    "      'tipodepropiedad_16_oh','tipodepropiedad_17_oh','tipodepropiedad_18_oh','tipodepropiedad_19_oh',\n",
    "      'tipodepropiedad_20_oh','tipodepropiedad_21_oh','tipodepropiedad_22_oh','tipodepropiedad_23_oh',\n",
    "      'tipodepropiedad_24_oh']]\n",
    "y = a['precio']\n",
    "\n",
    "X_train, X_test, y_train, y_test = train_test_split(X, y, test_size=0.25, random_state=1)\n",
    "\n",
    "#Elimino los Nulls en los x de Entrenaniento y cuando voy a testear\n",
    "X_train = X_train.fillna(X_train.mean())\n",
    "X_test = X_test.fillna(X_test.mean())\n",
    "\n",
    "# Create KNN Regressor\n",
    "regressor = DecisionTreeRegressor(random_state=10 , \n",
    "                                  max_depth = 15 ,\n",
    "                                 min_samples_split = 3,\n",
    "                                 min_samples_leaf =4 ,\n",
    "                                 min_weight_fraction_leaf = 0.000000000000001,\n",
    "                                 max_features = 13,\n",
    "                                 max_leaf_nodes = 50000,\n",
    "                                 min_impurity_decrease =2,\n",
    "                                 presort=False )\n",
    "    \n",
    "# Train model\n",
    "model = regressor.fit(X_train, y_train)\n",
    "\n",
    "#Calculo de Errores contra mi set de test\n",
    "pred = model.predict(X_test)\n",
    "dummy_rmsle = RMSLE(y_test, pred)\n",
    "\n",
    "#Calculo de Errores contra mi set de entrenamiento\n",
    "dummy_rmsle_train = RMSLE(y_train, model.predict(X_train) )\n",
    "print(f\"RMSLE Error (train): {dummy_rmsle_train:.5f}\")\n",
    "print(f\"RMSLE Error (Test): {dummy_rmsle:.5f}\")\n",
    "\n",
    "dummy_rmsle = mean_absolute_error(y_test, pred)\n",
    "dummy_rmsle_train = mean_absolute_error(y_train, model.predict(X_train) )\n",
    "\n",
    "print(f\"MAE Error (train): {dummy_rmsle_train:.5f}\")\n",
    "print(f\"MAE Error (Test): {dummy_rmsle:.5f}\")"
   ]
  },
  {
   "cell_type": "markdown",
   "metadata": {},
   "source": [
    "# 2 º Modelo : ExtraTreesRegressor"
   ]
  },
  {
   "cell_type": "code",
   "execution_count": 16,
   "metadata": {},
   "outputs": [],
   "source": [
    "from sklearn.ensemble import ExtraTreesRegressor"
   ]
  },
  {
   "cell_type": "code",
   "execution_count": 17,
   "metadata": {},
   "outputs": [
    {
     "name": "stderr",
     "output_type": "stream",
     "text": [
      "C:\\Users\\Giova\\Anaconda3\\lib\\site-packages\\sklearn\\ensemble\\forest.py:245: FutureWarning: The default value of n_estimators will change from 10 in version 0.20 to 100 in 0.22.\n",
      "  \"10 in version 0.20 to 100 in 0.22.\", FutureWarning)\n"
     ]
    },
    {
     "name": "stdout",
     "output_type": "stream",
     "text": [
      "RMSLE Error (train): 0.42989\n",
      "RMSLE Error (Test): 0.45495\n",
      "MAE Error (train): 766228.01422\n",
      "MAE Error (Test): 819916.91040\n"
     ]
    }
   ],
   "source": [
    "#Preparo los datos\n",
    "\n",
    "cleanup_nums = {\"tipodepropiedad\":     {\n",
    "    \"Casa\": 1,\n",
    "    \"Apartamento\": 2, \n",
    "    \"Casa en condominio\": 3,\n",
    "    \"Terreno\": 4,\n",
    "    \"Local Comercial\": 5,\n",
    "    \"Oficina comercial\": 6,\n",
    "    \"Bodega comercial\": 7,\n",
    "    \"Edificio\": 8,\n",
    "    \"Terreno comercial\": 9,\n",
    "    \"Casa uso de suelo\": 10,\n",
    "    \"Quinta Vacacional\": 11,\n",
    "    \"Duplex\": 12,\n",
    "    \"Villa\": 13,\n",
    "    \"Inmuebles productivos urbanos\": 14,\n",
    "    \"Rancho\": 15,\n",
    "    \"Local en centro comercial\": 16,\n",
    "    \"Departamento Compartido\": 17,\n",
    "    \"Otros\": 18,\n",
    "    \"Nave industrial\": 19,\n",
    "    \"Terreno industrial\": 20,\n",
    "    \"Huerta\": 21,\n",
    "    \"Lote\": 22,\n",
    "    \"Hospedaje\": 23,\n",
    "    \"Garage\": 24\n",
    "                                   \n",
    "}  }\n",
    "\n",
    "a = train\n",
    "a = a.replace(cleanup_nums)\n",
    "\n",
    "a['fecha'] = pd.to_datetime(a['fecha'])\n",
    "a['anio'] = a['fecha'].dt.year\n",
    "a['mes'] = a['fecha'].dt.month\n",
    "\n",
    "\n",
    "drop_cols = [ 'ciudad', 'provincia', 'titulo', 'descripcion', 'direccion']\n",
    "a = a.drop(drop_cols, axis=1)\n",
    "\n",
    "#Relleno los nulls\n",
    "a[['tipodepropiedad']] = a[['tipodepropiedad']].fillna(value=6)\n",
    "a[['metroscubiertos']] = a[['metroscubiertos']].fillna(value= (a['metroscubiertos'].max())  )\n",
    "a[['antiguedad']] = a[['antiguedad']].fillna(value= (a['antiguedad'].min()) )\n",
    "a[['habitaciones']] = a[['habitaciones']].fillna(value= (a['habitaciones'].mode()) )\n",
    "a[['banos']] = a[['banos']].fillna(value= (a['habitaciones'].max()))\n",
    "a[['idzona']] = a[['idzona']].fillna(value=(a['idzona'].mode()))\n",
    "a[['garages']] = a[['garages']].fillna(value=(a['garages'].min()))\n",
    "a[['metrostotales']] = a[['metrostotales']].fillna(value=(a['metrostotales'].mean()))\n",
    "a[['lng']] = a[['lng']].fillna(value=(a['lng'].mode()))\n",
    "a[['lat']] = a[['lat']].fillna(value=(a['lat'].mode()))\n",
    "\n",
    "\n",
    "# Load data with only two features\n",
    "\n",
    "X = a[['tipodepropiedad','anio','metrostotales','antiguedad','garages',\n",
    "       'piscina','metroscubiertos','banos','habitaciones','lat','lng','idzona','gimnasio',\n",
    "       'usosmultiples']]\n",
    "y = a['precio']\n",
    "\n",
    "X_train, X_test, y_train, y_test = train_test_split(X, y, test_size=0.25, random_state=1)\n",
    "\n",
    "#Elimino los Nulls en los x de Entrenaniento y cuando voy a testear\n",
    "X_train = X_train.fillna(X_train.mean())\n",
    "X_test = X_test.fillna(X_test.mean())\n",
    "\n",
    "# Create \n",
    "regressor = ExtraTreesRegressor(random_state=10 , \n",
    "                                  max_depth = 15 ,\n",
    "                                 min_samples_split = 3,\n",
    "                                 min_samples_leaf =4 ,\n",
    "                                 min_weight_fraction_leaf = 0.000000000000001,\n",
    "                                 max_features = 13,\n",
    "                                 max_leaf_nodes = 50000,\n",
    "                                 min_impurity_decrease =2\n",
    "                                 )\n",
    "    \n",
    "# Train model\n",
    "model = regressor.fit(X_train, y_train)\n",
    "\n",
    "#Calculo de Errores contra mi set de test\n",
    "pred = model.predict(X_test)\n",
    "dummy_rmsle = RMSLE(y_test, pred)\n",
    "\n",
    "#Calculo de Errores contra mi set de entrenamiento\n",
    "dummy_rmsle_train = RMSLE(y_train, model.predict(X_train) )\n",
    "print(f\"RMSLE Error (train): {dummy_rmsle_train:.5f}\")\n",
    "print(f\"RMSLE Error (Test): {dummy_rmsle:.5f}\")\n",
    "\n",
    "dummy_rmsle = mean_absolute_error(y_test, pred)\n",
    "dummy_rmsle_train = mean_absolute_error(y_train, model.predict(X_train) )\n",
    "\n",
    "print(f\"MAE Error (train): {dummy_rmsle_train:.5f}\")\n",
    "print(f\"MAE Error (Test): {dummy_rmsle:.5f}\")"
   ]
  },
  {
   "cell_type": "markdown",
   "metadata": {},
   "source": [
    "# Modelo : GradientBoostingRegressor"
   ]
  },
  {
   "cell_type": "code",
   "execution_count": 18,
   "metadata": {},
   "outputs": [],
   "source": [
    "from sklearn.ensemble import GradientBoostingRegressor"
   ]
  },
  {
   "cell_type": "code",
   "execution_count": null,
   "metadata": {},
   "outputs": [],
   "source": [
    "#Preparo los datos\n",
    "\n",
    "a = train\n",
    "a = a.replace(cleanup_nums)\n",
    "\n",
    "a['fecha'] = pd.to_datetime(a['fecha'])\n",
    "a['anio'] = a['fecha'].dt.year\n",
    "a['mes'] = a['fecha'].dt.month\n",
    "\n",
    "\n",
    "drop_cols = [ 'ciudad', 'provincia', 'titulo', 'descripcion', 'direccion']\n",
    "a = a.drop(drop_cols, axis=1)\n",
    "\n",
    "#Relleno los nulls\n",
    "a[['tipodepropiedad']] = a[['tipodepropiedad']].fillna(value=6)\n",
    "a[['metroscubiertos']] = a[['metroscubiertos']].fillna(value= (a['metroscubiertos'].max())  )\n",
    "a[['antiguedad']] = a[['antiguedad']].fillna(value= (a['antiguedad'].min()) )\n",
    "a[['habitaciones']] = a[['habitaciones']].fillna(value= (a['habitaciones'].mode()) )\n",
    "a[['banos']] = a[['banos']].fillna(value= (a['habitaciones'].max()))\n",
    "a[['idzona']] = a[['idzona']].fillna(value=(a['idzona'].mode()))\n",
    "a[['garages']] = a[['garages']].fillna(value=(a['garages'].min()))\n",
    "a[['metrostotales']] = a[['metrostotales']].fillna(value=(a['metrostotales'].mean()))\n",
    "a[['lng']] = a[['lng']].fillna(value=(a['lng'].mode()))\n",
    "a[['lat']] = a[['lat']].fillna(value=(a['lat'].mode()))\n",
    "\n",
    "\n",
    "# Load data with only two features\n",
    "\n",
    "X = a[['tipodepropiedad','anio','mes','metrostotales','antiguedad','garages',\n",
    "       'piscina','metroscubiertos','banos','habitaciones','lat','lng','idzona','gimnasio',\n",
    "       'usosmultiples']]\n",
    "y = a['precio']\n",
    "\n",
    "X_train, X_test, y_train, y_test = train_test_split(X, y, test_size=0.25, random_state=1)\n",
    "\n",
    "#Elimino los Nulls en los x de Entrenaniento y cuando voy a testear\n",
    "X_train = X_train.fillna(X_train.mean())\n",
    "X_test = X_test.fillna(X_test.mean())\n",
    "\n",
    "# Create \n",
    "regressor = GradientBoostingRegressor(n_estimators=5,\n",
    "    max_depth=1, random_state=0, loss='ls', criterion ='mae')\n",
    "     \n",
    "    \n",
    "# Train model\n",
    "model = regressor.fit(X_train, y_train)\n",
    "\n",
    "#Calculo de Errores contra mi set de test\n",
    "pred = model.predict(X_test)\n",
    "dummy_rmsle = RMSLE(y_test, pred)\n",
    "\n",
    "#Calculo de Errores contra mi set de entrenamiento\n",
    "dummy_rmsle_train = RMSLE(y_train, model.predict(X_train) )\n",
    "print(f\"RMSLE Error (train): {dummy_rmsle_train:.5f}\")\n",
    "print(f\"RMSLE Error (Test): {dummy_rmsle:.5f}\")\n",
    "\n",
    "dummy_rmsle = mean_absolute_error(y_test, pred)\n",
    "dummy_rmsle_train = mean_absolute_error(y_train, model.predict(X_train) )\n",
    "\n",
    "print(f\"MAE Error (train): {dummy_rmsle_train:.5f}\")\n",
    "print(f\"MAE Error (Test): {dummy_rmsle:.5f}\")"
   ]
  },
  {
   "cell_type": "markdown",
   "metadata": {},
   "source": [
    "# Modelo VotingRegresor"
   ]
  },
  {
   "cell_type": "code",
   "execution_count": 9,
   "metadata": {},
   "outputs": [],
   "source": [
    "\n",
    "from sklearn.linear_model import LinearRegression\n",
    "from sklearn.ensemble import RandomForestRegressor\n",
    "from sklearn.ensemble import VotingRegressor\n",
    "from sklearn.neighbors import KNeighborsRegressor\n",
    "from sklearn.ensemble import GradientBoostingRegressor"
   ]
  },
  {
   "cell_type": "code",
   "execution_count": 11,
   "metadata": {},
   "outputs": [
    {
     "name": "stdout",
     "output_type": "stream",
     "text": [
      "RMSLE Error (train): 0.22130\n",
      "RMSLE Error (Test): 0.36138\n",
      "MAE Error (train): 324046.11078\n",
      "MAE Error (Test): 600385.19296\n"
     ]
    }
   ],
   "source": [
    "# Load data with only two features\n",
    "\n",
    "X = a[['anio','metrostotales','antiguedad','centroscomercialescercanos',\n",
    "       'garages','piscina','metroscubiertos','banos','habitaciones','lat','lng','idzona',\n",
    "       'gimnasio','usosmultiples','tipodepropiedad_1_oh','tipodepropiedad_2_oh',\n",
    "       'tipodepropiedad_3_oh',\n",
    "      'tipodepropiedad_4_oh','tipodepropiedad_5_oh','tipodepropiedad_6_oh','tipodepropiedad_7_oh',\n",
    "      'tipodepropiedad_8_oh','tipodepropiedad_9_oh','tipodepropiedad_10_oh','tipodepropiedad_11_oh',\n",
    "      'tipodepropiedad_12_oh','tipodepropiedad_13_oh','tipodepropiedad_14_oh','tipodepropiedad_15_oh',\n",
    "      'tipodepropiedad_16_oh','tipodepropiedad_17_oh','tipodepropiedad_18_oh','tipodepropiedad_19_oh',\n",
    "      'tipodepropiedad_20_oh','tipodepropiedad_21_oh','tipodepropiedad_22_oh','tipodepropiedad_23_oh',\n",
    "      'tipodepropiedad_24_oh']]\n",
    "y = a['precio']\n",
    "\n",
    "X_train, X_test, y_train, y_test = train_test_split(X, y, test_size=0.25, random_state=1)\n",
    "\n",
    "# Create Modelos\n",
    "\n",
    "\n",
    "r2 = RandomForestRegressor(random_state=0,bootstrap =False,min_samples_leaf=3 ,n_jobs=-1,\n",
    "                           max_depth = 40,max_features = 22 ,min_samples_split = 2 ,\n",
    "                           n_estimators = 400 )\n",
    "\n",
    "r1 = RandomForestRegressor(random_state=0,bootstrap =False,min_samples_leaf=3 ,n_jobs=-1,\n",
    "                           max_depth = 40,max_features = 21 ,min_samples_split = 2 ,\n",
    "                           n_estimators = 400 )\n",
    "\n",
    "r3 = KNeighborsRegressor(100)\n",
    "\n",
    "\n",
    "er = VotingRegressor([('rf', r1),('rf2', r3)],weights =[4,1])\n",
    "     \n",
    "    \n",
    "# Train model\n",
    "model = er.fit(X_train, y_train)\n",
    "\n",
    "#Calculo de Errores contra mi set de test\n",
    "pred = model.predict(X_test)\n",
    "dummy_rmsle = RMSLE(y_test, pred)\n",
    "\n",
    "#Calculo de Errores contra mi set de entrenamiento\n",
    "dummy_rmsle_train = RMSLE(y_train, model.predict(X_train) )\n",
    "print(f\"RMSLE Error (train): {dummy_rmsle_train:.5f}\")\n",
    "print(f\"RMSLE Error (Test): {dummy_rmsle:.5f}\")\n",
    "\n",
    "dummy_rmsle = mean_absolute_error(y_test, pred)\n",
    "dummy_rmsle_train = mean_absolute_error(y_train, model.predict(X_train) )\n",
    "\n",
    "print(f\"MAE Error (train): {dummy_rmsle_train:.5f}\")\n",
    "print(f\"MAE Error (Test): {dummy_rmsle:.5f}\")"
   ]
  },
  {
   "cell_type": "markdown",
   "metadata": {},
   "source": [
    "# 2"
   ]
  },
  {
   "cell_type": "code",
   "execution_count": 1,
   "metadata": {},
   "outputs": [
    {
     "ename": "NameError",
     "evalue": "name 'a' is not defined",
     "output_type": "error",
     "traceback": [
      "\u001b[1;31m---------------------------------------------------------------------------\u001b[0m",
      "\u001b[1;31mNameError\u001b[0m                                 Traceback (most recent call last)",
      "\u001b[1;32m<ipython-input-1-b675cc3cd8ee>\u001b[0m in \u001b[0;36m<module>\u001b[1;34m\u001b[0m\n\u001b[0;32m      1\u001b[0m \u001b[1;31m# Load data with only two features\u001b[0m\u001b[1;33m\u001b[0m\u001b[1;33m\u001b[0m\u001b[1;33m\u001b[0m\u001b[0m\n\u001b[0;32m      2\u001b[0m \u001b[1;33m\u001b[0m\u001b[0m\n\u001b[1;32m----> 3\u001b[1;33m X = a[['metrostotales','antiguedad','centroscomercialescercanos',\n\u001b[0m\u001b[0;32m      4\u001b[0m        \u001b[1;34m'garages'\u001b[0m\u001b[1;33m,\u001b[0m\u001b[1;34m'piscina'\u001b[0m\u001b[1;33m,\u001b[0m\u001b[1;34m'metroscubiertos'\u001b[0m\u001b[1;33m,\u001b[0m\u001b[1;34m'banos'\u001b[0m\u001b[1;33m,\u001b[0m\u001b[1;34m'habitaciones'\u001b[0m\u001b[1;33m,\u001b[0m\u001b[1;34m'lat'\u001b[0m\u001b[1;33m,\u001b[0m\u001b[1;34m'lng'\u001b[0m\u001b[1;33m,\u001b[0m\u001b[1;34m'idzona'\u001b[0m\u001b[1;33m,\u001b[0m\u001b[1;33m\u001b[0m\u001b[1;33m\u001b[0m\u001b[0m\n\u001b[0;32m      5\u001b[0m        \u001b[1;34m'gimnasio'\u001b[0m\u001b[1;33m,\u001b[0m\u001b[1;34m'usosmultiples'\u001b[0m\u001b[1;33m,\u001b[0m\u001b[1;34m'tipodepropiedad_1_oh'\u001b[0m\u001b[1;33m,\u001b[0m\u001b[1;34m'tipodepropiedad_2_oh'\u001b[0m\u001b[1;33m,\u001b[0m\u001b[1;33m\u001b[0m\u001b[1;33m\u001b[0m\u001b[0m\n",
      "\u001b[1;31mNameError\u001b[0m: name 'a' is not defined"
     ]
    }
   ],
   "source": [
    "# Load data with only two features\n",
    "\n",
    "X = a[['anio','metrostotales','antiguedad','centroscomercialescercanos',\n",
    "       'garages','piscina','metroscubiertos','banos','habitaciones','lat','lng','idzona',\n",
    "       'gimnasio','usosmultiples','tipodepropiedad_1_oh','tipodepropiedad_2_oh',\n",
    "       'tipodepropiedad_3_oh',\n",
    "      'tipodepropiedad_4_oh','tipodepropiedad_5_oh','tipodepropiedad_6_oh','tipodepropiedad_7_oh',\n",
    "      'tipodepropiedad_8_oh','tipodepropiedad_9_oh','tipodepropiedad_10_oh','tipodepropiedad_11_oh',\n",
    "      'tipodepropiedad_12_oh','tipodepropiedad_13_oh','tipodepropiedad_14_oh','tipodepropiedad_15_oh',\n",
    "      'tipodepropiedad_16_oh','tipodepropiedad_17_oh','tipodepropiedad_18_oh','tipodepropiedad_19_oh',\n",
    "      'tipodepropiedad_20_oh','tipodepropiedad_21_oh','tipodepropiedad_22_oh','tipodepropiedad_23_oh',\n",
    "      'tipodepropiedad_24_oh']]\n",
    "y = a['precio']\n",
    "\n",
    "X_train, X_test, y_train, y_test = train_test_split(X, y, test_size=0.25, random_state=1)\n",
    "\n",
    "# Create Modelos\n",
    "\n",
    "\n",
    "r2 = RandomForestRegressor(random_state=0,bootstrap =False,min_samples_leaf=3 ,n_jobs=-1,\n",
    "                           max_depth = 40,max_features = 22 ,min_samples_split = 2 ,\n",
    "                           n_estimators = 400 )\n",
    "\n",
    "r1 = RandomForestRegressor(random_state=0,bootstrap =False,min_samples_leaf=3 ,n_jobs=-1,\n",
    "                           max_depth = 40,max_features = 21 ,min_samples_split = 2 ,\n",
    "                           n_estimators = 400 )\n",
    "\n",
    "r3 = KNeighborsRegressor(100)\n",
    "\n",
    "\n",
    "er = VotingRegressor([('rf', r1)],weights =[1])\n",
    "     \n",
    "    \n",
    "# Train model\n",
    "model = er.fit(X_train, y_train)\n",
    "\n",
    "#Calculo de Errores contra mi set de test\n",
    "pred = model.predict(X_test)\n",
    "dummy_rmsle = RMSLE(y_test, pred)\n",
    "\n",
    "#Calculo de Errores contra mi set de entrenamiento\n",
    "dummy_rmsle_train = RMSLE(y_train, model.predict(X_train) )\n",
    "print(f\"RMSLE Error (train): {dummy_rmsle_train:.5f}\")\n",
    "print(f\"RMSLE Error (Test): {dummy_rmsle:.5f}\")"
   ]
  },
  {
   "cell_type": "markdown",
   "metadata": {},
   "source": [
    "# XGBOOST"
   ]
  },
  {
   "cell_type": "code",
   "execution_count": 13,
   "metadata": {},
   "outputs": [],
   "source": [
    "import xgboost as xgb"
   ]
  },
  {
   "cell_type": "code",
   "execution_count": 25,
   "metadata": {},
   "outputs": [
    {
     "name": "stderr",
     "output_type": "stream",
     "text": [
      "C:\\Users\\Giova\\Anaconda3\\lib\\site-packages\\xgboost\\core.py:587: FutureWarning: Series.base is deprecated and will be removed in a future version\n",
      "  if getattr(data, 'base', None) is not None and \\\n"
     ]
    },
    {
     "name": "stdout",
     "output_type": "stream",
     "text": [
      "[18:51:30] WARNING: C:/Jenkins/workspace/xgboost-win64_release_0.90/src/objective/regression_obj.cu:152: reg:linear is now deprecated in favor of reg:squarederror.\n",
      "RMSLE Error (train): 0.53711\n",
      "RMSLE Error (Test): 0.53297\n",
      "MAE Error (train): 1089806.14092\n",
      "MAE Error (Test): 1073217.64467\n"
     ]
    }
   ],
   "source": [
    "# Load data with only two features\n",
    "\n",
    "X = a[['anio','mes','metrostotales','antiguedad','centroscomercialescercanos',\n",
    "       'garages','piscina','metroscubiertos','banos','habitaciones','lat','lng','idzona',\n",
    "       'gimnasio','usosmultiples','tipodepropiedad_1_oh','tipodepropiedad_2_oh',\n",
    "       'tipodepropiedad_3_oh',\n",
    "      'tipodepropiedad_4_oh','tipodepropiedad_5_oh','tipodepropiedad_6_oh','tipodepropiedad_7_oh',\n",
    "      'tipodepropiedad_8_oh','tipodepropiedad_9_oh','tipodepropiedad_10_oh','tipodepropiedad_11_oh',\n",
    "      'tipodepropiedad_12_oh','tipodepropiedad_13_oh','tipodepropiedad_14_oh','tipodepropiedad_15_oh',\n",
    "      'tipodepropiedad_16_oh','tipodepropiedad_17_oh','tipodepropiedad_18_oh','tipodepropiedad_19_oh',\n",
    "      'tipodepropiedad_20_oh','tipodepropiedad_21_oh','tipodepropiedad_22_oh','tipodepropiedad_23_oh',\n",
    "      'tipodepropiedad_24_oh']]\n",
    "y = a['precio']\n",
    "\n",
    "X_train, X_test, y_train, y_test = train_test_split(X, y, test_size=0.25, random_state=1)\n",
    "\n",
    "\n",
    "#convertimos datos a dmatrix\n",
    "data_dmatrix = xgb.DMatrix(data=X_train,label=y_train)\n",
    "\n",
    "#modelo\n",
    "xg_reg = xgb.XGBRegressor(objective ='reg:linear', \n",
    "                colsample_bytree = 0.3, learning_rate = 0.1,\n",
    "                max_depth = 5, alpha = 10, n_estimators = 10)\n",
    "\n",
    "#entreno\n",
    "model = xg_reg.fit(X_train,y_train)\n",
    "\n",
    "#Calculo de Errores contra mi set de test\n",
    "pred = model.predict(X_test)\n",
    "\n",
    "dummy_rmsle = RMSLE(y_test, pred)\n",
    "dummy_rmsle_train = RMSLE(y_train, model.predict(X_train) )\n",
    "print(f\"RMSLE Error (train): {dummy_rmsle_train:.5f}\")\n",
    "print(f\"RMSLE Error (Test): {dummy_rmsle:.5f}\")\n",
    "\n",
    "dummy_rmsle = mean_absolute_error(y_test, pred)\n",
    "dummy_rmsle_train = mean_absolute_error(y_train, model.predict(X_train) )\n",
    "\n",
    "print(f\"MAE Error (train): {dummy_rmsle_train:.5f}\")\n",
    "print(f\"MAE Error (Test): {dummy_rmsle:.5f}\")\n"
   ]
  },
  {
   "cell_type": "code",
   "execution_count": 37,
   "metadata": {},
   "outputs": [
    {
     "name": "stdout",
     "output_type": "stream",
     "text": [
      "[19:06:26] WARNING: C:/Jenkins/workspace/xgboost-win64_release_0.90/src/objective/regression_obj.cu:152: reg:linear is now deprecated in favor of reg:squarederror.\n",
      "[19:06:27] WARNING: C:/Jenkins/workspace/xgboost-win64_release_0.90/src/objective/regression_obj.cu:152: reg:linear is now deprecated in favor of reg:squarederror.\n",
      "[19:06:27] WARNING: C:/Jenkins/workspace/xgboost-win64_release_0.90/src/objective/regression_obj.cu:152: reg:linear is now deprecated in favor of reg:squarederror.\n",
      "[19:06:28] WARNING: C:/Jenkins/workspace/xgboost-win64_release_0.90/src/objective/regression_obj.cu:152: reg:linear is now deprecated in favor of reg:squarederror.\n",
      "[19:06:28] WARNING: C:/Jenkins/workspace/xgboost-win64_release_0.90/src/objective/regression_obj.cu:152: reg:linear is now deprecated in favor of reg:squarederror.\n",
      "[19:06:29] WARNING: C:/Jenkins/workspace/xgboost-win64_release_0.90/src/objective/regression_obj.cu:152: reg:linear is now deprecated in favor of reg:squarederror.\n",
      "[19:06:29] WARNING: C:/Jenkins/workspace/xgboost-win64_release_0.90/src/objective/regression_obj.cu:152: reg:linear is now deprecated in favor of reg:squarederror.\n",
      "[19:06:29] WARNING: C:/Jenkins/workspace/xgboost-win64_release_0.90/src/objective/regression_obj.cu:152: reg:linear is now deprecated in favor of reg:squarederror.\n",
      "[19:06:30] WARNING: C:/Jenkins/workspace/xgboost-win64_release_0.90/src/objective/regression_obj.cu:152: reg:linear is now deprecated in favor of reg:squarederror.\n",
      "[19:06:30] WARNING: C:/Jenkins/workspace/xgboost-win64_release_0.90/src/objective/regression_obj.cu:152: reg:linear is now deprecated in favor of reg:squarederror.\n"
     ]
    }
   ],
   "source": [
    "#cross validation\n",
    "params = {\"objective\":\"reg:linear\",'colsample_bytree': 0.3,\n",
    "          'learning_rate': 0.1, 'max_depth': 5, 'alpha': 10}\n",
    "\n",
    "cv_results = xgb.cv(dtrain=data_dmatrix, params=params, nfold=10,\n",
    "                    num_boost_round=10, early_stopping_rounds=10,\n",
    "                    metrics=\"rmse\", as_pandas=True, seed=123)"
   ]
  },
  {
   "cell_type": "code",
   "execution_count": 40,
   "metadata": {},
   "outputs": [
    {
     "data": {
      "text/html": [
       "<div>\n",
       "<style scoped>\n",
       "    .dataframe tbody tr th:only-of-type {\n",
       "        vertical-align: middle;\n",
       "    }\n",
       "\n",
       "    .dataframe tbody tr th {\n",
       "        vertical-align: top;\n",
       "    }\n",
       "\n",
       "    .dataframe thead th {\n",
       "        text-align: right;\n",
       "    }\n",
       "</style>\n",
       "<table border=\"1\" class=\"dataframe\">\n",
       "  <thead>\n",
       "    <tr style=\"text-align: right;\">\n",
       "      <th></th>\n",
       "      <th>train-rmse-mean</th>\n",
       "      <th>train-rmse-std</th>\n",
       "      <th>test-rmse-mean</th>\n",
       "      <th>test-rmse-std</th>\n",
       "    </tr>\n",
       "  </thead>\n",
       "  <tbody>\n",
       "    <tr>\n",
       "      <td>0</td>\n",
       "      <td>3071101.20</td>\n",
       "      <td>2651.51</td>\n",
       "      <td>3071068.75</td>\n",
       "      <td>24508.47</td>\n",
       "    </tr>\n",
       "    <tr>\n",
       "      <td>1</td>\n",
       "      <td>2861987.92</td>\n",
       "      <td>13132.33</td>\n",
       "      <td>2862488.55</td>\n",
       "      <td>25327.69</td>\n",
       "    </tr>\n",
       "    <tr>\n",
       "      <td>2</td>\n",
       "      <td>2676849.85</td>\n",
       "      <td>21276.95</td>\n",
       "      <td>2677351.85</td>\n",
       "      <td>30523.32</td>\n",
       "    </tr>\n",
       "    <tr>\n",
       "      <td>3</td>\n",
       "      <td>2522175.10</td>\n",
       "      <td>23542.44</td>\n",
       "      <td>2522705.45</td>\n",
       "      <td>29816.63</td>\n",
       "    </tr>\n",
       "    <tr>\n",
       "      <td>4</td>\n",
       "      <td>2384714.12</td>\n",
       "      <td>21129.21</td>\n",
       "      <td>2385403.75</td>\n",
       "      <td>27770.21</td>\n",
       "    </tr>\n",
       "    <tr>\n",
       "      <td>5</td>\n",
       "      <td>2263496.92</td>\n",
       "      <td>13136.16</td>\n",
       "      <td>2264467.33</td>\n",
       "      <td>22975.82</td>\n",
       "    </tr>\n",
       "    <tr>\n",
       "      <td>6</td>\n",
       "      <td>2148835.65</td>\n",
       "      <td>16110.80</td>\n",
       "      <td>2149721.55</td>\n",
       "      <td>18899.04</td>\n",
       "    </tr>\n",
       "    <tr>\n",
       "      <td>7</td>\n",
       "      <td>2054206.27</td>\n",
       "      <td>13379.05</td>\n",
       "      <td>2055328.62</td>\n",
       "      <td>17883.03</td>\n",
       "    </tr>\n",
       "    <tr>\n",
       "      <td>8</td>\n",
       "      <td>1969260.71</td>\n",
       "      <td>19910.36</td>\n",
       "      <td>1970516.36</td>\n",
       "      <td>17527.18</td>\n",
       "    </tr>\n",
       "    <tr>\n",
       "      <td>9</td>\n",
       "      <td>1898279.93</td>\n",
       "      <td>16268.10</td>\n",
       "      <td>1899784.68</td>\n",
       "      <td>16577.63</td>\n",
       "    </tr>\n",
       "  </tbody>\n",
       "</table>\n",
       "</div>"
      ],
      "text/plain": [
       "   train-rmse-mean  train-rmse-std  test-rmse-mean  test-rmse-std\n",
       "0       3071101.20         2651.51      3071068.75       24508.47\n",
       "1       2861987.92        13132.33      2862488.55       25327.69\n",
       "2       2676849.85        21276.95      2677351.85       30523.32\n",
       "3       2522175.10        23542.44      2522705.45       29816.63\n",
       "4       2384714.12        21129.21      2385403.75       27770.21\n",
       "5       2263496.92        13136.16      2264467.33       22975.82\n",
       "6       2148835.65        16110.80      2149721.55       18899.04\n",
       "7       2054206.27        13379.05      2055328.62       17883.03\n",
       "8       1969260.71        19910.36      1970516.36       17527.18\n",
       "9       1898279.93        16268.10      1899784.68       16577.63"
      ]
     },
     "execution_count": 40,
     "metadata": {},
     "output_type": "execute_result"
    }
   ],
   "source": [
    "cv_results"
   ]
  },
  {
   "cell_type": "code",
   "execution_count": 41,
   "metadata": {},
   "outputs": [
    {
     "name": "stdout",
     "output_type": "stream",
     "text": [
      "9   1899784.68\n",
      "Name: test-rmse-mean, dtype: float64\n"
     ]
    }
   ],
   "source": [
    "print((cv_results[\"test-rmse-mean\"]).tail(1))"
   ]
  },
  {
   "cell_type": "markdown",
   "metadata": {},
   "source": [
    "# Red neuronal Clasica Perceptron"
   ]
  },
  {
   "cell_type": "code",
   "execution_count": 42,
   "metadata": {},
   "outputs": [],
   "source": [
    "from sklearn.linear_model import Perceptron"
   ]
  },
  {
   "cell_type": "code",
   "execution_count": null,
   "metadata": {},
   "outputs": [],
   "source": [
    "# Load data with only two features\n",
    "\n",
    "X = a[['anio','mes','metrostotales','antiguedad','centroscomercialescercanos',\n",
    "       'garages','piscina','metroscubiertos','banos','habitaciones','lat','lng','idzona',\n",
    "       'gimnasio','usosmultiples','tipodepropiedad_1_oh','tipodepropiedad_2_oh',\n",
    "       'tipodepropiedad_3_oh',\n",
    "      'tipodepropiedad_4_oh','tipodepropiedad_5_oh','tipodepropiedad_6_oh','tipodepropiedad_7_oh',\n",
    "      'tipodepropiedad_8_oh','tipodepropiedad_9_oh','tipodepropiedad_10_oh','tipodepropiedad_11_oh',\n",
    "      'tipodepropiedad_12_oh','tipodepropiedad_13_oh','tipodepropiedad_14_oh','tipodepropiedad_15_oh',\n",
    "      'tipodepropiedad_16_oh','tipodepropiedad_17_oh','tipodepropiedad_18_oh','tipodepropiedad_19_oh',\n",
    "      'tipodepropiedad_20_oh','tipodepropiedad_21_oh','tipodepropiedad_22_oh','tipodepropiedad_23_oh',\n",
    "      'tipodepropiedad_24_oh']]\n",
    "y = a['precio']\n",
    "\n",
    "X_train, X_test, y_train, y_test = train_test_split(X, y, test_size=0.25, random_state=1)\n",
    "\n",
    "\n",
    "\n",
    "#modelo\n",
    "clf = Perceptron(tol=1e-3, random_state=0)\n",
    "\n",
    "#entreno\n",
    "model = clf.fit(X_train,y_train)\n",
    "\n",
    "#Calculo de Errores contra mi set de test\n",
    "pred = model.predict(X_test)\n",
    "\n",
    "dummy_rmsle = RMSLE(y_test, pred)\n",
    "dummy_rmsle_train = RMSLE(y_train, model.predict(X_train) )\n",
    "\n",
    "print(f\"RMSLE Error (train): {dummy_rmsle_train:.5f}\")\n",
    "print(f\"RMSLE Error (Test): {dummy_rmsle:.5f}\")\n",
    "\n",
    "dummy_rmsle = mean_absolute_error(y_test, pred)\n",
    "dummy_rmsle_train = mean_absolute_error(y_train, model.predict(X_train) )\n",
    "\n",
    "print(f\"MAE Error (train): {dummy_rmsle_train:.5f}\")\n",
    "print(f\"MAE Error (Test): {dummy_rmsle:.5f}\")"
   ]
  },
  {
   "cell_type": "code",
   "execution_count": null,
   "metadata": {},
   "outputs": [],
   "source": []
  }
 ],
 "metadata": {
  "kernelspec": {
   "display_name": "Python 3",
   "language": "python",
   "name": "python3"
  },
  "language_info": {
   "codemirror_mode": {
    "name": "ipython",
    "version": 3
   },
   "file_extension": ".py",
   "mimetype": "text/x-python",
   "name": "python",
   "nbconvert_exporter": "python",
   "pygments_lexer": "ipython3",
   "version": "3.7.3"
  }
 },
 "nbformat": 4,
 "nbformat_minor": 2
}
