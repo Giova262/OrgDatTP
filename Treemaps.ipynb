{
 "cells": [
  {
   "cell_type": "code",
   "execution_count": 133,
   "metadata": {},
   "outputs": [],
   "source": [
    "import pandas as pd\n",
    "import pygal as pg"
   ]
  },
  {
   "cell_type": "code",
   "execution_count": 134,
   "metadata": {},
   "outputs": [],
   "source": [
    "# Importamos librerías de análisis de datos\n",
    "dataframe = pd.read_csv('train.csv')#, index_col='id', parse_dates=['fecha'])"
   ]
  },
  {
   "cell_type": "code",
   "execution_count": 135,
   "metadata": {},
   "outputs": [
    {
     "data": {
      "text/plain": [
       "array(['Distrito Federal', 'Jalisco', 'Edo. de México', 'Oaxaca',\n",
       "       'Quintana Roo', 'Colima', 'San luis Potosí', 'Nuevo León',\n",
       "       'Querétaro', 'Tamaulipas', 'Puebla', 'Yucatán', 'Morelos',\n",
       "       'Guerrero', 'Tabasco', 'Guanajuato', 'Hidalgo', 'Veracruz',\n",
       "       'Chihuahua', 'Aguascalientes', 'Sonora', 'Michoacán',\n",
       "       'Baja California Norte', 'Baja California Sur', 'Coahuila',\n",
       "       'Durango', 'Sinaloa', 'Chiapas', 'Nayarit', 'Tlaxcala', 'Campeche',\n",
       "       'Zacatecas', nan], dtype=object)"
      ]
     },
     "execution_count": 135,
     "metadata": {},
     "output_type": "execute_result"
    }
   ],
   "source": [
    "prov=dataframe['provincia'].unique()\n",
    "prov"
   ]
  },
  {
   "cell_type": "code",
   "execution_count": 136,
   "metadata": {},
   "outputs": [
    {
     "data": {
      "text/plain": [
       "count               239845\n",
       "unique                  32\n",
       "top       Distrito Federal\n",
       "freq                 58790\n",
       "Name: provincia, dtype: object"
      ]
     },
     "execution_count": 136,
     "metadata": {},
     "output_type": "execute_result"
    }
   ],
   "source": [
    "dataframe['provincia'].describe()"
   ]
  },
  {
   "cell_type": "code",
   "execution_count": 137,
   "metadata": {},
   "outputs": [
    {
     "data": {
      "text/plain": [
       "33"
      ]
     },
     "execution_count": 137,
     "metadata": {},
     "output_type": "execute_result"
    }
   ],
   "source": [
    "len(prov)"
   ]
  },
  {
   "cell_type": "code",
   "execution_count": 138,
   "metadata": {},
   "outputs": [],
   "source": [
    "#dataframe[dataframe['provincia']==prov[0]].groupby(['ciudad']).agg({'cantidad':'sum'}).agg({'cantidad':'sum'})"
   ]
  },
  {
   "cell_type": "code",
   "execution_count": 139,
   "metadata": {},
   "outputs": [],
   "source": [
    "dataframe['cantidad']=1.0\n",
    "#treemap = pg.Treemap(print_values=True,print_labels=True)\n",
    "#treemap = pg.Treemap(width=2000,height=1000,print_values=True)\n",
    "treemap = pg.Treemap()\n",
    "treemap.title = 'Cantidad de publicaciones por ciudades de provincias Méxicanas'\n",
    "for i in range(0,len(prov)-1):\n",
    "    #filtro por provincia, agrupo por ciudad, y calculo la cantidad de publicaciones para esa ciudad y provincia, \n",
    "    #cambio los nombres de las columnas ciudad y cantidad por label y value y transformo el dataframe en un diccionario\n",
    "    lista=dataframe[dataframe['provincia']==prov[i]].groupby(['ciudad']).agg({'cantidad':'sum'}).reset_index().rename(columns={'ciudad':'label','cantidad':'value'}).to_dict('record')\n",
    "    treemap.add(prov[i], lista)\n",
    "#treemap.render()\n",
    "treemap.render_to_file('treemap cantidad publicaciones.svg')  # Write the chart in the specified file"
   ]
  },
  {
   "cell_type": "code",
   "execution_count": 140,
   "metadata": {},
   "outputs": [],
   "source": [
    "#tipo=dataframe['tipodepropiedad'].unique()\n",
    "#tipo=['Apartamento', 'Casa en condominio', 'Casa', 'Terreno',\n",
    "#       'Terreno comercial', 'Local Comercial', 'Quinta Vacacional',\n",
    "#       'Oficina comercial', 'Edificio', 'Casa uso de suelo',\n",
    "#       'Local en centro comercial', 'Bodega comercial', 'Otros', 'Villa',\n",
    "#       'Duplex', 'Inmuebles productivos urbanos',\n",
    "#       'Departamento Compartido', 'Nave industrial', 'Rancho',\n",
    "#       'Terreno industrial', 'Huerta', 'Lote', 'Hospedaje', 'Garage']"
   ]
  },
  {
   "cell_type": "code",
   "execution_count": 141,
   "metadata": {},
   "outputs": [],
   "source": [
    "#dataframe['tipodepropiedad'].describe()"
   ]
  },
  {
   "cell_type": "code",
   "execution_count": 142,
   "metadata": {},
   "outputs": [],
   "source": [
    "#lista=dataframe[dataframe['tipodepropiedad']==tipo[0]].groupby(['escuelascercanas']).agg({'cantidad':'sum'}).reset_index().rename(columns={'escuelascercanas':'label','cantidad':'value'}).to_dict('record')\n",
    "#lista"
   ]
  },
  {
   "cell_type": "code",
   "execution_count": 143,
   "metadata": {},
   "outputs": [],
   "source": [
    "dataframe['cantidad']=1.0\n",
    "#treemap = pg.Treemap(print_values=True,print_labels=True)\n",
    "#treemap = pg.Treemap(width=2000,height=1000,print_values=True)\n",
    "treemap = pg.Treemap()\n",
    "treemap.title = 'Cantidad de tipo de propiedades por provincias Méxicanas'\n",
    "for i in range(0,len(prov)-1):\n",
    "    #filtro por provincia, agrupo por tipo de propiedad, y calculo la cantidad de publicaciones para ese tipo de propiedad y provincia, \n",
    "    #cambio los nombres de las columnas tipo de propiedad y cantidad por label y value y transformo el dataframe en un diccionario\n",
    "    lista=dataframe[dataframe['provincia']==prov[i]].groupby(['tipodepropiedad']).agg({'cantidad':'sum'}).reset_index().rename(columns={'tipodepropiedad':'label','cantidad':'value'}).to_dict('record')\n",
    "    treemap.add(prov[i], lista)\n",
    "#treemap.render()\n",
    "treemap.render_to_file('treemap cantidad de tipo de propiedades.svg')  # Write the chart in the specified file"
   ]
  },
  {
   "cell_type": "code",
   "execution_count": 144,
   "metadata": {},
   "outputs": [],
   "source": [
    "remplazo={0.0: 'no', 1.0: 'si'}\n",
    "dataframe=dataframe.replace({'gimnasio': remplazo,'usosmultiples': remplazo,'piscina': remplazo,'escuelascercanas': {0.0: 'escuela lejos', 1.0: 'escuela cerca'},'centroscomercialescercanos': {0.0: 'comercios lejos', 1.0: 'comercios cerca'}})\n",
    "#dataframe"
   ]
  },
  {
   "cell_type": "code",
   "execution_count": 145,
   "metadata": {},
   "outputs": [],
   "source": [
    "#dividir el set de datos en si tienen escuelas cercanas o no, luego subdividir en si tienen centros comerciales cercanos\n",
    "esc=dataframe['escuelascercanas'].unique()\n",
    "dataframe['cantidad']=1.0\n",
    "treemap = pg.Treemap(print_values=True,print_labels=True)\n",
    "#treemap = pg.Treemap(width=2000,height=1000,print_values=True)\n",
    "#treemap = pg.Treemap()\n",
    "treemap.title = 'Cantidad de propiedades según si tienen centros comerciales y escuelas cercanas'\n",
    "for i in range(0,2):\n",
    "    lista=dataframe[dataframe['escuelascercanas']==esc[i]].groupby(['centroscomercialescercanos']).agg({'cantidad':'sum'}).reset_index().rename(columns={'centroscomercialescercanos':'label','cantidad':'value'}).to_dict('record')\n",
    "    treemap.add(esc[i], lista)\n",
    "#treemap.render()\n",
    "treemap.render_to_file('treemap cantidad de propiedades según si tienen centros comerciales y escuelas cercanas.svg')  # Write the chart in the specified file"
   ]
  },
  {
   "cell_type": "code",
   "execution_count": 146,
   "metadata": {},
   "outputs": [],
   "source": [
    "banos={1.0: '1 baño ', 2.0: '2 baños',3.0:'3 baños',4.0:'4 baños'}\n",
    "garages={0.0:'0 garages',1.0: '1 garage ', 2.0: '2 garages',3.0:'3 garages',4.0:'4 garages'}\n",
    "\n",
    "habitaciones={1.0: '1 habitación ', 2.0: '2 habitaciones',3.0:'3 habitaciones',4.0:'4 habitaciones',5.0:'5 habitaciones',6.0:'6 habitaciones',7.0:'7 habitaciones',8.0:'8 habitaciones',9.0:'9 habitaciones',10.0:'10 habitaciones'}\n",
    "\n",
    "dataframe=dataframe.replace({'banos':banos,'habitaciones':habitaciones,'garages':garages})\n",
    "#dataframe"
   ]
  },
  {
   "cell_type": "code",
   "execution_count": 147,
   "metadata": {},
   "outputs": [
    {
     "data": {
      "text/plain": [
       "2 garages    94167\n",
       "1 garage     59464\n",
       "0 garages    26926\n",
       "3 garages    21678\n",
       "Name: garages, dtype: int64"
      ]
     },
     "execution_count": 147,
     "metadata": {},
     "output_type": "execute_result"
    }
   ],
   "source": [
    "dataframe['garages'].value_counts()"
   ]
  },
  {
   "cell_type": "code",
   "execution_count": 148,
   "metadata": {},
   "outputs": [
    {
     "data": {
      "text/plain": [
       "3 habitaciones     121887\n",
       "2 habitaciones      57808\n",
       "4 habitaciones      25068\n",
       "1 habitación         5069\n",
       "5 habitaciones       4596\n",
       "6 habitaciones       1669\n",
       "7 habitaciones        539\n",
       "8 habitaciones        398\n",
       "10 habitaciones       316\n",
       "9 habitaciones        179\n",
       "Name: habitaciones, dtype: int64"
      ]
     },
     "execution_count": 148,
     "metadata": {},
     "output_type": "execute_result"
    }
   ],
   "source": [
    "dataframe['habitaciones'].value_counts()"
   ]
  },
  {
   "cell_type": "code",
   "execution_count": 149,
   "metadata": {},
   "outputs": [
    {
     "data": {
      "text/plain": [
       "2 baños    87683\n",
       "1 baño     58173\n",
       "3 baños    49365\n",
       "4 baños    18558\n",
       "Name: banos, dtype: int64"
      ]
     },
     "execution_count": 149,
     "metadata": {},
     "output_type": "execute_result"
    }
   ],
   "source": [
    "dataframe['banos'].value_counts()"
   ]
  },
  {
   "cell_type": "code",
   "execution_count": 150,
   "metadata": {},
   "outputs": [],
   "source": [
    "hab=['1 habitaciones ','2 habitaciones', '3 habitaciones', '4 habitaciones',\n",
    "     '5 habitaciones', '6 habitaciones','7 habitaciones','8 habitaciones', '9 habitaciones', '10 habitaciones']\n",
    "ban=['1 baño ','2 baños',  '3 baños', '4 baños']\n",
    "gar=['0 garages','1 garage ','2 garages',  '3 garages']"
   ]
  },
  {
   "cell_type": "code",
   "execution_count": 151,
   "metadata": {},
   "outputs": [],
   "source": [
    "dataframe['cantidad']=1\n",
    "treemap = pg.Treemap(print_values=True,print_labels=True)\n",
    "#treemap = pg.Treemap(width=2000,height=1000,print_values=True)\n",
    "#treemap = pg.Treemap()\n",
    "treemap.title = 'Cantidad de propiedades según cuantos baños y garages tienen'\n",
    "for i in range(0,len(ban)):\n",
    "    lista=dataframe[dataframe['banos']==ban[i]].groupby(['garages']).agg({'cantidad':'sum'}).reset_index().rename(columns={'garages':'label','cantidad':'value'}).to_dict('record')\n",
    "    treemap.add(ban[i], lista)\n",
    "#treemap.render()\n",
    "treemap.render_to_file('treemap de cantidad de propiedades según cantidad de baños y garages.svg')  # Write the chart in the specified file"
   ]
  },
  {
   "cell_type": "code",
   "execution_count": 152,
   "metadata": {},
   "outputs": [],
   "source": [
    "#prov1=['Distrito Federal', 'Jalisco', 'Edo. de México', 'San luis Potosí', 'Nuevo León',\n",
    "#       'Querétaro', 'Puebla', 'Yucatán', 'Morelos']\n",
    "#dataframe['cantidad']=1.0\n",
    "#treemap = pg.Treemap(print_values=True,print_labels=True)\n",
    "##treemap = pg.Treemap()\n",
    "#treemap.title = 'Cantidad de publicaciones por ciudades de provincias Méxicanas'\n",
    "#for i in range(0,len(prov1)-1):\n",
    "#    #filtro por provincia, agrupo por ciudad, y calculo la cantidad de publicaciones para esa ciudad y provincia, \n",
    "#    #cambio los nombres de las columnas ciudad y cantidad por label y value y transformo el dataframe en un diccionario\n",
    "#    lista=dataframe[dataframe['provincia']==prov1[i]].groupby(['ciudad']).agg({'cantidad':'sum'}).reset_index().rename(columns={'ciudad':'label','cantidad':'value'}).to_dict('record')\n",
    "#    treemap.add(prov1[i], lista)\n",
    "##treemap.render()\n",
    "#treemap.render_to_file('treemap cantidad publicaciones1.svg')  # Write the chart in the specified file"
   ]
  },
  {
   "cell_type": "code",
   "execution_count": null,
   "metadata": {},
   "outputs": [],
   "source": []
  }
 ],
 "metadata": {
  "kernelspec": {
   "display_name": "Python 3",
   "language": "python",
   "name": "python3"
  },
  "language_info": {
   "codemirror_mode": {
    "name": "ipython",
    "version": 3
   },
   "file_extension": ".py",
   "mimetype": "text/x-python",
   "name": "python",
   "nbconvert_exporter": "python",
   "pygments_lexer": "ipython3",
   "version": "3.7.3"
  }
 },
 "nbformat": 4,
 "nbformat_minor": 2
}
